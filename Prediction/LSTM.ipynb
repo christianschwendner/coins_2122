{
 "cells": [
  {
   "cell_type": "code",
   "execution_count": 69,
   "id": "d10ee241",
   "metadata": {},
   "outputs": [
    {
     "ename": "ModuleNotFoundError",
     "evalue": "No module named 'tensorflow'",
     "output_type": "error",
     "traceback": [
      "\u001b[1;31m---------------------------------------------------------------------------\u001b[0m",
      "\u001b[1;31mModuleNotFoundError\u001b[0m                       Traceback (most recent call last)",
      "Input \u001b[1;32mIn [69]\u001b[0m, in \u001b[0;36m<module>\u001b[1;34m\u001b[0m\n\u001b[0;32m      3\u001b[0m \u001b[38;5;28;01mimport\u001b[39;00m \u001b[38;5;21;01mpandas\u001b[39;00m \u001b[38;5;28;01mas\u001b[39;00m \u001b[38;5;21;01mpd\u001b[39;00m\n\u001b[0;32m      4\u001b[0m \u001b[38;5;28;01mfrom\u001b[39;00m \u001b[38;5;21;01msklearn\u001b[39;00m\u001b[38;5;21;01m.\u001b[39;00m\u001b[38;5;21;01mpreprocessing\u001b[39;00m \u001b[38;5;28;01mimport\u001b[39;00m MinMaxScaler\n\u001b[1;32m----> 6\u001b[0m \u001b[38;5;28;01mfrom\u001b[39;00m \u001b[38;5;21;01mtensorflow\u001b[39;00m\u001b[38;5;21;01m.\u001b[39;00m\u001b[38;5;21;01mkeras\u001b[39;00m \u001b[38;5;28;01mimport\u001b[39;00m Sequential\n\u001b[0;32m      7\u001b[0m \u001b[38;5;28;01mfrom\u001b[39;00m \u001b[38;5;21;01mtensorflow\u001b[39;00m\u001b[38;5;21;01m.\u001b[39;00m\u001b[38;5;21;01mkeras\u001b[39;00m\u001b[38;5;21;01m.\u001b[39;00m\u001b[38;5;21;01mlayers\u001b[39;00m \u001b[38;5;28;01mimport\u001b[39;00m Dense, LSTM, Dropout\n",
      "\u001b[1;31mModuleNotFoundError\u001b[0m: No module named 'tensorflow'"
     ]
    }
   ],
   "source": [
    "import numpy as np\n",
    "import matplotlib.pyplot as plt\n",
    "import pandas as pd\n",
    "from sklearn.preprocessing import MinMaxScaler\n",
    "\n",
    "from tensorflow.keras import Sequential\n",
    "from tensorflow.keras.layers import Dense, LSTM, Dropout"
   ]
  },
  {
   "cell_type": "code",
   "execution_count": 48,
   "id": "de820669",
   "metadata": {},
   "outputs": [
    {
     "data": {
      "text/html": [
       "<div>\n",
       "<style scoped>\n",
       "    .dataframe tbody tr th:only-of-type {\n",
       "        vertical-align: middle;\n",
       "    }\n",
       "\n",
       "    .dataframe tbody tr th {\n",
       "        vertical-align: top;\n",
       "    }\n",
       "\n",
       "    .dataframe thead th {\n",
       "        text-align: right;\n",
       "    }\n",
       "</style>\n",
       "<table border=\"1\" class=\"dataframe\">\n",
       "  <thead>\n",
       "    <tr style=\"text-align: right;\">\n",
       "      <th></th>\n",
       "      <th>Datum</th>\n",
       "      <th>Zuletzt</th>\n",
       "      <th>Eröffn.</th>\n",
       "      <th>Hoch</th>\n",
       "      <th>Tief</th>\n",
       "      <th>Vol.</th>\n",
       "      <th>+/- %</th>\n",
       "    </tr>\n",
       "  </thead>\n",
       "  <tbody>\n",
       "    <tr>\n",
       "      <th>703</th>\n",
       "      <td>05.01.2020</td>\n",
       "      <td>7.372,5</td>\n",
       "      <td>7.376,8</td>\n",
       "      <td>7.501,0</td>\n",
       "      <td>7.345,6</td>\n",
       "      <td>628,14K</td>\n",
       "      <td>-0,06%</td>\n",
       "    </tr>\n",
       "    <tr>\n",
       "      <th>704</th>\n",
       "      <td>04.01.2020</td>\n",
       "      <td>7.376,8</td>\n",
       "      <td>7.345,1</td>\n",
       "      <td>7.433,1</td>\n",
       "      <td>7.291,4</td>\n",
       "      <td>523,91K</td>\n",
       "      <td>0,46%</td>\n",
       "    </tr>\n",
       "    <tr>\n",
       "      <th>705</th>\n",
       "      <td>03.01.2020</td>\n",
       "      <td>7.343,1</td>\n",
       "      <td>6.967,1</td>\n",
       "      <td>7.402,9</td>\n",
       "      <td>6.884,1</td>\n",
       "      <td>936,29K</td>\n",
       "      <td>5,40%</td>\n",
       "    </tr>\n",
       "    <tr>\n",
       "      <th>706</th>\n",
       "      <td>02.01.2020</td>\n",
       "      <td>6.967,0</td>\n",
       "      <td>7.199,7</td>\n",
       "      <td>7.209,6</td>\n",
       "      <td>6.901,4</td>\n",
       "      <td>632,78K</td>\n",
       "      <td>-3,23%</td>\n",
       "    </tr>\n",
       "    <tr>\n",
       "      <th>707</th>\n",
       "      <td>01.01.2020</td>\n",
       "      <td>7.199,8</td>\n",
       "      <td>7.196,4</td>\n",
       "      <td>7.259,4</td>\n",
       "      <td>7.180,0</td>\n",
       "      <td>420,28K</td>\n",
       "      <td>0,05%</td>\n",
       "    </tr>\n",
       "  </tbody>\n",
       "</table>\n",
       "</div>"
      ],
      "text/plain": [
       "          Datum  Zuletzt  Eröffn.     Hoch     Tief     Vol.   +/- %\n",
       "703  05.01.2020  7.372,5  7.376,8  7.501,0  7.345,6  628,14K  -0,06%\n",
       "704  04.01.2020  7.376,8  7.345,1  7.433,1  7.291,4  523,91K   0,46%\n",
       "705  03.01.2020  7.343,1  6.967,1  7.402,9  6.884,1  936,29K   5,40%\n",
       "706  02.01.2020  6.967,0  7.199,7  7.209,6  6.901,4  632,78K  -3,23%\n",
       "707  01.01.2020  7.199,8  7.196,4  7.259,4  7.180,0  420,28K   0,05%"
      ]
     },
     "execution_count": 48,
     "metadata": {},
     "output_type": "execute_result"
    }
   ],
   "source": [
    "data = pd.read_csv('../Crypto_data/BITCOIN_Data.csv', date_parser = True)\n",
    "data.tail()"
   ]
  },
  {
   "cell_type": "code",
   "execution_count": 54,
   "id": "16dba795",
   "metadata": {},
   "outputs": [],
   "source": [
    "data.rename(columns={'Datum':'Date', 'Eröffn.':'Open', 'Hoch':'High',\n",
    "                     'Tief':'Low', 'Vol.':'Volume', 'Zuletzt':'Adj Close'}, inplace=True)\n",
    "data.drop('+/- %', axis=1, inplace=True)"
   ]
  },
  {
   "cell_type": "code",
   "execution_count": 55,
   "id": "92a5fd71",
   "metadata": {},
   "outputs": [],
   "source": [
    "for column in data.drop(columns=['Date', 'Volume']).columns:\n",
    "    data[column] = [float(str(i).replace(\",\", \"\")) for i in data[column]]\n",
    "    \n",
    "data['Volume'] = [str(i).replace(\",\", \"\") for i in data['Volume']]"
   ]
  },
  {
   "cell_type": "code",
   "execution_count": 56,
   "id": "4057ddd9",
   "metadata": {},
   "outputs": [
    {
     "data": {
      "text/html": [
       "<div>\n",
       "<style scoped>\n",
       "    .dataframe tbody tr th:only-of-type {\n",
       "        vertical-align: middle;\n",
       "    }\n",
       "\n",
       "    .dataframe tbody tr th {\n",
       "        vertical-align: top;\n",
       "    }\n",
       "\n",
       "    .dataframe thead th {\n",
       "        text-align: right;\n",
       "    }\n",
       "</style>\n",
       "<table border=\"1\" class=\"dataframe\">\n",
       "  <thead>\n",
       "    <tr style=\"text-align: right;\">\n",
       "      <th></th>\n",
       "      <th>Date</th>\n",
       "      <th>Adj Close</th>\n",
       "      <th>Open</th>\n",
       "      <th>High</th>\n",
       "      <th>Low</th>\n",
       "      <th>Volume</th>\n",
       "    </tr>\n",
       "  </thead>\n",
       "  <tbody>\n",
       "    <tr>\n",
       "      <th>0</th>\n",
       "      <td>08.12.2021</td>\n",
       "      <td>50.4971</td>\n",
       "      <td>50.5966</td>\n",
       "      <td>50.7991</td>\n",
       "      <td>50.0909</td>\n",
       "      <td>4886000.0</td>\n",
       "    </tr>\n",
       "    <tr>\n",
       "      <th>1</th>\n",
       "      <td>07.12.2021</td>\n",
       "      <td>50.5952</td>\n",
       "      <td>50.5474</td>\n",
       "      <td>51.9186</td>\n",
       "      <td>50.0709</td>\n",
       "      <td>5629000.0</td>\n",
       "    </tr>\n",
       "    <tr>\n",
       "      <th>2</th>\n",
       "      <td>06.12.2021</td>\n",
       "      <td>50.5621</td>\n",
       "      <td>49.4121</td>\n",
       "      <td>50.9133</td>\n",
       "      <td>47.2379</td>\n",
       "      <td>8968000.0</td>\n",
       "    </tr>\n",
       "    <tr>\n",
       "      <th>3</th>\n",
       "      <td>05.12.2021</td>\n",
       "      <td>49.4055</td>\n",
       "      <td>49.1964</td>\n",
       "      <td>49.6893</td>\n",
       "      <td>47.7978</td>\n",
       "      <td>7203000.0</td>\n",
       "    </tr>\n",
       "    <tr>\n",
       "      <th>4</th>\n",
       "      <td>04.12.2021</td>\n",
       "      <td>49.1952</td>\n",
       "      <td>53.6207</td>\n",
       "      <td>53.8472</td>\n",
       "      <td>42.5878</td>\n",
       "      <td>16800000.0</td>\n",
       "    </tr>\n",
       "    <tr>\n",
       "      <th>...</th>\n",
       "      <td>...</td>\n",
       "      <td>...</td>\n",
       "      <td>...</td>\n",
       "      <td>...</td>\n",
       "      <td>...</td>\n",
       "      <td>...</td>\n",
       "    </tr>\n",
       "    <tr>\n",
       "      <th>703</th>\n",
       "      <td>05.01.2020</td>\n",
       "      <td>7.3725</td>\n",
       "      <td>7.3768</td>\n",
       "      <td>7.5010</td>\n",
       "      <td>7.3456</td>\n",
       "      <td>62814000.0</td>\n",
       "    </tr>\n",
       "    <tr>\n",
       "      <th>704</th>\n",
       "      <td>04.01.2020</td>\n",
       "      <td>7.3768</td>\n",
       "      <td>7.3451</td>\n",
       "      <td>7.4331</td>\n",
       "      <td>7.2914</td>\n",
       "      <td>52391000.0</td>\n",
       "    </tr>\n",
       "    <tr>\n",
       "      <th>705</th>\n",
       "      <td>03.01.2020</td>\n",
       "      <td>7.3431</td>\n",
       "      <td>6.9671</td>\n",
       "      <td>7.4029</td>\n",
       "      <td>6.8841</td>\n",
       "      <td>93629000.0</td>\n",
       "    </tr>\n",
       "    <tr>\n",
       "      <th>706</th>\n",
       "      <td>02.01.2020</td>\n",
       "      <td>6.9670</td>\n",
       "      <td>7.1997</td>\n",
       "      <td>7.2096</td>\n",
       "      <td>6.9014</td>\n",
       "      <td>63278000.0</td>\n",
       "    </tr>\n",
       "    <tr>\n",
       "      <th>707</th>\n",
       "      <td>01.01.2020</td>\n",
       "      <td>7.1998</td>\n",
       "      <td>7.1964</td>\n",
       "      <td>7.2594</td>\n",
       "      <td>7.1800</td>\n",
       "      <td>42028000.0</td>\n",
       "    </tr>\n",
       "  </tbody>\n",
       "</table>\n",
       "<p>708 rows × 6 columns</p>\n",
       "</div>"
      ],
      "text/plain": [
       "           Date  Adj Close     Open     High      Low      Volume\n",
       "0    08.12.2021    50.4971  50.5966  50.7991  50.0909   4886000.0\n",
       "1    07.12.2021    50.5952  50.5474  51.9186  50.0709   5629000.0\n",
       "2    06.12.2021    50.5621  49.4121  50.9133  47.2379   8968000.0\n",
       "3    05.12.2021    49.4055  49.1964  49.6893  47.7978   7203000.0\n",
       "4    04.12.2021    49.1952  53.6207  53.8472  42.5878  16800000.0\n",
       "..          ...        ...      ...      ...      ...         ...\n",
       "703  05.01.2020     7.3725   7.3768   7.5010   7.3456  62814000.0\n",
       "704  04.01.2020     7.3768   7.3451   7.4331   7.2914  52391000.0\n",
       "705  03.01.2020     7.3431   6.9671   7.4029   6.8841  93629000.0\n",
       "706  02.01.2020     6.9670   7.1997   7.2096   6.9014  63278000.0\n",
       "707  01.01.2020     7.1998   7.1964   7.2594   7.1800  42028000.0\n",
       "\n",
       "[708 rows x 6 columns]"
      ]
     },
     "execution_count": 56,
     "metadata": {},
     "output_type": "execute_result"
    }
   ],
   "source": [
    "data"
   ]
  },
  {
   "cell_type": "code",
   "execution_count": 57,
   "id": "d453c068",
   "metadata": {},
   "outputs": [],
   "source": [
    "def value_to_float(x):\n",
    "    if type(x) == float or type(x) == int:\n",
    "        return x\n",
    "    if 'K' in x:\n",
    "        if len(x) > 1:\n",
    "            return float(x.replace('K', '')) * 1000\n",
    "        return 1000.0\n",
    "    if 'M' in x:\n",
    "        if len(x) > 1:\n",
    "            return float(x.replace('M', '')) * 1000000\n",
    "        return 1000000.0\n",
    "    if 'B' in x:\n",
    "        return float(x.replace('B', '')) * 1000000000\n",
    "    return 0.0\n",
    "\n",
    "data['Volume'] = data['Volume'].apply(value_to_float)"
   ]
  },
  {
   "cell_type": "code",
   "execution_count": 58,
   "id": "2fb8ea07",
   "metadata": {},
   "outputs": [],
   "source": [
    "data_training = data[data['Date']< '2020-01-01'].copy()\n",
    "data_test = data[data['Date']< '2020-01-01'].copy()"
   ]
  },
  {
   "cell_type": "code",
   "execution_count": 59,
   "id": "04751a6c",
   "metadata": {},
   "outputs": [
    {
     "data": {
      "text/html": [
       "<div>\n",
       "<style scoped>\n",
       "    .dataframe tbody tr th:only-of-type {\n",
       "        vertical-align: middle;\n",
       "    }\n",
       "\n",
       "    .dataframe tbody tr th {\n",
       "        vertical-align: top;\n",
       "    }\n",
       "\n",
       "    .dataframe thead th {\n",
       "        text-align: right;\n",
       "    }\n",
       "</style>\n",
       "<table border=\"1\" class=\"dataframe\">\n",
       "  <thead>\n",
       "    <tr style=\"text-align: right;\">\n",
       "      <th></th>\n",
       "      <th>Open</th>\n",
       "      <th>High</th>\n",
       "      <th>Low</th>\n",
       "      <th>Volume</th>\n",
       "    </tr>\n",
       "  </thead>\n",
       "  <tbody>\n",
       "    <tr>\n",
       "      <th>0</th>\n",
       "      <td>50.5966</td>\n",
       "      <td>50.7991</td>\n",
       "      <td>50.0909</td>\n",
       "      <td>0.0</td>\n",
       "    </tr>\n",
       "    <tr>\n",
       "      <th>1</th>\n",
       "      <td>50.5474</td>\n",
       "      <td>51.9186</td>\n",
       "      <td>50.0709</td>\n",
       "      <td>0.0</td>\n",
       "    </tr>\n",
       "    <tr>\n",
       "      <th>2</th>\n",
       "      <td>49.4121</td>\n",
       "      <td>50.9133</td>\n",
       "      <td>47.2379</td>\n",
       "      <td>0.0</td>\n",
       "    </tr>\n",
       "    <tr>\n",
       "      <th>3</th>\n",
       "      <td>49.1964</td>\n",
       "      <td>49.6893</td>\n",
       "      <td>47.7978</td>\n",
       "      <td>0.0</td>\n",
       "    </tr>\n",
       "    <tr>\n",
       "      <th>4</th>\n",
       "      <td>53.6207</td>\n",
       "      <td>53.8472</td>\n",
       "      <td>42.5878</td>\n",
       "      <td>0.0</td>\n",
       "    </tr>\n",
       "  </tbody>\n",
       "</table>\n",
       "</div>"
      ],
      "text/plain": [
       "      Open     High      Low  Volume\n",
       "0  50.5966  50.7991  50.0909     0.0\n",
       "1  50.5474  51.9186  50.0709     0.0\n",
       "2  49.4121  50.9133  47.2379     0.0\n",
       "3  49.1964  49.6893  47.7978     0.0\n",
       "4  53.6207  53.8472  42.5878     0.0"
      ]
     },
     "execution_count": 59,
     "metadata": {},
     "output_type": "execute_result"
    }
   ],
   "source": [
    "training_data = data_training.drop(['Date', 'Adj Close'], axis = 1)\n",
    "training_data.head()"
   ]
  },
  {
   "cell_type": "code",
   "execution_count": 61,
   "id": "b4448d4b",
   "metadata": {
    "scrolled": true
   },
   "outputs": [
    {
     "data": {
      "text/plain": [
       "array([[0.73000869, 0.71406589, 0.73995204, 0.        ],\n",
       "       [0.72922417, 0.73166219, 0.73963186, 0.        ],\n",
       "       [0.71112121, 0.71586088, 0.69427875, 0.        ],\n",
       "       ...,\n",
       "       [0.03431319, 0.03196414, 0.04826032, 0.        ],\n",
       "       [0.03802212, 0.02892585, 0.04853727, 0.        ],\n",
       "       [0.0379695 , 0.0297086 , 0.05299734, 0.        ]])"
      ]
     },
     "execution_count": 61,
     "metadata": {},
     "output_type": "execute_result"
    }
   ],
   "source": [
    "# MinMaxScaler is used to normalize the data\n",
    "scaler = MinMaxScaler()\n",
    "training_data = scaler.fit_transform(training_data)\n",
    "training_data"
   ]
  },
  {
   "cell_type": "code",
   "execution_count": 62,
   "id": "1ffe16eb",
   "metadata": {},
   "outputs": [],
   "source": [
    "X_train = [] \n",
    "Y_train = []"
   ]
  },
  {
   "cell_type": "code",
   "execution_count": 63,
   "id": "5bdd1777",
   "metadata": {},
   "outputs": [
    {
     "data": {
      "text/plain": [
       "468"
      ]
     },
     "execution_count": 63,
     "metadata": {},
     "output_type": "execute_result"
    }
   ],
   "source": [
    "training_data.shape[0]"
   ]
  },
  {
   "cell_type": "code",
   "execution_count": 65,
   "id": "3153a3e8",
   "metadata": {},
   "outputs": [],
   "source": [
    "for i in range(60, training_data.shape[0]):\n",
    "    X_train.append(training_data[i-60:i])"
   ]
  },
  {
   "cell_type": "code",
   "execution_count": 66,
   "id": "25d87f3f",
   "metadata": {},
   "outputs": [],
   "source": [
    "Y_train.append(training_data[i,0])"
   ]
  },
  {
   "cell_type": "code",
   "execution_count": 67,
   "id": "28489aa3",
   "metadata": {},
   "outputs": [
    {
     "data": {
      "text/plain": [
       "(408, 60, 4)"
      ]
     },
     "execution_count": 67,
     "metadata": {},
     "output_type": "execute_result"
    }
   ],
   "source": [
    "X_train, Y_train = np.array(X_train), np.array(Y_train)\n",
    "X_train.shape"
   ]
  },
  {
   "cell_type": "code",
   "execution_count": null,
   "id": "836ab35f",
   "metadata": {},
   "outputs": [],
   "source": []
  }
 ],
 "metadata": {
  "kernelspec": {
   "display_name": "Python 3 (ipykernel)",
   "language": "python",
   "name": "python3"
  },
  "language_info": {
   "codemirror_mode": {
    "name": "ipython",
    "version": 3
   },
   "file_extension": ".py",
   "mimetype": "text/x-python",
   "name": "python",
   "nbconvert_exporter": "python",
   "pygments_lexer": "ipython3",
   "version": "3.8.12"
  },
  "toc": {
   "base_numbering": 1,
   "nav_menu": {},
   "number_sections": true,
   "sideBar": true,
   "skip_h1_title": false,
   "title_cell": "Table of Contents",
   "title_sidebar": "Contents",
   "toc_cell": false,
   "toc_position": {},
   "toc_section_display": true,
   "toc_window_display": false
  },
  "varInspector": {
   "cols": {
    "lenName": 16,
    "lenType": 16,
    "lenVar": 40
   },
   "kernels_config": {
    "python": {
     "delete_cmd_postfix": "",
     "delete_cmd_prefix": "del ",
     "library": "var_list.py",
     "varRefreshCmd": "print(var_dic_list())"
    },
    "r": {
     "delete_cmd_postfix": ") ",
     "delete_cmd_prefix": "rm(",
     "library": "var_list.r",
     "varRefreshCmd": "cat(var_dic_list()) "
    }
   },
   "types_to_exclude": [
    "module",
    "function",
    "builtin_function_or_method",
    "instance",
    "_Feature"
   ],
   "window_display": false
  }
 },
 "nbformat": 4,
 "nbformat_minor": 5
}
