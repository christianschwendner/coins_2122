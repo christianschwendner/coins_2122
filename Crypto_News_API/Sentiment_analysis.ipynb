{
 "cells": [
  {
   "cell_type": "code",
   "execution_count": 3,
   "id": "ee0a0a4d",
   "metadata": {},
   "outputs": [],
   "source": [
    "import pandas as pd\n",
    "import os\n",
    "import glob"
   ]
  },
  {
   "cell_type": "code",
   "execution_count": 24,
   "id": "7de7c7cc",
   "metadata": {},
   "outputs": [
    {
     "name": "stdout",
     "output_type": "stream",
     "text": [
      "File Name: 2021-11-05_2021-11-08_articles_all.xlsx\n",
      "File Name: 2021-11-09_2021-11-12_articles_all.xlsx\n",
      "File Name: 2021-11-13_2021-11-16_articles_all.xlsx\n",
      "File Name: 2021-11-17_2021-11-20_articles_all.xlsx\n",
      "File Name: 2021-11-21_2021-11-24_articles_all.xlsx\n",
      "File Name: 2021-11-25_2021-11-28_articles_all.xlsx\n",
      "File Name: 2021-11-29_2021-12-02_articles_all.xlsx\n",
      "File Name: 2021-12-03_2021-12-05_articles_all.xlsx\n"
     ]
    }
   ],
   "source": [
    "# use glob to get all the excel files\n",
    "# in the folder\n",
    "path = os.getcwd()\n",
    "excel_files = glob.glob(os.path.join(\"output\", \"*.xlsx\"))\n",
    "  \n",
    "  \n",
    "# loop over the list of excel files\n",
    "appended_data = []\n",
    "for f in excel_files:\n",
    "    \n",
    "    # read the excel file\n",
    "    df = pd.read_excel(f)\n",
    "    # store DataFrame in list\n",
    "    appended_data.append(df)\n",
    "      \n",
    "    # print the filename\n",
    "    print('File Name:', f.split(\"\\\\\")[-1])\n",
    "    \n",
    "\n",
    "all_articles_df = pd.concat(appended_data, ignore_index=True)\n",
    "all_articles_df['publishedAt'] = pd.to_datetime(all_articles_df['publishedAt'])"
   ]
  },
  {
   "cell_type": "code",
   "execution_count": null,
   "id": "3f94c116",
   "metadata": {},
   "outputs": [],
   "source": []
  }
 ],
 "metadata": {
  "kernelspec": {
   "display_name": "Python 3 (ipykernel)",
   "language": "python",
   "name": "python3"
  },
  "language_info": {
   "codemirror_mode": {
    "name": "ipython",
    "version": 3
   },
   "file_extension": ".py",
   "mimetype": "text/x-python",
   "name": "python",
   "nbconvert_exporter": "python",
   "pygments_lexer": "ipython3",
   "version": "3.8.12"
  },
  "toc": {
   "base_numbering": 1,
   "nav_menu": {},
   "number_sections": true,
   "sideBar": true,
   "skip_h1_title": false,
   "title_cell": "Table of Contents",
   "title_sidebar": "Contents",
   "toc_cell": false,
   "toc_position": {},
   "toc_section_display": true,
   "toc_window_display": false
  },
  "varInspector": {
   "cols": {
    "lenName": 16,
    "lenType": 16,
    "lenVar": 40
   },
   "kernels_config": {
    "python": {
     "delete_cmd_postfix": "",
     "delete_cmd_prefix": "del ",
     "library": "var_list.py",
     "varRefreshCmd": "print(var_dic_list())"
    },
    "r": {
     "delete_cmd_postfix": ") ",
     "delete_cmd_prefix": "rm(",
     "library": "var_list.r",
     "varRefreshCmd": "cat(var_dic_list()) "
    }
   },
   "types_to_exclude": [
    "module",
    "function",
    "builtin_function_or_method",
    "instance",
    "_Feature"
   ],
   "window_display": false
  }
 },
 "nbformat": 4,
 "nbformat_minor": 5
}
