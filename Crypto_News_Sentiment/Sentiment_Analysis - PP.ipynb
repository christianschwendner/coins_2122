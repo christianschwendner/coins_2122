{
 "cells": [
  {
   "cell_type": "code",
   "execution_count": 36,
   "id": "3ef363dc",
   "metadata": {},
   "outputs": [],
   "source": [
    "import pandas  as pd\n",
    "pd.options.display.max_colwidth = 1000"
   ]
  },
  {
   "cell_type": "markdown",
   "id": "c135a750",
   "metadata": {},
   "source": [
    "# Train data"
   ]
  },
  {
   "cell_type": "markdown",
   "id": "610ce025",
   "metadata": {},
   "source": [
    "## Importing"
   ]
  },
  {
   "cell_type": "code",
   "execution_count": 37,
   "id": "6bcf549a",
   "metadata": {},
   "outputs": [
    {
     "data": {
      "text/html": [
       "<div>\n",
       "<style scoped>\n",
       "    .dataframe tbody tr th:only-of-type {\n",
       "        vertical-align: middle;\n",
       "    }\n",
       "\n",
       "    .dataframe tbody tr th {\n",
       "        vertical-align: top;\n",
       "    }\n",
       "\n",
       "    .dataframe thead th {\n",
       "        text-align: right;\n",
       "    }\n",
       "</style>\n",
       "<table border=\"1\" class=\"dataframe\">\n",
       "  <thead>\n",
       "    <tr style=\"text-align: right;\">\n",
       "      <th></th>\n",
       "      <th>0</th>\n",
       "      <th>1</th>\n",
       "    </tr>\n",
       "  </thead>\n",
       "  <tbody>\n",
       "    <tr>\n",
       "      <th>0</th>\n",
       "      <td>neutral</td>\n",
       "      <td>According to Gran , the company has no plans to move all production to Russia , although that is where the company is growing .</td>\n",
       "    </tr>\n",
       "    <tr>\n",
       "      <th>1</th>\n",
       "      <td>neutral</td>\n",
       "      <td>Technopolis plans to develop in stages an area of no less than 100,000 square meters in order to host companies working in computer technologies and telecommunications , the statement said .</td>\n",
       "    </tr>\n",
       "    <tr>\n",
       "      <th>2</th>\n",
       "      <td>negative</td>\n",
       "      <td>The international electronic industry company Elcoteq has laid off tens of employees from its Tallinn facility ; contrary to earlier layoffs the company contracted the ranks of its office workers , the daily Postimees reported .</td>\n",
       "    </tr>\n",
       "    <tr>\n",
       "      <th>3</th>\n",
       "      <td>positive</td>\n",
       "      <td>With the new production plant the company would increase its capacity to meet the expected increase in demand and would improve the use of raw materials and therefore increase the production profitability .</td>\n",
       "    </tr>\n",
       "    <tr>\n",
       "      <th>4</th>\n",
       "      <td>positive</td>\n",
       "      <td>According to the company 's updated strategy for the years 2009-2012 , Basware targets a long-term net sales growth in the range of 20 % -40 % with an operating profit margin of 10 % -20 % of net sales .</td>\n",
       "    </tr>\n",
       "    <tr>\n",
       "      <th>...</th>\n",
       "      <td>...</td>\n",
       "      <td>...</td>\n",
       "    </tr>\n",
       "    <tr>\n",
       "      <th>4841</th>\n",
       "      <td>negative</td>\n",
       "      <td>LONDON MarketWatch -- Share prices ended lower in London Monday as a rebound in bank stocks failed to offset broader weakness for the FTSE 100 .</td>\n",
       "    </tr>\n",
       "    <tr>\n",
       "      <th>4842</th>\n",
       "      <td>neutral</td>\n",
       "      <td>Rinkuskiai 's beer sales fell by 6.5 per cent to 4.16 million litres , while Kauno Alus ' beer sales jumped by 6.9 per cent to 2.48 million litres .</td>\n",
       "    </tr>\n",
       "    <tr>\n",
       "      <th>4843</th>\n",
       "      <td>negative</td>\n",
       "      <td>Operating profit fell to EUR 35.4 mn from EUR 68.8 mn in 2007 , including vessel sales gain of EUR 12.3 mn .</td>\n",
       "    </tr>\n",
       "    <tr>\n",
       "      <th>4844</th>\n",
       "      <td>negative</td>\n",
       "      <td>Net sales of the Paper segment decreased to EUR 221.6 mn in the second quarter of 2009 from EUR 241.1 mn in the second quarter of 2008 , while operating profit excluding non-recurring items rose to EUR 8.0 mn from EUR 7.6 mn .</td>\n",
       "    </tr>\n",
       "    <tr>\n",
       "      <th>4845</th>\n",
       "      <td>negative</td>\n",
       "      <td>Sales in Finland decreased by 10.5 % in January , while sales outside Finland dropped by 17 % .</td>\n",
       "    </tr>\n",
       "  </tbody>\n",
       "</table>\n",
       "<p>4846 rows × 2 columns</p>\n",
       "</div>"
      ],
      "text/plain": [
       "             0  \\\n",
       "0      neutral   \n",
       "1      neutral   \n",
       "2     negative   \n",
       "3     positive   \n",
       "4     positive   \n",
       "...        ...   \n",
       "4841  negative   \n",
       "4842   neutral   \n",
       "4843  negative   \n",
       "4844  negative   \n",
       "4845  negative   \n",
       "\n",
       "                                                                                                                                                                                                                                         1  \n",
       "0                                                                                                          According to Gran , the company has no plans to move all production to Russia , although that is where the company is growing .  \n",
       "1                                           Technopolis plans to develop in stages an area of no less than 100,000 square meters in order to host companies working in computer technologies and telecommunications , the statement said .  \n",
       "2     The international electronic industry company Elcoteq has laid off tens of employees from its Tallinn facility ; contrary to earlier layoffs the company contracted the ranks of its office workers , the daily Postimees reported .  \n",
       "3                           With the new production plant the company would increase its capacity to meet the expected increase in demand and would improve the use of raw materials and therefore increase the production profitability .  \n",
       "4                              According to the company 's updated strategy for the years 2009-2012 , Basware targets a long-term net sales growth in the range of 20 % -40 % with an operating profit margin of 10 % -20 % of net sales .  \n",
       "...                                                                                                                                                                                                                                    ...  \n",
       "4841                                                                                      LONDON MarketWatch -- Share prices ended lower in London Monday as a rebound in bank stocks failed to offset broader weakness for the FTSE 100 .  \n",
       "4842                                                                                  Rinkuskiai 's beer sales fell by 6.5 per cent to 4.16 million litres , while Kauno Alus ' beer sales jumped by 6.9 per cent to 2.48 million litres .  \n",
       "4843                                                                                                                          Operating profit fell to EUR 35.4 mn from EUR 68.8 mn in 2007 , including vessel sales gain of EUR 12.3 mn .  \n",
       "4844    Net sales of the Paper segment decreased to EUR 221.6 mn in the second quarter of 2009 from EUR 241.1 mn in the second quarter of 2008 , while operating profit excluding non-recurring items rose to EUR 8.0 mn from EUR 7.6 mn .  \n",
       "4845                                                                                                                                       Sales in Finland decreased by 10.5 % in January , while sales outside Finland dropped by 17 % .  \n",
       "\n",
       "[4846 rows x 2 columns]"
      ]
     },
     "execution_count": 37,
     "metadata": {},
     "output_type": "execute_result"
    }
   ],
   "source": [
    "crypto_news = pd.read_csv(\"data/crypto_news/all-data.csv\", encoding = \"ISO-8859-1\", header=None)\n",
    "crypto_news"
   ]
  },
  {
   "cell_type": "markdown",
   "id": "28f3d691",
   "metadata": {},
   "source": [
    "## Preprocessing"
   ]
  },
  {
   "cell_type": "code",
   "execution_count": 4,
   "id": "581d8bc1",
   "metadata": {},
   "outputs": [
    {
     "data": {
      "text/html": [
       "<div>\n",
       "<style scoped>\n",
       "    .dataframe tbody tr th:only-of-type {\n",
       "        vertical-align: middle;\n",
       "    }\n",
       "\n",
       "    .dataframe tbody tr th {\n",
       "        vertical-align: top;\n",
       "    }\n",
       "\n",
       "    .dataframe thead th {\n",
       "        text-align: right;\n",
       "    }\n",
       "</style>\n",
       "<table border=\"1\" class=\"dataframe\">\n",
       "  <thead>\n",
       "    <tr style=\"text-align: right;\">\n",
       "      <th></th>\n",
       "      <th>sentiment</th>\n",
       "      <th>headline</th>\n",
       "    </tr>\n",
       "  </thead>\n",
       "  <tbody>\n",
       "    <tr>\n",
       "      <th>0</th>\n",
       "      <td>1</td>\n",
       "      <td>According to Gran , the company has no plans t...</td>\n",
       "    </tr>\n",
       "    <tr>\n",
       "      <th>1</th>\n",
       "      <td>1</td>\n",
       "      <td>Technopolis plans to develop in stages an area...</td>\n",
       "    </tr>\n",
       "    <tr>\n",
       "      <th>2</th>\n",
       "      <td>0</td>\n",
       "      <td>The international electronic industry company ...</td>\n",
       "    </tr>\n",
       "    <tr>\n",
       "      <th>3</th>\n",
       "      <td>2</td>\n",
       "      <td>With the new production plant the company woul...</td>\n",
       "    </tr>\n",
       "    <tr>\n",
       "      <th>4</th>\n",
       "      <td>2</td>\n",
       "      <td>According to the company 's updated strategy f...</td>\n",
       "    </tr>\n",
       "    <tr>\n",
       "      <th>...</th>\n",
       "      <td>...</td>\n",
       "      <td>...</td>\n",
       "    </tr>\n",
       "    <tr>\n",
       "      <th>4841</th>\n",
       "      <td>0</td>\n",
       "      <td>LONDON MarketWatch -- Share prices ended lower...</td>\n",
       "    </tr>\n",
       "    <tr>\n",
       "      <th>4842</th>\n",
       "      <td>1</td>\n",
       "      <td>Rinkuskiai 's beer sales fell by 6.5 per cent ...</td>\n",
       "    </tr>\n",
       "    <tr>\n",
       "      <th>4843</th>\n",
       "      <td>0</td>\n",
       "      <td>Operating profit fell to EUR 35.4 mn from EUR ...</td>\n",
       "    </tr>\n",
       "    <tr>\n",
       "      <th>4844</th>\n",
       "      <td>0</td>\n",
       "      <td>Net sales of the Paper segment decreased to EU...</td>\n",
       "    </tr>\n",
       "    <tr>\n",
       "      <th>4845</th>\n",
       "      <td>0</td>\n",
       "      <td>Sales in Finland decreased by 10.5 % in Januar...</td>\n",
       "    </tr>\n",
       "  </tbody>\n",
       "</table>\n",
       "<p>4846 rows × 2 columns</p>\n",
       "</div>"
      ],
      "text/plain": [
       "      sentiment                                           headline\n",
       "0             1  According to Gran , the company has no plans t...\n",
       "1             1  Technopolis plans to develop in stages an area...\n",
       "2             0  The international electronic industry company ...\n",
       "3             2  With the new production plant the company woul...\n",
       "4             2  According to the company 's updated strategy f...\n",
       "...         ...                                                ...\n",
       "4841          0  LONDON MarketWatch -- Share prices ended lower...\n",
       "4842          1  Rinkuskiai 's beer sales fell by 6.5 per cent ...\n",
       "4843          0  Operating profit fell to EUR 35.4 mn from EUR ...\n",
       "4844          0  Net sales of the Paper segment decreased to EU...\n",
       "4845          0  Sales in Finland decreased by 10.5 % in Januar...\n",
       "\n",
       "[4846 rows x 2 columns]"
      ]
     },
     "execution_count": 4,
     "metadata": {},
     "output_type": "execute_result"
    }
   ],
   "source": [
    "crypto_news.rename(columns={0: \"sentiment\", 1: \"headline\"}, inplace=True)\n",
    "crypto_news.replace({'neutral': 1, 'negative': 0, 'positive': 2}, inplace=True)\n",
    "crypto_news"
   ]
  },
  {
   "cell_type": "markdown",
   "id": "02c85860",
   "metadata": {},
   "source": [
    "## File saving"
   ]
  },
  {
   "cell_type": "code",
   "execution_count": 28,
   "id": "37dd55b6",
   "metadata": {},
   "outputs": [],
   "source": [
    "crypto_news.to_csv(\"data/crypto_news/all-data_processed.csv\")"
   ]
  },
  {
   "cell_type": "markdown",
   "id": "7f6cbd26",
   "metadata": {},
   "source": [
    "# Original Data"
   ]
  },
  {
   "cell_type": "markdown",
   "id": "e07264bb",
   "metadata": {},
   "source": [
    "## Importing"
   ]
  },
  {
   "cell_type": "code",
   "execution_count": 9,
   "id": "08ea61c4",
   "metadata": {
    "collapsed": true
   },
   "outputs": [
    {
     "data": {
      "text/html": [
       "<div>\n",
       "<style scoped>\n",
       "    .dataframe tbody tr th:only-of-type {\n",
       "        vertical-align: middle;\n",
       "    }\n",
       "\n",
       "    .dataframe tbody tr th {\n",
       "        vertical-align: top;\n",
       "    }\n",
       "\n",
       "    .dataframe thead th {\n",
       "        text-align: right;\n",
       "    }\n",
       "</style>\n",
       "<table border=\"1\" class=\"dataframe\">\n",
       "  <thead>\n",
       "    <tr style=\"text-align: right;\">\n",
       "      <th></th>\n",
       "      <th>Unnamed: 0.1</th>\n",
       "      <th>author</th>\n",
       "      <th>title</th>\n",
       "      <th>description</th>\n",
       "      <th>url</th>\n",
       "      <th>urlToImage</th>\n",
       "      <th>publishedAt</th>\n",
       "      <th>content</th>\n",
       "      <th>source.id</th>\n",
       "      <th>source.name</th>\n",
       "      <th>Query</th>\n",
       "    </tr>\n",
       "  </thead>\n",
       "  <tbody>\n",
       "    <tr>\n",
       "      <th>0</th>\n",
       "      <td>0</td>\n",
       "      <td>Richard Lawler</td>\n",
       "      <td>A fake press release claiming Kroger accepts c...</td>\n",
       "      <td>A crypto hoax claimed Kroger is accepting Bitc...</td>\n",
       "      <td>https://www.theverge.com/2021/11/5/22765098/kr...</td>\n",
       "      <td>https://cdn.vox-cdn.com/thumbor/CKp0YjnwF88--m...</td>\n",
       "      <td>2021-11-05 13:32:14</td>\n",
       "      <td>A similar hoax earlier this year tied Walmart ...</td>\n",
       "      <td>the-verge</td>\n",
       "      <td>The Verge</td>\n",
       "      <td>bitcoin</td>\n",
       "    </tr>\n",
       "    <tr>\n",
       "      <th>1</th>\n",
       "      <td>1</td>\n",
       "      <td>mfox@businessinsider.com (Matthew Fox)</td>\n",
       "      <td>An ethereum futures ETF will be available befo...</td>\n",
       "      <td>\"Though a spot Bitcoin ETF is possible in 2022...</td>\n",
       "      <td>https://markets.businessinsider.com/news/curre...</td>\n",
       "      <td>https://images2.markets.businessinsider.com/61...</td>\n",
       "      <td>2021-11-06 12:15:00</td>\n",
       "      <td>Ether.\\r\\nNurPhoto\\r\\n&lt;ul&gt;&lt;li&gt;The approval of ...</td>\n",
       "      <td>business-insider</td>\n",
       "      <td>Business Insider</td>\n",
       "      <td>bitcoin</td>\n",
       "    </tr>\n",
       "    <tr>\n",
       "      <th>2</th>\n",
       "      <td>2</td>\n",
       "      <td>Entrepreneur Staff</td>\n",
       "      <td>Bitcoin Trades 7% Higher</td>\n",
       "      <td>Bitcoin was trading over 7% higher on Monday m...</td>\n",
       "      <td>https://www.entrepreneur.com/article/395938</td>\n",
       "      <td>https://assets.entrepreneur.com/content/3x2/20...</td>\n",
       "      <td>2021-11-08 16:07:45</td>\n",
       "      <td>Bitcoin was trading over 7% higher on Monday m...</td>\n",
       "      <td>NaN</td>\n",
       "      <td>Entrepreneur</td>\n",
       "      <td>bitcoin</td>\n",
       "    </tr>\n",
       "  </tbody>\n",
       "</table>\n",
       "</div>"
      ],
      "text/plain": [
       "   Unnamed: 0.1                                  author  \\\n",
       "0             0                          Richard Lawler   \n",
       "1             1  mfox@businessinsider.com (Matthew Fox)   \n",
       "2             2                      Entrepreneur Staff   \n",
       "\n",
       "                                               title  \\\n",
       "0  A fake press release claiming Kroger accepts c...   \n",
       "1  An ethereum futures ETF will be available befo...   \n",
       "2                           Bitcoin Trades 7% Higher   \n",
       "\n",
       "                                         description  \\\n",
       "0  A crypto hoax claimed Kroger is accepting Bitc...   \n",
       "1  \"Though a spot Bitcoin ETF is possible in 2022...   \n",
       "2  Bitcoin was trading over 7% higher on Monday m...   \n",
       "\n",
       "                                                 url  \\\n",
       "0  https://www.theverge.com/2021/11/5/22765098/kr...   \n",
       "1  https://markets.businessinsider.com/news/curre...   \n",
       "2        https://www.entrepreneur.com/article/395938   \n",
       "\n",
       "                                          urlToImage         publishedAt  \\\n",
       "0  https://cdn.vox-cdn.com/thumbor/CKp0YjnwF88--m... 2021-11-05 13:32:14   \n",
       "1  https://images2.markets.businessinsider.com/61... 2021-11-06 12:15:00   \n",
       "2  https://assets.entrepreneur.com/content/3x2/20... 2021-11-08 16:07:45   \n",
       "\n",
       "                                             content         source.id  \\\n",
       "0  A similar hoax earlier this year tied Walmart ...         the-verge   \n",
       "1  Ether.\\r\\nNurPhoto\\r\\n<ul><li>The approval of ...  business-insider   \n",
       "2  Bitcoin was trading over 7% higher on Monday m...               NaN   \n",
       "\n",
       "        source.name    Query  \n",
       "0         The Verge  bitcoin  \n",
       "1  Business Insider  bitcoin  \n",
       "2      Entrepreneur  bitcoin  "
      ]
     },
     "execution_count": 9,
     "metadata": {},
     "output_type": "execute_result"
    }
   ],
   "source": [
    "prediction_data_path = r\"..\\Crypto_News_API\\output\\master\\articles_all_master.xlsx\"\n",
    "prediction_data = pd.read_excel(prediction_data_path, index_col='Unnamed: 0')\n",
    "prediction_data.head(3)"
   ]
  },
  {
   "cell_type": "markdown",
   "id": "ffef1b01",
   "metadata": {},
   "source": [
    "## Preprocessing"
   ]
  },
  {
   "cell_type": "code",
   "execution_count": 31,
   "id": "5c7122b2",
   "metadata": {},
   "outputs": [
    {
     "data": {
      "text/plain": [
       "'A fake press release claiming Kroger accepts crypto reached the retailer’s own webpage'"
      ]
     },
     "execution_count": 31,
     "metadata": {},
     "output_type": "execute_result"
    }
   ],
   "source": [
    "prediction_data['title'][0]"
   ]
  },
  {
   "cell_type": "code",
   "execution_count": 32,
   "id": "386b758f",
   "metadata": {},
   "outputs": [
    {
     "data": {
      "text/plain": [
       "'A crypto hoax claimed Kroger is accepting Bitcoin Cash. The fake press release was similar to one targeting Walmart earlier this year. The retailer quickly confirmed it’s fake, but not before the cryptocurrency’s price spiked by $30.'"
      ]
     },
     "execution_count": 32,
     "metadata": {},
     "output_type": "execute_result"
    }
   ],
   "source": [
    "prediction_data['description'][0]"
   ]
  },
  {
   "cell_type": "code",
   "execution_count": 34,
   "id": "ca1b6944",
   "metadata": {},
   "outputs": [
    {
     "data": {
      "text/html": [
       "<div>\n",
       "<style scoped>\n",
       "    .dataframe tbody tr th:only-of-type {\n",
       "        vertical-align: middle;\n",
       "    }\n",
       "\n",
       "    .dataframe tbody tr th {\n",
       "        vertical-align: top;\n",
       "    }\n",
       "\n",
       "    .dataframe thead th {\n",
       "        text-align: right;\n",
       "    }\n",
       "</style>\n",
       "<table border=\"1\" class=\"dataframe\">\n",
       "  <thead>\n",
       "    <tr style=\"text-align: right;\">\n",
       "      <th></th>\n",
       "      <th>Unnamed: 0.1</th>\n",
       "      <th>author</th>\n",
       "      <th>title</th>\n",
       "      <th>description</th>\n",
       "      <th>url</th>\n",
       "      <th>urlToImage</th>\n",
       "      <th>publishedAt</th>\n",
       "      <th>content</th>\n",
       "      <th>source.id</th>\n",
       "      <th>source.name</th>\n",
       "      <th>Query</th>\n",
       "      <th>merge</th>\n",
       "    </tr>\n",
       "  </thead>\n",
       "  <tbody>\n",
       "    <tr>\n",
       "      <th>0</th>\n",
       "      <td>0</td>\n",
       "      <td>Richard Lawler</td>\n",
       "      <td>A fake press release claiming Kroger accepts crypto reached the retailer’s own webpage</td>\n",
       "      <td>A crypto hoax claimed Kroger is accepting Bitcoin Cash. The fake press release was similar to one targeting Walmart earlier this year. The retailer quickly confirmed it’s fake, but not before the cryptocurrency’s price spiked by $30.</td>\n",
       "      <td>https://www.theverge.com/2021/11/5/22765098/kroger-bitcoin-cash-cryptocurrency-hoax-pump-dump</td>\n",
       "      <td>https://cdn.vox-cdn.com/thumbor/CKp0YjnwF88--mWg1kfPmspvfzY=/0x358:5000x2976/fit-in/1200x630/cdn.vox-cdn.com/uploads/chorus_asset/file/22988084/1234440443.jpg</td>\n",
       "      <td>2021-11-05 13:32:14</td>\n",
       "      <td>A similar hoax earlier this year tied Walmart to Litecoin\\r\\nIf you buy something from a Verge link, Vox Media may earn a commission. See our ethics statement.\\r\\nPhoto Illustration by Thiago Prudencio/S… [+1900 chars]</td>\n",
       "      <td>the-verge</td>\n",
       "      <td>The Verge</td>\n",
       "      <td>bitcoin</td>\n",
       "      <td>A fake press release claiming Kroger accepts crypto reached the retailer’s own webpage; A crypto hoax claimed Kroger is accepting Bitcoin Cash. The fake press release was similar to one targeting Walmart earlier this year. The retailer quickly confirmed it’s fake, but not before the cryptocurrency’s price spiked by $30.</td>\n",
       "    </tr>\n",
       "    <tr>\n",
       "      <th>1</th>\n",
       "      <td>1</td>\n",
       "      <td>mfox@businessinsider.com (Matthew Fox)</td>\n",
       "      <td>An ethereum futures ETF will be available before one that holds bitcoin directly - and approval could come in the 1st quarter of 2022, Bloomberg analysts say</td>\n",
       "      <td>\"Though a spot Bitcoin ETF is possible in 2022, SEC approval may take longer due to concerns about regulation in the underlying bitcoin market.\"</td>\n",
       "      <td>https://markets.businessinsider.com/news/currencies/ethereum-futures-etf-available-before-bitcoin-spot-fund-crypto-btc-2021-11</td>\n",
       "      <td>https://images2.markets.businessinsider.com/612f799b9ef1e50018f91d2d?format=jpeg</td>\n",
       "      <td>2021-11-06 12:15:00</td>\n",
       "      <td>Ether.\\r\\nNurPhoto\\r\\n&lt;ul&gt;&lt;li&gt;The approval of a bitcoin futures-based ETF means a similar offering for ether is imminent.&lt;/li&gt;&lt;li&gt;Bloomberg analysts believe the first ether futures-based ETF could launch… [+1931 chars]</td>\n",
       "      <td>business-insider</td>\n",
       "      <td>Business Insider</td>\n",
       "      <td>bitcoin</td>\n",
       "      <td>An ethereum futures ETF will be available before one that holds bitcoin directly - and approval could come in the 1st quarter of 2022, Bloomberg analysts say; \"Though a spot Bitcoin ETF is possible in 2022, SEC approval may take longer due to concerns about regulation in the underlying bitcoin market.\"</td>\n",
       "    </tr>\n",
       "  </tbody>\n",
       "</table>\n",
       "</div>"
      ],
      "text/plain": [
       "   Unnamed: 0.1                                  author  \\\n",
       "0             0                          Richard Lawler   \n",
       "1             1  mfox@businessinsider.com (Matthew Fox)   \n",
       "\n",
       "                                                                                                                                                           title  \\\n",
       "0                                                                         A fake press release claiming Kroger accepts crypto reached the retailer’s own webpage   \n",
       "1  An ethereum futures ETF will be available before one that holds bitcoin directly - and approval could come in the 1st quarter of 2022, Bloomberg analysts say   \n",
       "\n",
       "                                                                                                                                                                                                                                 description  \\\n",
       "0  A crypto hoax claimed Kroger is accepting Bitcoin Cash. The fake press release was similar to one targeting Walmart earlier this year. The retailer quickly confirmed it’s fake, but not before the cryptocurrency’s price spiked by $30.   \n",
       "1                                                                                           \"Though a spot Bitcoin ETF is possible in 2022, SEC approval may take longer due to concerns about regulation in the underlying bitcoin market.\"   \n",
       "\n",
       "                                                                                                                              url  \\\n",
       "0                                   https://www.theverge.com/2021/11/5/22765098/kroger-bitcoin-cash-cryptocurrency-hoax-pump-dump   \n",
       "1  https://markets.businessinsider.com/news/currencies/ethereum-futures-etf-available-before-bitcoin-spot-fund-crypto-btc-2021-11   \n",
       "\n",
       "                                                                                                                                                       urlToImage  \\\n",
       "0  https://cdn.vox-cdn.com/thumbor/CKp0YjnwF88--mWg1kfPmspvfzY=/0x358:5000x2976/fit-in/1200x630/cdn.vox-cdn.com/uploads/chorus_asset/file/22988084/1234440443.jpg   \n",
       "1                                                                                https://images2.markets.businessinsider.com/612f799b9ef1e50018f91d2d?format=jpeg   \n",
       "\n",
       "          publishedAt  \\\n",
       "0 2021-11-05 13:32:14   \n",
       "1 2021-11-06 12:15:00   \n",
       "\n",
       "                                                                                                                                                                                                                      content  \\\n",
       "0  A similar hoax earlier this year tied Walmart to Litecoin\\r\\nIf you buy something from a Verge link, Vox Media may earn a commission. See our ethics statement.\\r\\nPhoto Illustration by Thiago Prudencio/S… [+1900 chars]   \n",
       "1  Ether.\\r\\nNurPhoto\\r\\n<ul><li>The approval of a bitcoin futures-based ETF means a similar offering for ether is imminent.</li><li>Bloomberg analysts believe the first ether futures-based ETF could launch… [+1931 chars]   \n",
       "\n",
       "          source.id       source.name    Query  \\\n",
       "0         the-verge         The Verge  bitcoin   \n",
       "1  business-insider  Business Insider  bitcoin   \n",
       "\n",
       "                                                                                                                                                                                                                                                                                                                               merge  \n",
       "0  A fake press release claiming Kroger accepts crypto reached the retailer’s own webpage; A crypto hoax claimed Kroger is accepting Bitcoin Cash. The fake press release was similar to one targeting Walmart earlier this year. The retailer quickly confirmed it’s fake, but not before the cryptocurrency’s price spiked by $30.  \n",
       "1                    An ethereum futures ETF will be available before one that holds bitcoin directly - and approval could come in the 1st quarter of 2022, Bloomberg analysts say; \"Though a spot Bitcoin ETF is possible in 2022, SEC approval may take longer due to concerns about regulation in the underlying bitcoin market.\"  "
      ]
     },
     "execution_count": 34,
     "metadata": {},
     "output_type": "execute_result"
    }
   ],
   "source": [
    "prediction_data['merge'] = prediction_data['title'] + '; ' + prediction_data['description']\n",
    "prediction_data.head(2)"
   ]
  },
  {
   "cell_type": "markdown",
   "id": "f4928882",
   "metadata": {},
   "source": [
    "## File saving"
   ]
  },
  {
   "cell_type": "code",
   "execution_count": 35,
   "id": "2f5895bd",
   "metadata": {},
   "outputs": [],
   "source": [
    "prediction_data.to_excel('data/prediction_data.xlsx')"
   ]
  }
 ],
 "metadata": {
  "kernelspec": {
   "display_name": "Python 3 (ipykernel)",
   "language": "python",
   "name": "python3"
  },
  "language_info": {
   "codemirror_mode": {
    "name": "ipython",
    "version": 3
   },
   "file_extension": ".py",
   "mimetype": "text/x-python",
   "name": "python",
   "nbconvert_exporter": "python",
   "pygments_lexer": "ipython3",
   "version": "3.8.12"
  },
  "toc": {
   "base_numbering": 1,
   "nav_menu": {},
   "number_sections": true,
   "sideBar": true,
   "skip_h1_title": false,
   "title_cell": "Table of Contents",
   "title_sidebar": "Contents",
   "toc_cell": false,
   "toc_position": {},
   "toc_section_display": true,
   "toc_window_display": false
  },
  "varInspector": {
   "cols": {
    "lenName": 16,
    "lenType": 16,
    "lenVar": 40
   },
   "kernels_config": {
    "python": {
     "delete_cmd_postfix": "",
     "delete_cmd_prefix": "del ",
     "library": "var_list.py",
     "varRefreshCmd": "print(var_dic_list())"
    },
    "r": {
     "delete_cmd_postfix": ") ",
     "delete_cmd_prefix": "rm(",
     "library": "var_list.r",
     "varRefreshCmd": "cat(var_dic_list()) "
    }
   },
   "types_to_exclude": [
    "module",
    "function",
    "builtin_function_or_method",
    "instance",
    "_Feature"
   ],
   "window_display": false
  }
 },
 "nbformat": 4,
 "nbformat_minor": 5
}
