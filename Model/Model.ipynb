{
 "cells": [
  {
   "cell_type": "code",
   "execution_count": 1,
   "id": "2fc132fe",
   "metadata": {},
   "outputs": [],
   "source": [
    "# import of adj_mat\n",
    "# import of nodes_cluster\n",
    "# import of news_data\n",
    "# import of crypto_data"
   ]
  },
  {
   "cell_type": "markdown",
   "id": "56ab3409",
   "metadata": {},
   "source": [
    "# Import section"
   ]
  },
  {
   "cell_type": "markdown",
   "id": "9c465c45",
   "metadata": {},
   "source": [
    "## adj_mat"
   ]
  },
  {
   "cell_type": "markdown",
   "id": "1dd46829",
   "metadata": {},
   "source": [
    "## nodes_cluster"
   ]
  },
  {
   "cell_type": "markdown",
   "id": "2516a6da",
   "metadata": {},
   "source": [
    "## news_data"
   ]
  },
  {
   "cell_type": "markdown",
   "id": "15f0ab58",
   "metadata": {},
   "source": [
    "## crypto_data"
   ]
  },
  {
   "cell_type": "markdown",
   "id": "97447251",
   "metadata": {},
   "source": [
    "# Merging section (probably needed)"
   ]
  },
  {
   "cell_type": "markdown",
   "id": "3ac362c6",
   "metadata": {},
   "source": [
    "# Model definition (probably needed)"
   ]
  },
  {
   "cell_type": "markdown",
   "id": "834831d1",
   "metadata": {},
   "source": [
    "## max. cluster strength"
   ]
  },
  {
   "cell_type": "code",
   "execution_count": 2,
   "id": "8c91b314",
   "metadata": {},
   "outputs": [],
   "source": [
    "# cluster strength\n",
    "\n",
    "#matrix input: src, dst, cluster_dst\n",
    "\n",
    "## input:\n",
    "### date\n",
    "### cluster annotation per node, per day\n",
    "## throughput1:\n",
    "### number of neighbors inside cluster per node, per day\n",
    "### number of total neighbors per node, per day (degree per node, per day)\n",
    "## throughput2:\n",
    "### (number of neighbors inside cluster per node, per day) / (degree per node, per day)\n",
    "## output:\n",
    "### lowest value of throughput2, per day"
   ]
  },
  {
   "cell_type": "markdown",
   "id": "12508433",
   "metadata": {},
   "source": [
    "For the scores it is important to note that the lowest value indicates that there is no stimulation for a shock reaction.\n",
    "In the model n = -1 means that there is the lowest possible amount of stimulation from the daily news sentiment whereas n = 1 means that there is the highest possible amount. "
   ]
  },
  {
   "cell_type": "markdown",
   "id": "94bf0fee",
   "metadata": {},
   "source": [
    "## sentiment score"
   ]
  },
  {
   "cell_type": "markdown",
   "id": "a6f1300e",
   "metadata": {},
   "source": [
    "## indicator score"
   ]
  },
  {
   "cell_type": "markdown",
   "id": "2ad78b7e",
   "metadata": {},
   "source": [
    "## model payoffs"
   ]
  },
  {
   "cell_type": "markdown",
   "id": "a101eb6d",
   "metadata": {},
   "source": [
    "The mathematical basis for the cascade model provides a logistic function (I). In addition to the current date, news sentiment and indicator scores are summed up and serve as model input. Based on (I) the model calculates the perceived payoffs for strategy A and strategy B. These payoff values function as global parameters for the whole network, implying that every node inside the network perceives the respective payoffs in the same way. \n",
    "\n",
    "\n",
    "A crucial design decision that has been made is that the payoff for strategy B is the counter-calue of the payoff for strategy B. This decision should emphasize that strategy B is simply the absence of strategy A. Therefore, the inequality (II), which decides whether or not a complete strategy A cascade is possible, is reduced to (II.1). In order for a complete strategy A cascade to be hence possible, inside the network on a specific date, there cannot exist a cluster with a cluster strength p greater than a.\n",
    "\n",
    "- I: equality for payoff a\n",
    "- II: inequality for complete cascade p > 1 - b\n",
    "- II.1: p > a"
   ]
  },
  {
   "cell_type": "code",
   "execution_count": 39,
   "id": "bea2a4e0",
   "metadata": {},
   "outputs": [],
   "source": [
    "# model_payoffs:\n",
    "\n",
    "## input:\n",
    "### x --> linear combination of scores\n",
    "### date\n",
    "## output:\n",
    "### payoff a --> a = 1/(1+exp(-x)), per day\n",
    "### payoff b --> b = 1 - a, per day\n",
    "\n",
    "# strategy A --> shock reaction (hype/panic)\n",
    "# strategy B --> indifferent reaction\n",
    "\n",
    "# threshold:\n",
    "\n",
    "## input:\n",
    "### payoff for strategy a\n",
    "### payoff for strategy b\n",
    "## output:\n",
    "### threshold value q --> q = b / (a + b)\n"
   ]
  },
  {
   "cell_type": "markdown",
   "id": "57160ad9",
   "metadata": {},
   "source": [
    "max cluster strength p has to be greater than a (p>a) for strategy A to cause a complete cascade\n",
    "\n",
    "- this is because b = 1 - a and q = b/(a+b) (--> a+b = 1 --> q = b/1)\n",
    "\n",
    "- original threshold formula: p > 1 - q --> p > 1 - b --> p > a (--> b=1-a --> a=1-b)\n",
    "\n",
    "- so in order for a cluster to break a complete strategy A cascade it has to have a strength greater than a"
   ]
  },
  {
   "cell_type": "code",
   "execution_count": 38,
   "id": "7cce26f2",
   "metadata": {},
   "outputs": [
    {
     "data": {
      "text/plain": [
       "{'november': [(0.11920292202211755, 0.8807970779778824), 0.11920292202211757]}"
      ]
     },
     "execution_count": 38,
     "metadata": {},
     "output_type": "execute_result"
    }
   ],
   "source": [
    "import math\n",
    "\n",
    "\n",
    "d = ['november']\n",
    "n = -1\n",
    "t = -1\n",
    "\n",
    "def cascade_model(date, news, ta):\n",
    "    \n",
    "    #sum of scores\n",
    "    x = news + ta\n",
    "    \n",
    "    #payoffs\n",
    "    a = 1 / (1 + math.exp(-x))\n",
    "    b = 1 - a\n",
    "    \n",
    "    #threshold\n",
    "    q = b / (a + b)\n",
    "    \n",
    "    #output\n",
    "    model_output_dict = {}\n",
    "    \n",
    "    for d in date:\n",
    "        model_output_dict[d] = [(a,b), 1 - q]\n",
    "                                \n",
    "    return model_output_dict\n",
    "\n",
    "cascade_model(date=d, news=n, ta=t)"
   ]
  }
 ],
 "metadata": {
  "kernelspec": {
   "display_name": "Python 3 (ipykernel)",
   "language": "python",
   "name": "python3"
  },
  "language_info": {
   "codemirror_mode": {
    "name": "ipython",
    "version": 3
   },
   "file_extension": ".py",
   "mimetype": "text/x-python",
   "name": "python",
   "nbconvert_exporter": "python",
   "pygments_lexer": "ipython3",
   "version": "3.9.7"
  },
  "toc": {
   "base_numbering": 1,
   "nav_menu": {},
   "number_sections": true,
   "sideBar": true,
   "skip_h1_title": false,
   "title_cell": "Table of Contents",
   "title_sidebar": "Contents",
   "toc_cell": false,
   "toc_position": {},
   "toc_section_display": true,
   "toc_window_display": false
  },
  "varInspector": {
   "cols": {
    "lenName": 16,
    "lenType": 16,
    "lenVar": 40
   },
   "kernels_config": {
    "python": {
     "delete_cmd_postfix": "",
     "delete_cmd_prefix": "del ",
     "library": "var_list.py",
     "varRefreshCmd": "print(var_dic_list())"
    },
    "r": {
     "delete_cmd_postfix": ") ",
     "delete_cmd_prefix": "rm(",
     "library": "var_list.r",
     "varRefreshCmd": "cat(var_dic_list()) "
    }
   },
   "types_to_exclude": [
    "module",
    "function",
    "builtin_function_or_method",
    "instance",
    "_Feature"
   ],
   "window_display": false
  }
 },
 "nbformat": 4,
 "nbformat_minor": 5
}
