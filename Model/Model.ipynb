{
 "cells": [
  {
   "cell_type": "code",
   "execution_count": 2,
   "metadata": {},
   "outputs": [],
   "source": [
    "# import of adj_mat\n",
    "# import of nodes_cluster\n",
    "# import of news_data\n",
    "# import of crypto_data"
   ]
  },
  {
   "cell_type": "markdown",
   "metadata": {},
   "source": [
    "# Import section"
   ]
  },
  {
   "cell_type": "markdown",
   "metadata": {},
   "source": [
    "## adj_mat"
   ]
  },
  {
   "cell_type": "markdown",
   "metadata": {},
   "source": [
    "## nodes_cluster"
   ]
  },
  {
   "cell_type": "markdown",
   "metadata": {},
   "source": [
    "## news_data"
   ]
  },
  {
   "cell_type": "markdown",
   "metadata": {},
   "source": [
    "## crypto_data"
   ]
  },
  {
   "cell_type": "markdown",
   "metadata": {},
   "source": [
    "# Merging section (probably needed)"
   ]
  },
  {
   "cell_type": "markdown",
   "metadata": {},
   "source": [
    "# Model definition (probably needed)"
   ]
  },
  {
   "cell_type": "markdown",
   "metadata": {},
   "source": [
    "## max. cluster strength"
   ]
  },
  {
   "cell_type": "code",
   "execution_count": null,
   "metadata": {},
   "outputs": [],
   "source": [
    "# cluster strength\n",
    "\n",
    "## input:\n",
    "### date\n",
    "### cluster annotation per node, per day\n",
    "## throughput1:\n",
    "### number of neighbors inside cluster per node, per day\n",
    "### number of total neighbors per node, per day (degree per node, per day)\n",
    "## throughput2:\n",
    "### (number of neighbors inside cluster per node, per day) / (degree per node, per day)\n",
    "## output:\n",
    "### lowest value of throughput2, per day\n",
    "\n",
    "\n",
    "\n",
    "\n",
    "\n",
    "\n"
   ]
  },
  {
   "cell_type": "markdown",
   "metadata": {},
   "source": [
    "## sentiment score"
   ]
  },
  {
   "cell_type": "markdown",
   "metadata": {},
   "source": [
    "## indicator score"
   ]
  },
  {
   "cell_type": "markdown",
   "metadata": {},
   "source": [
    "## model payoffs"
   ]
  },
  {
   "cell_type": "code",
   "execution_count": 1,
   "metadata": {},
   "outputs": [],
   "source": [
    "# model_payoffs:\n",
    "\n",
    "## input:\n",
    "### x --> linear combination of scores\n",
    "### date\n",
    "## output:\n",
    "### payoff a --> a = 1/(1+exp(-x)), per day\n",
    "### payoff b --> b = 1 - a, per day\n",
    "\n",
    "\n",
    "def model_payoffs(**):\n",
    "    x = sum(keyword_arguments)\n",
    "    \n",
    "    a = 1/(1+exp(-x))\n",
    "    b = 1 - a\n",
    "        \n",
    "    payoffs = []\n",
    "    \n",
    "    payoffs.append(a)\n",
    "    payoffs.append(b)\n",
    "    \n",
    "    \n",
    "    return payoffs\n",
    "\n",
    "# threshold:\n",
    "\n",
    "## input:\n",
    "### payoff for strategy a\n",
    "### payoff for strategy b\n",
    "## output:\n",
    "### threshold value q --> q = b / (a + b)\n",
    "\n",
    "def threshold(**):\n",
    "    payoff_a = keyword_arguments[0]\n",
    "    payoff_b = keyword_arguments[1]\n",
    "    \n",
    "    q = payoff_b / (payoff_a + payoff_b)\n",
    "    \n",
    "    return q\n",
    "\n",
    "def model_output(date, q, payoffs):\n",
    "    #create dictionary with {date: [payoffs]}\n",
    "\n",
    "\n",
    "    \n",
    "\n"
   ]
  }
 ],
 "metadata": {
  "kernelspec": {
   "display_name": "Python 3",
   "language": "python",
   "name": "python3"
  },
  "language_info": {
   "codemirror_mode": {
    "name": "ipython",
    "version": 3
   },
   "file_extension": ".py",
   "mimetype": "text/x-python",
   "name": "python",
   "nbconvert_exporter": "python",
   "pygments_lexer": "ipython3",
   "version": "3.8.3"
  },
  "toc": {
   "base_numbering": 1,
   "nav_menu": {},
   "number_sections": true,
   "sideBar": true,
   "skip_h1_title": false,
   "title_cell": "Table of Contents",
   "title_sidebar": "Contents",
   "toc_cell": false,
   "toc_position": {},
   "toc_section_display": true,
   "toc_window_display": false
  },
  "varInspector": {
   "cols": {
    "lenName": 16,
    "lenType": 16,
    "lenVar": 40
   },
   "kernels_config": {
    "python": {
     "delete_cmd_postfix": "",
     "delete_cmd_prefix": "del ",
     "library": "var_list.py",
     "varRefreshCmd": "print(var_dic_list())"
    },
    "r": {
     "delete_cmd_postfix": ") ",
     "delete_cmd_prefix": "rm(",
     "library": "var_list.r",
     "varRefreshCmd": "cat(var_dic_list()) "
    }
   },
   "types_to_exclude": [
    "module",
    "function",
    "builtin_function_or_method",
    "instance",
    "_Feature"
   ],
   "window_display": false
  }
 },
 "nbformat": 4,
 "nbformat_minor": 5
}