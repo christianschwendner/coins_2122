{
 "cells": [
  {
   "cell_type": "code",
   "execution_count": 1,
   "id": "6690eba5",
   "metadata": {},
   "outputs": [],
   "source": [
    "# import of adj_mat\n",
    "# import of nodes_cluster\n",
    "# import of news_data\n",
    "# import of crypto_data"
   ]
  },
  {
   "cell_type": "markdown",
   "id": "e599dac1",
   "metadata": {},
   "source": [
    "# Import section"
   ]
  },
  {
   "cell_type": "markdown",
   "id": "71c8d19c",
   "metadata": {},
   "source": [
    "## adj_mat"
   ]
  },
  {
   "cell_type": "markdown",
   "id": "8bf2c014",
   "metadata": {},
   "source": [
    "## nodes_cluster"
   ]
  },
  {
   "cell_type": "markdown",
   "id": "9da327cf",
   "metadata": {},
   "source": [
    "## news_data"
   ]
  },
  {
   "cell_type": "markdown",
   "id": "ed8c3122",
   "metadata": {},
   "source": [
    "## crypto_data"
   ]
  },
  {
   "cell_type": "markdown",
   "id": "65a4da25",
   "metadata": {},
   "source": [
    "# Merging section (probably needed)"
   ]
  },
  {
   "cell_type": "markdown",
   "id": "9b9f877a",
   "metadata": {},
   "source": [
    "# Model definition (probably needed)"
   ]
  },
  {
   "cell_type": "code",
   "execution_count": null,
   "id": "eac35935",
   "metadata": {},
   "outputs": [],
   "source": []
  }
 ],
 "metadata": {
  "kernelspec": {
   "display_name": "Python 3 (ipykernel)",
   "language": "python",
   "name": "python3"
  },
  "language_info": {
   "codemirror_mode": {
    "name": "ipython",
    "version": 3
   },
   "file_extension": ".py",
   "mimetype": "text/x-python",
   "name": "python",
   "nbconvert_exporter": "python",
   "pygments_lexer": "ipython3",
   "version": "3.8.12"
  },
  "toc": {
   "base_numbering": 1,
   "nav_menu": {},
   "number_sections": true,
   "sideBar": true,
   "skip_h1_title": false,
   "title_cell": "Table of Contents",
   "title_sidebar": "Contents",
   "toc_cell": false,
   "toc_position": {},
   "toc_section_display": true,
   "toc_window_display": false
  },
  "varInspector": {
   "cols": {
    "lenName": 16,
    "lenType": 16,
    "lenVar": 40
   },
   "kernels_config": {
    "python": {
     "delete_cmd_postfix": "",
     "delete_cmd_prefix": "del ",
     "library": "var_list.py",
     "varRefreshCmd": "print(var_dic_list())"
    },
    "r": {
     "delete_cmd_postfix": ") ",
     "delete_cmd_prefix": "rm(",
     "library": "var_list.r",
     "varRefreshCmd": "cat(var_dic_list()) "
    }
   },
   "types_to_exclude": [
    "module",
    "function",
    "builtin_function_or_method",
    "instance",
    "_Feature"
   ],
   "window_display": false
  }
 },
 "nbformat": 4,
 "nbformat_minor": 5
}
