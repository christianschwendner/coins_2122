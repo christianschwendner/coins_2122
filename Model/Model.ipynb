{
 "cells": [
  {
   "cell_type": "code",
   "execution_count": 1,
   "metadata": {},
   "outputs": [],
   "source": [
    "# import of adj_mat\n",
    "# import of nodes_cluster\n",
    "# import of news_data\n",
    "# import of crypto_data"
   ]
  },
  {
   "cell_type": "markdown",
   "metadata": {},
   "source": [
    "# Import section"
   ]
  },
  {
   "cell_type": "markdown",
   "metadata": {},
   "source": [
    "## adj_mat"
   ]
  },
  {
   "cell_type": "markdown",
   "metadata": {},
   "source": [
    "## nodes_cluster"
   ]
  },
  {
   "cell_type": "markdown",
   "metadata": {},
   "source": [
    "## news_data"
   ]
  },
  {
   "cell_type": "markdown",
   "metadata": {},
   "source": [
    "## crypto_data"
   ]
  },
  {
   "cell_type": "code",
   "execution_count": 5,
   "metadata": {},
   "outputs": [
    {
     "name": "stdout",
     "output_type": "stream",
     "text": [
      "Please enter the currency: \n",
      "BTC\n"
     ]
    },
    {
     "data": {
      "text/html": [
       "<div>\n",
       "<style scoped>\n",
       "    .dataframe tbody tr th:only-of-type {\n",
       "        vertical-align: middle;\n",
       "    }\n",
       "\n",
       "    .dataframe tbody tr th {\n",
       "        vertical-align: top;\n",
       "    }\n",
       "\n",
       "    .dataframe thead th {\n",
       "        text-align: right;\n",
       "    }\n",
       "</style>\n",
       "<table border=\"1\" class=\"dataframe\">\n",
       "  <thead>\n",
       "    <tr style=\"text-align: right;\">\n",
       "      <th></th>\n",
       "      <th>Date</th>\n",
       "      <th>Close</th>\n",
       "      <th>Volume</th>\n",
       "      <th>signal_rsi</th>\n",
       "      <th>signal_bb</th>\n",
       "      <th>signal_obv</th>\n",
       "      <th>signal_mva</th>\n",
       "      <th>calculated_average</th>\n",
       "    </tr>\n",
       "    <tr>\n",
       "      <th>Date</th>\n",
       "      <th></th>\n",
       "      <th></th>\n",
       "      <th></th>\n",
       "      <th></th>\n",
       "      <th></th>\n",
       "      <th></th>\n",
       "      <th></th>\n",
       "      <th></th>\n",
       "    </tr>\n",
       "  </thead>\n",
       "  <tbody>\n",
       "    <tr>\n",
       "      <th>2017-02-06</th>\n",
       "      <td>2017-02-06</td>\n",
       "      <td>1038.150024</td>\n",
       "      <td>111762000</td>\n",
       "      <td>0</td>\n",
       "      <td>0</td>\n",
       "      <td>2</td>\n",
       "      <td>-2</td>\n",
       "      <td>-0.2</td>\n",
       "    </tr>\n",
       "    <tr>\n",
       "      <th>2017-02-07</th>\n",
       "      <td>2017-02-07</td>\n",
       "      <td>1061.349976</td>\n",
       "      <td>146007008</td>\n",
       "      <td>2</td>\n",
       "      <td>0</td>\n",
       "      <td>2</td>\n",
       "      <td>-2</td>\n",
       "      <td>0.2</td>\n",
       "    </tr>\n",
       "    <tr>\n",
       "      <th>2017-02-08</th>\n",
       "      <td>2017-02-08</td>\n",
       "      <td>1063.069946</td>\n",
       "      <td>201855008</td>\n",
       "      <td>2</td>\n",
       "      <td>0</td>\n",
       "      <td>2</td>\n",
       "      <td>-2</td>\n",
       "      <td>0.2</td>\n",
       "    </tr>\n",
       "    <tr>\n",
       "      <th>2017-02-09</th>\n",
       "      <td>2017-02-09</td>\n",
       "      <td>994.382996</td>\n",
       "      <td>407220000</td>\n",
       "      <td>0</td>\n",
       "      <td>0</td>\n",
       "      <td>-2</td>\n",
       "      <td>-2</td>\n",
       "      <td>-1.0</td>\n",
       "    </tr>\n",
       "    <tr>\n",
       "      <th>2017-02-10</th>\n",
       "      <td>2017-02-10</td>\n",
       "      <td>988.674011</td>\n",
       "      <td>190452000</td>\n",
       "      <td>0</td>\n",
       "      <td>0</td>\n",
       "      <td>-2</td>\n",
       "      <td>-2</td>\n",
       "      <td>-1.0</td>\n",
       "    </tr>\n",
       "    <tr>\n",
       "      <th>...</th>\n",
       "      <td>...</td>\n",
       "      <td>...</td>\n",
       "      <td>...</td>\n",
       "      <td>...</td>\n",
       "      <td>...</td>\n",
       "      <td>...</td>\n",
       "      <td>...</td>\n",
       "      <td>...</td>\n",
       "    </tr>\n",
       "    <tr>\n",
       "      <th>2022-01-13</th>\n",
       "      <td>2022-01-13</td>\n",
       "      <td>42591.570312</td>\n",
       "      <td>47691135082</td>\n",
       "      <td>0</td>\n",
       "      <td>0</td>\n",
       "      <td>-2</td>\n",
       "      <td>-2</td>\n",
       "      <td>-1.0</td>\n",
       "    </tr>\n",
       "    <tr>\n",
       "      <th>2022-01-14</th>\n",
       "      <td>2022-01-14</td>\n",
       "      <td>43099.699219</td>\n",
       "      <td>23577403399</td>\n",
       "      <td>0</td>\n",
       "      <td>0</td>\n",
       "      <td>2</td>\n",
       "      <td>-2</td>\n",
       "      <td>-0.2</td>\n",
       "    </tr>\n",
       "    <tr>\n",
       "      <th>2022-01-15</th>\n",
       "      <td>2022-01-15</td>\n",
       "      <td>43177.398438</td>\n",
       "      <td>18371348298</td>\n",
       "      <td>0</td>\n",
       "      <td>0</td>\n",
       "      <td>2</td>\n",
       "      <td>-2</td>\n",
       "      <td>-0.2</td>\n",
       "    </tr>\n",
       "    <tr>\n",
       "      <th>2022-01-16</th>\n",
       "      <td>2022-01-16</td>\n",
       "      <td>43113.878906</td>\n",
       "      <td>17902097845</td>\n",
       "      <td>0</td>\n",
       "      <td>0</td>\n",
       "      <td>-2</td>\n",
       "      <td>-2</td>\n",
       "      <td>-1.0</td>\n",
       "    </tr>\n",
       "    <tr>\n",
       "      <th>2022-01-17</th>\n",
       "      <td>2022-01-17</td>\n",
       "      <td>42129.140625</td>\n",
       "      <td>21023821824</td>\n",
       "      <td>0</td>\n",
       "      <td>0</td>\n",
       "      <td>-2</td>\n",
       "      <td>-2</td>\n",
       "      <td>-1.0</td>\n",
       "    </tr>\n",
       "  </tbody>\n",
       "</table>\n",
       "<p>1807 rows × 8 columns</p>\n",
       "</div>"
      ],
      "text/plain": [
       "                 Date         Close       Volume  signal_rsi  signal_bb  \\\n",
       "Date                                                                      \n",
       "2017-02-06 2017-02-06   1038.150024    111762000           0          0   \n",
       "2017-02-07 2017-02-07   1061.349976    146007008           2          0   \n",
       "2017-02-08 2017-02-08   1063.069946    201855008           2          0   \n",
       "2017-02-09 2017-02-09    994.382996    407220000           0          0   \n",
       "2017-02-10 2017-02-10    988.674011    190452000           0          0   \n",
       "...               ...           ...          ...         ...        ...   \n",
       "2022-01-13 2022-01-13  42591.570312  47691135082           0          0   \n",
       "2022-01-14 2022-01-14  43099.699219  23577403399           0          0   \n",
       "2022-01-15 2022-01-15  43177.398438  18371348298           0          0   \n",
       "2022-01-16 2022-01-16  43113.878906  17902097845           0          0   \n",
       "2022-01-17 2022-01-17  42129.140625  21023821824           0          0   \n",
       "\n",
       "            signal_obv  signal_mva  calculated_average  \n",
       "Date                                                    \n",
       "2017-02-06           2          -2                -0.2  \n",
       "2017-02-07           2          -2                 0.2  \n",
       "2017-02-08           2          -2                 0.2  \n",
       "2017-02-09          -2          -2                -1.0  \n",
       "2017-02-10          -2          -2                -1.0  \n",
       "...                ...         ...                 ...  \n",
       "2022-01-13          -2          -2                -1.0  \n",
       "2022-01-14           2          -2                -0.2  \n",
       "2022-01-15           2          -2                -0.2  \n",
       "2022-01-16          -2          -2                -1.0  \n",
       "2022-01-17          -2          -2                -1.0  \n",
       "\n",
       "[1807 rows x 8 columns]"
      ]
     },
     "execution_count": 5,
     "metadata": {},
     "output_type": "execute_result"
    }
   ],
   "source": [
    "import yfinance as yf\n",
    "import os\n",
    "import pandas as pd\n",
    "import numpy as np\n",
    "from yahoofinancials import YahooFinancials\n",
    "#input value, data from yahoo finance\n",
    "value = input(\"Please enter the currency: \\n\")\n",
    "ticker = yf.Ticker(f'{value}-USD')\n",
    "df_ta = ticker.history(period=\"5y\")\n",
    "df_ta.drop(['Open', 'High', 'Low', 'Dividends', 'Stock Splits'], axis=1, inplace=True)\n",
    "#add index value\n",
    "p = df_ta.index.values\n",
    "df_ta.insert( 0, column=\"Date\",value = p)\n",
    "#Calculate RSI\n",
    "delta = df_ta['Close'].diff(1) #difference from the previous day\n",
    "delta = delta.dropna()\n",
    "#get the positive gains(up) and negative gains(down)\n",
    "up = delta.copy()\n",
    "down = delta.copy()\n",
    "up[up < 0] = 0\n",
    "down[down > 0] = 0\n",
    "#Get the time period 14 days\n",
    "period = 14\n",
    "#calculate the average gain and loss\n",
    "AVG_Gain = up.rolling(window=period).mean()\n",
    "AVG_Loss = abs(down.rolling(window=period).mean())\n",
    "#Calculate RSI\n",
    "RS = AVG_Gain / AVG_Loss #relative strength\n",
    "#RSI\n",
    "RSI = 100.0 - (100.0/(1.0 + RS))\n",
    "#Put it all together\n",
    "new_df = pd.DataFrame()\n",
    "new_df['Close'] = df_ta['Close']\n",
    "new_df['RSI'] = RSI\n",
    "new_df\n",
    "#Get Buy and Sell Signals\n",
    "conditions = [\n",
    "    (new_df['RSI'] < 80) & (new_df['RSI'] > 20),\n",
    "    (new_df['RSI'] < 80),\n",
    "    (new_df['RSI'] > 20)]\n",
    "choices = [0, -2, 2]\n",
    "df_ta['signal_rsi'] = np.select(conditions, choices, default='0')\n",
    "#Bollinger Bands indicator\n",
    "period= 20\n",
    "#Simple Moving Average\n",
    "df_ta['SMA'] = df_ta['Close'].rolling(window=period).mean()\n",
    "#Standard deviation\n",
    "df_ta['STD'] = df_ta['Close'].rolling(window=period).std()\n",
    "#upper band\n",
    "df_ta['Upper'] = df_ta['SMA'] + (df_ta['STD']*2)\n",
    "#lower band\n",
    "df_ta['Lower'] = df_ta['SMA'] - (df_ta['STD']*2)\n",
    "#Create Signal Value\n",
    "conditions = [\n",
    "    (df_ta.Lower > df_ta.Close) & (df_ta.Upper < df_ta.Close),\n",
    "    (df_ta.Lower > df_ta.Close),\n",
    "    (df_ta.Upper < df_ta.Close)]\n",
    "choices = [0, 2, -2]\n",
    "df_ta['signal_bb'] = np.select(conditions, choices, default='0')\n",
    "df_ta = df_ta.dropna()\n",
    "#On Balance Volume indicator\n",
    "df_ta['Daily Returns'] = df_ta['Close'].pct_change()\n",
    "df_ta['signal_obv'] = 0\n",
    "df_ta.loc[df_ta['Daily Returns'] > 0, 'signal_obv'] = 2\n",
    "df_ta.loc[df_ta['Daily Returns'] < 0, 'signal_obv'] = -2\n",
    "df_ta.dropna(inplace= True)\n",
    "#MVA indicator\n",
    "#Create the simple MVA\n",
    "def SMA(data, period = 30, column ='Close'):\n",
    "    return data[column].rolling(window=period).mean()\n",
    "#Creating the Exponential MVA\n",
    "def EMA(data, period=20, column='Close'):\n",
    "    return data[column].ewm(span=period, adjust=False).mean()\n",
    "#Calculate MVA Convergence/Divergence\n",
    "def MACD(data, period_long=28, period_short=12, period_signal=9, column='Close'):\n",
    "    #calculate the short term exponential MVA\n",
    "    ShortEMA = EMA(data, period_short, column=column)\n",
    "    #calculate the long term exponential MVA\n",
    "    LongEMA = EMA(data, period_long, column=column)\n",
    "    #calculate the MVA Convergence/Divergence MACD\n",
    "    data['MACDA'] = ShortEMA - LongEMA\n",
    "    #calculate the signal line\n",
    "    data['Signal_Line'] = EMA(data, period_signal, column='MACD')\n",
    "    return data\n",
    "df_ta['SMA'] = SMA(df_ta)\n",
    "df_ta['EMA'] = EMA(df_ta)\n",
    "#Create a Simple Moving Average indicator\n",
    "def SMA(data, period = 30, column = 'Close'):\n",
    "    return data[column].rolling(window=period).mean()\n",
    "#Create two new columns to store 20 and 50 day SMA\n",
    "df_ta['SMA20']=SMA(df_ta, 20)\n",
    "df_ta['SMA50']=SMA(df_ta, 50)\n",
    "#Get Buy and Sell Signals\n",
    "df_ta['signal_mva'] = np.where(df_ta['SMA20']> df_ta['SMA50'], 2, -2)\n",
    "# Delete redundant data\n",
    "df_ta.drop(['SMA', 'STD', 'Upper', 'Lower','Daily Returns', 'EMA','SMA20','SMA50'], axis=1, inplace=True)\n",
    "#prepare datatype\n",
    "df_ta['signal_rsi'] = df_ta['signal_rsi'].astype('int')\n",
    "df_ta['signal_bb'] = df_ta['signal_bb'].astype('int')\n",
    "df_ta['signal_mva'] = df_ta['signal_mva'].astype('int')\n",
    "df_ta['signal_obv'] = df_ta['signal_obv'].astype('int')\n",
    "#add calculated average\n",
    "zaehler =  df_ta.apply(lambda x: (0.3 * x['signal_bb']) + (0.3 * x['signal_mva']) + (0.2 * x['signal_obv']) +(0.2 * x['signal_rsi']), axis=1)\n",
    "df_ta['calculated_average'] = zaehler / 1\n",
    "#Plot Frame\n",
    "df_ta"
   ]
  },
  {
   "cell_type": "markdown",
   "metadata": {},
   "source": [
    "# Merging section (probably needed)"
   ]
  },
  {
   "cell_type": "markdown",
   "metadata": {},
   "source": [
    "# Model definition (probably needed)"
   ]
  },
  {
   "cell_type": "markdown",
   "metadata": {},
   "source": [
    "## max. cluster strength"
   ]
  },
  {
   "cell_type": "code",
   "execution_count": 2,
   "metadata": {},
   "outputs": [],
   "source": [
    "# cluster strength\n",
    "\n",
    "## input:\n",
    "### date\n",
    "### cluster annotation per node, per day\n",
    "## throughput1:\n",
    "### number of neighbors inside cluster per node, per day\n",
    "### number of total neighbors per node, per day (degree per node, per day)\n",
    "## throughput2:\n",
    "### (number of neighbors inside cluster per node, per day) / (degree per node, per day)\n",
    "## output:\n",
    "### lowest value of throughput2, per day"
   ]
  },
  {
   "cell_type": "markdown",
   "metadata": {},
   "source": [
    "For the scores it is important to note that the lowest value indicates that there is no stimulation for a shock reaction.\n",
    "In the model n = -1 means that there is the lowest possible amount of stimulation from the daily news sentiment whereas n = 1 means that there is the highest possible amount. "
   ]
  },
  {
   "cell_type": "markdown",
   "metadata": {},
   "source": [
    "## sentiment score"
   ]
  },
  {
   "cell_type": "markdown",
   "metadata": {},
   "source": [
    "## indicator score"
   ]
  },
  {
   "cell_type": "markdown",
   "metadata": {},
   "source": [
    "## model payoffs"
   ]
  },
  {
   "cell_type": "markdown",
   "metadata": {},
   "source": [
    "The mathematical basis for the cascade model provides a logistic function (I). In addition to the current date, news sentiment and indicator scores are summed up and serve as model input. Based on (I) the model calculates the perceived payoffs for strategy A and strategy B. These payoff values function as global parameters for the whole network, implying that every node inside the network perceives the respective payoffs in the same way. \n",
    "\n",
    "\n",
    "A crucial design decision that has been made is that the payoff for strategy B is the counter-calue of the payoff for strategy B. This decision should emphasize that strategy B is simply the absence of strategy A. Therefore, the inequality (II), which decides whether or not a complete strategy A cascade is possible, is reduced to (II.1). In order for a complete strategy A cascade to be hence possible, inside the network on a specific date, there cannot exist a cluster with a cluster strength p greater than a.\n",
    "\n",
    "- I: equality for payoff a\n",
    "- II: inequality for complete cascade p > 1 - b\n",
    "- II.1: p > a"
   ]
  },
  {
   "cell_type": "code",
   "execution_count": 39,
   "metadata": {},
   "outputs": [],
   "source": [
    "# model_payoffs:\n",
    "\n",
    "## input:\n",
    "### x --> linear combination of scores\n",
    "### date\n",
    "## output:\n",
    "### payoff a --> a = 1/(1+exp(-x)), per day\n",
    "### payoff b --> b = 1 - a, per day\n",
    "\n",
    "# strategy A --> shock reaction (hype/panic)\n",
    "# strategy B --> indifferent reaction\n",
    "\n",
    "# threshold:\n",
    "\n",
    "## input:\n",
    "### payoff for strategy a\n",
    "### payoff for strategy b\n",
    "## output:\n",
    "### threshold value q --> q = b / (a + b)\n"
   ]
  },
  {
   "cell_type": "markdown",
   "metadata": {},
   "source": [
    "max cluster strength p has to be greater than a (p>a) for strategy A to cause a complete cascade\n",
    "\n",
    "- this is because b = 1 - a and q = b/(a+b) (--> a+b = 1 --> q = b/1)\n",
    "\n",
    "- original threshold formula: p > 1 - q --> p > 1 - b --> p > a (--> b=1-a --> a=1-b)\n",
    "\n",
    "- so in order for a cluster to break a complete strategy A cascade it has to have a strength greater than a"
   ]
  },
  {
   "cell_type": "code",
   "execution_count": 38,
   "metadata": {},
   "outputs": [
    {
     "data": {
      "text/plain": [
       "{'november': [(0.11920292202211755, 0.8807970779778824), 0.11920292202211757]}"
      ]
     },
     "execution_count": 38,
     "metadata": {},
     "output_type": "execute_result"
    }
   ],
   "source": [
    "import math\n",
    "\n",
    "\n",
    "d = ['november']\n",
    "n = -1\n",
    "t = -1\n",
    "\n",
    "def cascade_model(date, news, ta):\n",
    "    \n",
    "    #sum of scores\n",
    "    x = news + ta\n",
    "    \n",
    "    #payoffs\n",
    "    a = 1 / (1 + math.exp(-x))\n",
    "    b = 1 - a\n",
    "    \n",
    "    #threshold\n",
    "    q = b / (a + b)\n",
    "    \n",
    "    #output\n",
    "    model_output_dict = {}\n",
    "    \n",
    "    for d in date:\n",
    "        model_output_dict[d] = [(a,b), 1 - q]\n",
    "                                \n",
    "    return model_output_dict\n",
    "\n",
    "cascade_model(date=d, news=n, ta=t)"
   ]
  }
 ],
 "metadata": {
  "kernelspec": {
   "display_name": "Python 3",
   "language": "python",
   "name": "python3"
  },
  "language_info": {
   "codemirror_mode": {
    "name": "ipython",
    "version": 3
   },
   "file_extension": ".py",
   "mimetype": "text/x-python",
   "name": "python",
   "nbconvert_exporter": "python",
   "pygments_lexer": "ipython3",
   "version": "3.8.3"
  },
  "toc": {
   "base_numbering": 1,
   "nav_menu": {},
   "number_sections": true,
   "sideBar": true,
   "skip_h1_title": false,
   "title_cell": "Table of Contents",
   "title_sidebar": "Contents",
   "toc_cell": false,
   "toc_position": {},
   "toc_section_display": true,
   "toc_window_display": false
  },
  "varInspector": {
   "cols": {
    "lenName": 16,
    "lenType": 16,
    "lenVar": 40
   },
   "kernels_config": {
    "python": {
     "delete_cmd_postfix": "",
     "delete_cmd_prefix": "del ",
     "library": "var_list.py",
     "varRefreshCmd": "print(var_dic_list())"
    },
    "r": {
     "delete_cmd_postfix": ") ",
     "delete_cmd_prefix": "rm(",
     "library": "var_list.r",
     "varRefreshCmd": "cat(var_dic_list()) "
    }
   },
   "types_to_exclude": [
    "module",
    "function",
    "builtin_function_or_method",
    "instance",
    "_Feature"
   ],
   "window_display": false
  }
 },
 "nbformat": 4,
 "nbformat_minor": 5
}
