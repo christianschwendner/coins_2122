{
 "cells": [
  {
   "cell_type": "code",
   "execution_count": 1,
   "id": "8c8f4f15",
   "metadata": {},
   "outputs": [],
   "source": [
    "import pandas as pd\n",
    "from functools import reduce\n",
    "import math\n",
    "import seaborn as sns\n",
    "import matplotlib.pyplot as plt\n",
    "import matplotlib.dates as md"
   ]
  },
  {
   "cell_type": "markdown",
   "id": "0c054d96",
   "metadata": {},
   "source": [
    "# File imports\n",
    "## Adjen.. Matrix processing"
   ]
  },
  {
   "cell_type": "code",
   "execution_count": 2,
   "id": "eeb2b613",
   "metadata": {},
   "outputs": [],
   "source": [
    "adj_mat = pd.read_csv('../Griffin_data/Adjacency_Matrix_Output_Currency.csv', index_col='Unnamed: 0') #, index_col='Unnamed: 0'\n",
    "adj_mat = adj_mat[['src', 'dst', 'date', 'cluster_src', 'neighbours', 'neighbours_cluster', \n",
    "                   'neighbours_!cluster', 'cluster_dst', 'twitter_query']]\n",
    "\n",
    "adj_mat_ETH2 = adj_mat.loc[adj_mat['twitter_query'] == 'ETH2']\n",
    "adj_mat_SHIB = adj_mat.loc[adj_mat['twitter_query'] == 'SHIB']\n",
    "adj_mat_SOL = adj_mat.loc[adj_mat['twitter_query'] == 'SOL']\n",
    "adj_mat_ETH = adj_mat.loc[adj_mat['twitter_query'] == 'ETH']\n",
    "adj_mat_LINK = adj_mat.loc[adj_mat['twitter_query'] == 'LINK']\n",
    "adj_mat_BTC = adj_mat.loc[adj_mat['twitter_query'] == 'BTC']\n",
    "adj_mat_DOGE = adj_mat.loc[adj_mat['twitter_query'] == 'DOGE']"
   ]
  },
  {
   "cell_type": "markdown",
   "id": "859d25b7",
   "metadata": {},
   "source": [
    "## News dataframe processing"
   ]
  },
  {
   "cell_type": "code",
   "execution_count": 3,
   "id": "46e68dd2",
   "metadata": {},
   "outputs": [],
   "source": [
    "news_df = pd.read_excel('../GPT-3_Approach/output_data_sentiment.xlsx', index_col='Unnamed: 0').drop(columns=['Unnamed: 0.1','Unnamed: 0.1.1'])\n",
    "\n",
    "news_df['Query'] = news_df['Query'].str.replace('bitcoin', 'BTC')\n",
    "news_df['Query'] = news_df['Query'].str.replace('ethereum2', 'ETH2')\n",
    "news_df['Query'] = news_df['Query'].str.replace('shibainucoin', 'SHIB')\n",
    "news_df['Query'] = news_df['Query'].str.replace('solana', 'SOL')\n",
    "news_df['Query'] = news_df['Query'].str.replace('ethereum', 'ETH')\n",
    "news_df['Query'] = news_df['Query'].str.replace('Chainlink', 'LINK')\n",
    "news_df['Query'] = news_df['Query'].str.replace('dogecoin', 'DOGE')\n",
    "\n",
    "news_df_BTC = news_df.loc[news_df['Query'] == 'BTC']\n",
    "news_df_ETH2 = news_df.loc[news_df['Query'] == 'ETH2']\n",
    "news_df_SHIB = news_df.loc[news_df['Query'] == 'SHIB']\n",
    "news_df_SOL = news_df.loc[news_df['Query'] == 'SOL']\n",
    "news_df_ETH = news_df.loc[news_df['Query'] == 'ETH']\n",
    "news_df_LINK = news_df.loc[news_df['Query'] == 'LINK']\n",
    "news_df_DOGE = news_df.loc[news_df['Query'] == 'DOGE']"
   ]
  },
  {
   "cell_type": "markdown",
   "id": "e10d85e3",
   "metadata": {},
   "source": [
    "## Crypto data import"
   ]
  },
  {
   "cell_type": "code",
   "execution_count": 4,
   "id": "0bf3cc5a",
   "metadata": {},
   "outputs": [],
   "source": [
    "df_ta_BTC = pd.read_csv('ta_df/df_ta_BTC.csv')\n",
    "df_ta_SHIB = pd.read_csv('ta_df/df_ta_SHIB.csv')\n",
    "df_ta_SOL = pd.read_csv('ta_df/df_ta_SOL.csv')\n",
    "df_ta_ETH = pd.read_csv('ta_df/df_ta_ETH.csv')\n",
    "df_ta_LINK = pd.read_csv('ta_df/df_ta_LINK.csv')\n",
    "df_ta_DOGE = pd.read_csv('ta_df/df_ta_DOGE.csv')\n",
    "df_ta_SHIB = pd.read_csv('ta_df/df_ta_SHIB.csv')"
   ]
  },
  {
   "cell_type": "markdown",
   "id": "ae9f39db",
   "metadata": {},
   "source": [
    "# Define Model\n",
    "## Functions"
   ]
  },
  {
   "cell_type": "code",
   "execution_count": 5,
   "id": "3d8dd2b0",
   "metadata": {},
   "outputs": [],
   "source": [
    "adj_mat = adj_mat.loc[adj_mat['twitter_query'] == 'ETH']"
   ]
  },
  {
   "cell_type": "code",
   "execution_count": 6,
   "id": "11a53731",
   "metadata": {},
   "outputs": [
    {
     "data": {
      "text/html": [
       "<div>\n",
       "<style scoped>\n",
       "    .dataframe tbody tr th:only-of-type {\n",
       "        vertical-align: middle;\n",
       "    }\n",
       "\n",
       "    .dataframe tbody tr th {\n",
       "        vertical-align: top;\n",
       "    }\n",
       "\n",
       "    .dataframe thead th {\n",
       "        text-align: right;\n",
       "    }\n",
       "</style>\n",
       "<table border=\"1\" class=\"dataframe\">\n",
       "  <thead>\n",
       "    <tr style=\"text-align: right;\">\n",
       "      <th></th>\n",
       "      <th>src</th>\n",
       "      <th>dst</th>\n",
       "      <th>date</th>\n",
       "      <th>cluster_src</th>\n",
       "      <th>neighbours</th>\n",
       "      <th>neighbours_cluster</th>\n",
       "      <th>neighbours_!cluster</th>\n",
       "      <th>cluster_dst</th>\n",
       "      <th>twitter_query</th>\n",
       "    </tr>\n",
       "  </thead>\n",
       "  <tbody>\n",
       "    <tr>\n",
       "      <th>18</th>\n",
       "      <td>fastpeterson</td>\n",
       "      <td>leerzeit</td>\n",
       "      <td>2021-10-24</td>\n",
       "      <td>C7</td>\n",
       "      <td>1</td>\n",
       "      <td>1</td>\n",
       "      <td>0</td>\n",
       "      <td>C7</td>\n",
       "      <td>ETH</td>\n",
       "    </tr>\n",
       "    <tr>\n",
       "      <th>26</th>\n",
       "      <td>timmill52024962</td>\n",
       "      <td>leerzeit</td>\n",
       "      <td>2021-10-24</td>\n",
       "      <td>C7</td>\n",
       "      <td>1</td>\n",
       "      <td>1</td>\n",
       "      <td>0</td>\n",
       "      <td>C7</td>\n",
       "      <td>ETH</td>\n",
       "    </tr>\n",
       "    <tr>\n",
       "      <th>28</th>\n",
       "      <td>terry_twatter</td>\n",
       "      <td>leerzeit</td>\n",
       "      <td>2021-10-24</td>\n",
       "      <td>C7</td>\n",
       "      <td>1</td>\n",
       "      <td>1</td>\n",
       "      <td>0</td>\n",
       "      <td>C7</td>\n",
       "      <td>ETH</td>\n",
       "    </tr>\n",
       "    <tr>\n",
       "      <th>35</th>\n",
       "      <td>idesire_btc</td>\n",
       "      <td>leerzeit</td>\n",
       "      <td>2021-10-24</td>\n",
       "      <td>C7</td>\n",
       "      <td>2</td>\n",
       "      <td>2</td>\n",
       "      <td>0</td>\n",
       "      <td>C7</td>\n",
       "      <td>ETH</td>\n",
       "    </tr>\n",
       "    <tr>\n",
       "      <th>40</th>\n",
       "      <td>10cryptoes</td>\n",
       "      <td>leerzeit</td>\n",
       "      <td>2021-10-24</td>\n",
       "      <td>C7</td>\n",
       "      <td>4</td>\n",
       "      <td>4</td>\n",
       "      <td>0</td>\n",
       "      <td>C7</td>\n",
       "      <td>ETH</td>\n",
       "    </tr>\n",
       "    <tr>\n",
       "      <th>...</th>\n",
       "      <td>...</td>\n",
       "      <td>...</td>\n",
       "      <td>...</td>\n",
       "      <td>...</td>\n",
       "      <td>...</td>\n",
       "      <td>...</td>\n",
       "      <td>...</td>\n",
       "      <td>...</td>\n",
       "      <td>...</td>\n",
       "    </tr>\n",
       "    <tr>\n",
       "      <th>271638</th>\n",
       "      <td>bellbrand</td>\n",
       "      <td>babylionsclub</td>\n",
       "      <td>2021-12-26</td>\n",
       "      <td>C6</td>\n",
       "      <td>8</td>\n",
       "      <td>4</td>\n",
       "      <td>4</td>\n",
       "      <td>C6</td>\n",
       "      <td>ETH</td>\n",
       "    </tr>\n",
       "    <tr>\n",
       "      <th>271639</th>\n",
       "      <td>bellbrand</td>\n",
       "      <td>fat32_eth</td>\n",
       "      <td>2021-12-26</td>\n",
       "      <td>C6</td>\n",
       "      <td>8</td>\n",
       "      <td>4</td>\n",
       "      <td>4</td>\n",
       "      <td>C4</td>\n",
       "      <td>ETH</td>\n",
       "    </tr>\n",
       "    <tr>\n",
       "      <th>271640</th>\n",
       "      <td>bellbrand</td>\n",
       "      <td>fat32_eth</td>\n",
       "      <td>2021-12-26</td>\n",
       "      <td>C6</td>\n",
       "      <td>8</td>\n",
       "      <td>4</td>\n",
       "      <td>4</td>\n",
       "      <td>C4</td>\n",
       "      <td>ETH</td>\n",
       "    </tr>\n",
       "    <tr>\n",
       "      <th>271641</th>\n",
       "      <td>bellbrand</td>\n",
       "      <td>fat32_eth</td>\n",
       "      <td>2021-12-26</td>\n",
       "      <td>C6</td>\n",
       "      <td>8</td>\n",
       "      <td>4</td>\n",
       "      <td>4</td>\n",
       "      <td>C6</td>\n",
       "      <td>ETH</td>\n",
       "    </tr>\n",
       "    <tr>\n",
       "      <th>271642</th>\n",
       "      <td>bellbrand</td>\n",
       "      <td>fat32_eth</td>\n",
       "      <td>2021-12-26</td>\n",
       "      <td>C6</td>\n",
       "      <td>8</td>\n",
       "      <td>4</td>\n",
       "      <td>4</td>\n",
       "      <td>C6</td>\n",
       "      <td>ETH</td>\n",
       "    </tr>\n",
       "  </tbody>\n",
       "</table>\n",
       "<p>27556 rows × 9 columns</p>\n",
       "</div>"
      ],
      "text/plain": [
       "                    src            dst        date cluster_src  neighbours  \\\n",
       "18         fastpeterson       leerzeit  2021-10-24          C7           1   \n",
       "26      timmill52024962       leerzeit  2021-10-24          C7           1   \n",
       "28        terry_twatter       leerzeit  2021-10-24          C7           1   \n",
       "35          idesire_btc       leerzeit  2021-10-24          C7           2   \n",
       "40           10cryptoes       leerzeit  2021-10-24          C7           4   \n",
       "...                 ...            ...         ...         ...         ...   \n",
       "271638        bellbrand  babylionsclub  2021-12-26          C6           8   \n",
       "271639        bellbrand      fat32_eth  2021-12-26          C6           8   \n",
       "271640        bellbrand      fat32_eth  2021-12-26          C6           8   \n",
       "271641        bellbrand      fat32_eth  2021-12-26          C6           8   \n",
       "271642        bellbrand      fat32_eth  2021-12-26          C6           8   \n",
       "\n",
       "        neighbours_cluster  neighbours_!cluster cluster_dst twitter_query  \n",
       "18                       1                    0          C7           ETH  \n",
       "26                       1                    0          C7           ETH  \n",
       "28                       1                    0          C7           ETH  \n",
       "35                       2                    0          C7           ETH  \n",
       "40                       4                    0          C7           ETH  \n",
       "...                    ...                  ...         ...           ...  \n",
       "271638                   4                    4          C6           ETH  \n",
       "271639                   4                    4          C4           ETH  \n",
       "271640                   4                    4          C4           ETH  \n",
       "271641                   4                    4          C6           ETH  \n",
       "271642                   4                    4          C6           ETH  \n",
       "\n",
       "[27556 rows x 9 columns]"
      ]
     },
     "execution_count": 6,
     "metadata": {},
     "output_type": "execute_result"
    }
   ],
   "source": [
    "adj_mat"
   ]
  },
  {
   "cell_type": "code",
   "execution_count": 7,
   "id": "c50fbf55",
   "metadata": {},
   "outputs": [],
   "source": [
    "adj_mat['cluster_strength'] = adj_mat['neighbours_cluster'] / adj_mat['neighbours']"
   ]
  },
  {
   "cell_type": "code",
   "execution_count": 8,
   "id": "949bb988",
   "metadata": {
    "scrolled": true
   },
   "outputs": [
    {
     "data": {
      "text/html": [
       "<div>\n",
       "<style scoped>\n",
       "    .dataframe tbody tr th:only-of-type {\n",
       "        vertical-align: middle;\n",
       "    }\n",
       "\n",
       "    .dataframe tbody tr th {\n",
       "        vertical-align: top;\n",
       "    }\n",
       "\n",
       "    .dataframe thead th {\n",
       "        text-align: right;\n",
       "    }\n",
       "</style>\n",
       "<table border=\"1\" class=\"dataframe\">\n",
       "  <thead>\n",
       "    <tr style=\"text-align: right;\">\n",
       "      <th></th>\n",
       "      <th>src</th>\n",
       "      <th>dst</th>\n",
       "      <th>date</th>\n",
       "      <th>cluster_src</th>\n",
       "      <th>neighbours</th>\n",
       "      <th>neighbours_cluster</th>\n",
       "      <th>neighbours_!cluster</th>\n",
       "      <th>cluster_dst</th>\n",
       "      <th>twitter_query</th>\n",
       "      <th>cluster_strength</th>\n",
       "    </tr>\n",
       "  </thead>\n",
       "  <tbody>\n",
       "    <tr>\n",
       "      <th>18</th>\n",
       "      <td>fastpeterson</td>\n",
       "      <td>leerzeit</td>\n",
       "      <td>2021-10-24</td>\n",
       "      <td>C7</td>\n",
       "      <td>1</td>\n",
       "      <td>1</td>\n",
       "      <td>0</td>\n",
       "      <td>C7</td>\n",
       "      <td>ETH</td>\n",
       "      <td>1.000000</td>\n",
       "    </tr>\n",
       "    <tr>\n",
       "      <th>26</th>\n",
       "      <td>timmill52024962</td>\n",
       "      <td>leerzeit</td>\n",
       "      <td>2021-10-24</td>\n",
       "      <td>C7</td>\n",
       "      <td>1</td>\n",
       "      <td>1</td>\n",
       "      <td>0</td>\n",
       "      <td>C7</td>\n",
       "      <td>ETH</td>\n",
       "      <td>1.000000</td>\n",
       "    </tr>\n",
       "    <tr>\n",
       "      <th>28</th>\n",
       "      <td>terry_twatter</td>\n",
       "      <td>leerzeit</td>\n",
       "      <td>2021-10-24</td>\n",
       "      <td>C7</td>\n",
       "      <td>1</td>\n",
       "      <td>1</td>\n",
       "      <td>0</td>\n",
       "      <td>C7</td>\n",
       "      <td>ETH</td>\n",
       "      <td>1.000000</td>\n",
       "    </tr>\n",
       "    <tr>\n",
       "      <th>35</th>\n",
       "      <td>idesire_btc</td>\n",
       "      <td>leerzeit</td>\n",
       "      <td>2021-10-24</td>\n",
       "      <td>C7</td>\n",
       "      <td>2</td>\n",
       "      <td>2</td>\n",
       "      <td>0</td>\n",
       "      <td>C7</td>\n",
       "      <td>ETH</td>\n",
       "      <td>1.000000</td>\n",
       "    </tr>\n",
       "    <tr>\n",
       "      <th>40</th>\n",
       "      <td>10cryptoes</td>\n",
       "      <td>leerzeit</td>\n",
       "      <td>2021-10-24</td>\n",
       "      <td>C7</td>\n",
       "      <td>4</td>\n",
       "      <td>4</td>\n",
       "      <td>0</td>\n",
       "      <td>C7</td>\n",
       "      <td>ETH</td>\n",
       "      <td>1.000000</td>\n",
       "    </tr>\n",
       "    <tr>\n",
       "      <th>44</th>\n",
       "      <td>alexan20011</td>\n",
       "      <td>leerzeit</td>\n",
       "      <td>2021-10-24</td>\n",
       "      <td>C7</td>\n",
       "      <td>1</td>\n",
       "      <td>1</td>\n",
       "      <td>0</td>\n",
       "      <td>C7</td>\n",
       "      <td>ETH</td>\n",
       "      <td>1.000000</td>\n",
       "    </tr>\n",
       "    <tr>\n",
       "      <th>45</th>\n",
       "      <td>moonboyp</td>\n",
       "      <td>leerzeit</td>\n",
       "      <td>2021-10-24</td>\n",
       "      <td>C7</td>\n",
       "      <td>4</td>\n",
       "      <td>4</td>\n",
       "      <td>0</td>\n",
       "      <td>C7</td>\n",
       "      <td>ETH</td>\n",
       "      <td>1.000000</td>\n",
       "    </tr>\n",
       "    <tr>\n",
       "      <th>49</th>\n",
       "      <td>leerzeit</td>\n",
       "      <td>kennedypattiso1</td>\n",
       "      <td>2021-10-24</td>\n",
       "      <td>C7</td>\n",
       "      <td>183</td>\n",
       "      <td>173</td>\n",
       "      <td>10</td>\n",
       "      <td>C7</td>\n",
       "      <td>ETH</td>\n",
       "      <td>0.945355</td>\n",
       "    </tr>\n",
       "    <tr>\n",
       "      <th>53</th>\n",
       "      <td>leerzeit</td>\n",
       "      <td>10cryptoes</td>\n",
       "      <td>2021-10-24</td>\n",
       "      <td>C7</td>\n",
       "      <td>183</td>\n",
       "      <td>173</td>\n",
       "      <td>10</td>\n",
       "      <td>C7</td>\n",
       "      <td>ETH</td>\n",
       "      <td>0.945355</td>\n",
       "    </tr>\n",
       "    <tr>\n",
       "      <th>56</th>\n",
       "      <td>lucaxrp</td>\n",
       "      <td>leerzeit</td>\n",
       "      <td>2021-10-24</td>\n",
       "      <td>C7</td>\n",
       "      <td>1</td>\n",
       "      <td>1</td>\n",
       "      <td>0</td>\n",
       "      <td>C7</td>\n",
       "      <td>ETH</td>\n",
       "      <td>1.000000</td>\n",
       "    </tr>\n",
       "    <tr>\n",
       "      <th>58</th>\n",
       "      <td>kennedypattiso1</td>\n",
       "      <td>leerzeit</td>\n",
       "      <td>2021-10-24</td>\n",
       "      <td>C7</td>\n",
       "      <td>2</td>\n",
       "      <td>2</td>\n",
       "      <td>0</td>\n",
       "      <td>C7</td>\n",
       "      <td>ETH</td>\n",
       "      <td>1.000000</td>\n",
       "    </tr>\n",
       "    <tr>\n",
       "      <th>59</th>\n",
       "      <td>githa_74</td>\n",
       "      <td>leerzeit</td>\n",
       "      <td>2021-10-24</td>\n",
       "      <td>C7</td>\n",
       "      <td>1</td>\n",
       "      <td>1</td>\n",
       "      <td>0</td>\n",
       "      <td>C7</td>\n",
       "      <td>ETH</td>\n",
       "      <td>1.000000</td>\n",
       "    </tr>\n",
       "    <tr>\n",
       "      <th>60</th>\n",
       "      <td>chesh_be_ra</td>\n",
       "      <td>estammaddoyom</td>\n",
       "      <td>2021-10-24</td>\n",
       "      <td>C7</td>\n",
       "      <td>1</td>\n",
       "      <td>1</td>\n",
       "      <td>0</td>\n",
       "      <td>C7</td>\n",
       "      <td>ETH</td>\n",
       "      <td>1.000000</td>\n",
       "    </tr>\n",
       "    <tr>\n",
       "      <th>61</th>\n",
       "      <td>ladtowsey</td>\n",
       "      <td>leerzeit</td>\n",
       "      <td>2021-10-24</td>\n",
       "      <td>C7</td>\n",
       "      <td>1</td>\n",
       "      <td>1</td>\n",
       "      <td>0</td>\n",
       "      <td>C7</td>\n",
       "      <td>ETH</td>\n",
       "      <td>1.000000</td>\n",
       "    </tr>\n",
       "    <tr>\n",
       "      <th>67</th>\n",
       "      <td>rstormsf</td>\n",
       "      <td>lidofinance</td>\n",
       "      <td>2021-10-24</td>\n",
       "      <td>C7</td>\n",
       "      <td>2</td>\n",
       "      <td>2</td>\n",
       "      <td>0</td>\n",
       "      <td>C7</td>\n",
       "      <td>ETH</td>\n",
       "      <td>1.000000</td>\n",
       "    </tr>\n",
       "    <tr>\n",
       "      <th>68</th>\n",
       "      <td>neptune_xrp</td>\n",
       "      <td>leerzeit</td>\n",
       "      <td>2021-10-24</td>\n",
       "      <td>C7</td>\n",
       "      <td>12</td>\n",
       "      <td>12</td>\n",
       "      <td>0</td>\n",
       "      <td>C7</td>\n",
       "      <td>ETH</td>\n",
       "      <td>1.000000</td>\n",
       "    </tr>\n",
       "    <tr>\n",
       "      <th>69</th>\n",
       "      <td>theagentsmith_3</td>\n",
       "      <td>leerzeit</td>\n",
       "      <td>2021-10-24</td>\n",
       "      <td>C7</td>\n",
       "      <td>4</td>\n",
       "      <td>4</td>\n",
       "      <td>0</td>\n",
       "      <td>C7</td>\n",
       "      <td>ETH</td>\n",
       "      <td>1.000000</td>\n",
       "    </tr>\n",
       "    <tr>\n",
       "      <th>72</th>\n",
       "      <td>me09158228</td>\n",
       "      <td>leerzeit</td>\n",
       "      <td>2021-10-24</td>\n",
       "      <td>C7</td>\n",
       "      <td>1</td>\n",
       "      <td>1</td>\n",
       "      <td>0</td>\n",
       "      <td>C7</td>\n",
       "      <td>ETH</td>\n",
       "      <td>1.000000</td>\n",
       "    </tr>\n",
       "    <tr>\n",
       "      <th>73</th>\n",
       "      <td>cryptoskyreach</td>\n",
       "      <td>leerzeit</td>\n",
       "      <td>2021-10-24</td>\n",
       "      <td>C7</td>\n",
       "      <td>1</td>\n",
       "      <td>1</td>\n",
       "      <td>0</td>\n",
       "      <td>C7</td>\n",
       "      <td>ETH</td>\n",
       "      <td>1.000000</td>\n",
       "    </tr>\n",
       "    <tr>\n",
       "      <th>74</th>\n",
       "      <td>xrp_ninja</td>\n",
       "      <td>leerzeit</td>\n",
       "      <td>2021-10-24</td>\n",
       "      <td>C7</td>\n",
       "      <td>2</td>\n",
       "      <td>2</td>\n",
       "      <td>0</td>\n",
       "      <td>C7</td>\n",
       "      <td>ETH</td>\n",
       "      <td>1.000000</td>\n",
       "    </tr>\n",
       "    <tr>\n",
       "      <th>80</th>\n",
       "      <td>ethanon21793186</td>\n",
       "      <td>leerzeit</td>\n",
       "      <td>2021-10-24</td>\n",
       "      <td>C7</td>\n",
       "      <td>3</td>\n",
       "      <td>3</td>\n",
       "      <td>0</td>\n",
       "      <td>C7</td>\n",
       "      <td>ETH</td>\n",
       "      <td>1.000000</td>\n",
       "    </tr>\n",
       "  </tbody>\n",
       "</table>\n",
       "</div>"
      ],
      "text/plain": [
       "                src              dst        date cluster_src  neighbours  \\\n",
       "18     fastpeterson         leerzeit  2021-10-24          C7           1   \n",
       "26  timmill52024962         leerzeit  2021-10-24          C7           1   \n",
       "28    terry_twatter         leerzeit  2021-10-24          C7           1   \n",
       "35      idesire_btc         leerzeit  2021-10-24          C7           2   \n",
       "40       10cryptoes         leerzeit  2021-10-24          C7           4   \n",
       "44      alexan20011         leerzeit  2021-10-24          C7           1   \n",
       "45         moonboyp         leerzeit  2021-10-24          C7           4   \n",
       "49         leerzeit  kennedypattiso1  2021-10-24          C7         183   \n",
       "53         leerzeit       10cryptoes  2021-10-24          C7         183   \n",
       "56          lucaxrp         leerzeit  2021-10-24          C7           1   \n",
       "58  kennedypattiso1         leerzeit  2021-10-24          C7           2   \n",
       "59         githa_74         leerzeit  2021-10-24          C7           1   \n",
       "60      chesh_be_ra    estammaddoyom  2021-10-24          C7           1   \n",
       "61        ladtowsey         leerzeit  2021-10-24          C7           1   \n",
       "67         rstormsf      lidofinance  2021-10-24          C7           2   \n",
       "68      neptune_xrp         leerzeit  2021-10-24          C7          12   \n",
       "69  theagentsmith_3         leerzeit  2021-10-24          C7           4   \n",
       "72       me09158228         leerzeit  2021-10-24          C7           1   \n",
       "73   cryptoskyreach         leerzeit  2021-10-24          C7           1   \n",
       "74        xrp_ninja         leerzeit  2021-10-24          C7           2   \n",
       "80  ethanon21793186         leerzeit  2021-10-24          C7           3   \n",
       "\n",
       "    neighbours_cluster  neighbours_!cluster cluster_dst twitter_query  \\\n",
       "18                   1                    0          C7           ETH   \n",
       "26                   1                    0          C7           ETH   \n",
       "28                   1                    0          C7           ETH   \n",
       "35                   2                    0          C7           ETH   \n",
       "40                   4                    0          C7           ETH   \n",
       "44                   1                    0          C7           ETH   \n",
       "45                   4                    0          C7           ETH   \n",
       "49                 173                   10          C7           ETH   \n",
       "53                 173                   10          C7           ETH   \n",
       "56                   1                    0          C7           ETH   \n",
       "58                   2                    0          C7           ETH   \n",
       "59                   1                    0          C7           ETH   \n",
       "60                   1                    0          C7           ETH   \n",
       "61                   1                    0          C7           ETH   \n",
       "67                   2                    0          C7           ETH   \n",
       "68                  12                    0          C7           ETH   \n",
       "69                   4                    0          C7           ETH   \n",
       "72                   1                    0          C7           ETH   \n",
       "73                   1                    0          C7           ETH   \n",
       "74                   2                    0          C7           ETH   \n",
       "80                   3                    0          C7           ETH   \n",
       "\n",
       "    cluster_strength  \n",
       "18          1.000000  \n",
       "26          1.000000  \n",
       "28          1.000000  \n",
       "35          1.000000  \n",
       "40          1.000000  \n",
       "44          1.000000  \n",
       "45          1.000000  \n",
       "49          0.945355  \n",
       "53          0.945355  \n",
       "56          1.000000  \n",
       "58          1.000000  \n",
       "59          1.000000  \n",
       "60          1.000000  \n",
       "61          1.000000  \n",
       "67          1.000000  \n",
       "68          1.000000  \n",
       "69          1.000000  \n",
       "72          1.000000  \n",
       "73          1.000000  \n",
       "74          1.000000  \n",
       "80          1.000000  "
      ]
     },
     "execution_count": 8,
     "metadata": {},
     "output_type": "execute_result"
    }
   ],
   "source": [
    "adj_mat.loc[(adj_mat['cluster_src'] == 'C7') & (adj_mat['date'] == '2021-10-24')]"
   ]
  },
  {
   "cell_type": "code",
   "execution_count": 142,
   "id": "3a78f2e7",
   "metadata": {},
   "outputs": [
    {
     "data": {
      "text/html": [
       "<div>\n",
       "<style scoped>\n",
       "    .dataframe tbody tr th:only-of-type {\n",
       "        vertical-align: middle;\n",
       "    }\n",
       "\n",
       "    .dataframe tbody tr th {\n",
       "        vertical-align: top;\n",
       "    }\n",
       "\n",
       "    .dataframe thead th {\n",
       "        text-align: right;\n",
       "    }\n",
       "</style>\n",
       "<table border=\"1\" class=\"dataframe\">\n",
       "  <thead>\n",
       "    <tr style=\"text-align: right;\">\n",
       "      <th></th>\n",
       "      <th>src</th>\n",
       "      <th>dst</th>\n",
       "      <th>date</th>\n",
       "      <th>cluster_src</th>\n",
       "      <th>neighbours</th>\n",
       "      <th>neighbours_cluster</th>\n",
       "      <th>neighbours_!cluster</th>\n",
       "      <th>cluster_dst</th>\n",
       "      <th>twitter_query</th>\n",
       "      <th>cluster_strength</th>\n",
       "    </tr>\n",
       "  </thead>\n",
       "  <tbody>\n",
       "    <tr>\n",
       "      <th>18</th>\n",
       "      <td>fastpeterson</td>\n",
       "      <td>leerzeit</td>\n",
       "      <td>2021-10-24</td>\n",
       "      <td>C7</td>\n",
       "      <td>1</td>\n",
       "      <td>1</td>\n",
       "      <td>0</td>\n",
       "      <td>C7</td>\n",
       "      <td>ETH</td>\n",
       "      <td>1.000000</td>\n",
       "    </tr>\n",
       "    <tr>\n",
       "      <th>26</th>\n",
       "      <td>timmill52024962</td>\n",
       "      <td>leerzeit</td>\n",
       "      <td>2021-10-24</td>\n",
       "      <td>C7</td>\n",
       "      <td>1</td>\n",
       "      <td>1</td>\n",
       "      <td>0</td>\n",
       "      <td>C7</td>\n",
       "      <td>ETH</td>\n",
       "      <td>1.000000</td>\n",
       "    </tr>\n",
       "    <tr>\n",
       "      <th>28</th>\n",
       "      <td>terry_twatter</td>\n",
       "      <td>leerzeit</td>\n",
       "      <td>2021-10-24</td>\n",
       "      <td>C7</td>\n",
       "      <td>1</td>\n",
       "      <td>1</td>\n",
       "      <td>0</td>\n",
       "      <td>C7</td>\n",
       "      <td>ETH</td>\n",
       "      <td>1.000000</td>\n",
       "    </tr>\n",
       "    <tr>\n",
       "      <th>35</th>\n",
       "      <td>idesire_btc</td>\n",
       "      <td>leerzeit</td>\n",
       "      <td>2021-10-24</td>\n",
       "      <td>C7</td>\n",
       "      <td>2</td>\n",
       "      <td>2</td>\n",
       "      <td>0</td>\n",
       "      <td>C7</td>\n",
       "      <td>ETH</td>\n",
       "      <td>1.000000</td>\n",
       "    </tr>\n",
       "    <tr>\n",
       "      <th>40</th>\n",
       "      <td>10cryptoes</td>\n",
       "      <td>leerzeit</td>\n",
       "      <td>2021-10-24</td>\n",
       "      <td>C7</td>\n",
       "      <td>4</td>\n",
       "      <td>4</td>\n",
       "      <td>0</td>\n",
       "      <td>C7</td>\n",
       "      <td>ETH</td>\n",
       "      <td>1.000000</td>\n",
       "    </tr>\n",
       "    <tr>\n",
       "      <th>44</th>\n",
       "      <td>alexan20011</td>\n",
       "      <td>leerzeit</td>\n",
       "      <td>2021-10-24</td>\n",
       "      <td>C7</td>\n",
       "      <td>1</td>\n",
       "      <td>1</td>\n",
       "      <td>0</td>\n",
       "      <td>C7</td>\n",
       "      <td>ETH</td>\n",
       "      <td>1.000000</td>\n",
       "    </tr>\n",
       "    <tr>\n",
       "      <th>45</th>\n",
       "      <td>moonboyp</td>\n",
       "      <td>leerzeit</td>\n",
       "      <td>2021-10-24</td>\n",
       "      <td>C7</td>\n",
       "      <td>4</td>\n",
       "      <td>4</td>\n",
       "      <td>0</td>\n",
       "      <td>C7</td>\n",
       "      <td>ETH</td>\n",
       "      <td>1.000000</td>\n",
       "    </tr>\n",
       "    <tr>\n",
       "      <th>49</th>\n",
       "      <td>leerzeit</td>\n",
       "      <td>kennedypattiso1</td>\n",
       "      <td>2021-10-24</td>\n",
       "      <td>C7</td>\n",
       "      <td>183</td>\n",
       "      <td>173</td>\n",
       "      <td>10</td>\n",
       "      <td>C7</td>\n",
       "      <td>ETH</td>\n",
       "      <td>0.945355</td>\n",
       "    </tr>\n",
       "    <tr>\n",
       "      <th>53</th>\n",
       "      <td>leerzeit</td>\n",
       "      <td>10cryptoes</td>\n",
       "      <td>2021-10-24</td>\n",
       "      <td>C7</td>\n",
       "      <td>183</td>\n",
       "      <td>173</td>\n",
       "      <td>10</td>\n",
       "      <td>C7</td>\n",
       "      <td>ETH</td>\n",
       "      <td>0.945355</td>\n",
       "    </tr>\n",
       "    <tr>\n",
       "      <th>55</th>\n",
       "      <td>tadaspetra</td>\n",
       "      <td>developer_dao</td>\n",
       "      <td>2021-10-24</td>\n",
       "      <td>C6</td>\n",
       "      <td>1</td>\n",
       "      <td>1</td>\n",
       "      <td>0</td>\n",
       "      <td>C6</td>\n",
       "      <td>ETH</td>\n",
       "      <td>1.000000</td>\n",
       "    </tr>\n",
       "    <tr>\n",
       "      <th>56</th>\n",
       "      <td>lucaxrp</td>\n",
       "      <td>leerzeit</td>\n",
       "      <td>2021-10-24</td>\n",
       "      <td>C7</td>\n",
       "      <td>1</td>\n",
       "      <td>1</td>\n",
       "      <td>0</td>\n",
       "      <td>C7</td>\n",
       "      <td>ETH</td>\n",
       "      <td>1.000000</td>\n",
       "    </tr>\n",
       "    <tr>\n",
       "      <th>58</th>\n",
       "      <td>kennedypattiso1</td>\n",
       "      <td>leerzeit</td>\n",
       "      <td>2021-10-24</td>\n",
       "      <td>C7</td>\n",
       "      <td>2</td>\n",
       "      <td>2</td>\n",
       "      <td>0</td>\n",
       "      <td>C7</td>\n",
       "      <td>ETH</td>\n",
       "      <td>1.000000</td>\n",
       "    </tr>\n",
       "    <tr>\n",
       "      <th>59</th>\n",
       "      <td>githa_74</td>\n",
       "      <td>leerzeit</td>\n",
       "      <td>2021-10-24</td>\n",
       "      <td>C7</td>\n",
       "      <td>1</td>\n",
       "      <td>1</td>\n",
       "      <td>0</td>\n",
       "      <td>C7</td>\n",
       "      <td>ETH</td>\n",
       "      <td>1.000000</td>\n",
       "    </tr>\n",
       "    <tr>\n",
       "      <th>60</th>\n",
       "      <td>chesh_be_ra</td>\n",
       "      <td>estammaddoyom</td>\n",
       "      <td>2021-10-24</td>\n",
       "      <td>C7</td>\n",
       "      <td>1</td>\n",
       "      <td>1</td>\n",
       "      <td>0</td>\n",
       "      <td>C7</td>\n",
       "      <td>ETH</td>\n",
       "      <td>1.000000</td>\n",
       "    </tr>\n",
       "    <tr>\n",
       "      <th>61</th>\n",
       "      <td>ladtowsey</td>\n",
       "      <td>leerzeit</td>\n",
       "      <td>2021-10-24</td>\n",
       "      <td>C7</td>\n",
       "      <td>1</td>\n",
       "      <td>1</td>\n",
       "      <td>0</td>\n",
       "      <td>C7</td>\n",
       "      <td>ETH</td>\n",
       "      <td>1.000000</td>\n",
       "    </tr>\n",
       "    <tr>\n",
       "      <th>63</th>\n",
       "      <td>bitcoinduh</td>\n",
       "      <td>jayarsuaresz</td>\n",
       "      <td>2021-10-24</td>\n",
       "      <td>C2</td>\n",
       "      <td>1</td>\n",
       "      <td>1</td>\n",
       "      <td>0</td>\n",
       "      <td>C2</td>\n",
       "      <td>ETH</td>\n",
       "      <td>1.000000</td>\n",
       "    </tr>\n",
       "    <tr>\n",
       "      <th>67</th>\n",
       "      <td>rstormsf</td>\n",
       "      <td>lidofinance</td>\n",
       "      <td>2021-10-24</td>\n",
       "      <td>C7</td>\n",
       "      <td>2</td>\n",
       "      <td>2</td>\n",
       "      <td>0</td>\n",
       "      <td>C7</td>\n",
       "      <td>ETH</td>\n",
       "      <td>1.000000</td>\n",
       "    </tr>\n",
       "    <tr>\n",
       "      <th>68</th>\n",
       "      <td>neptune_xrp</td>\n",
       "      <td>leerzeit</td>\n",
       "      <td>2021-10-24</td>\n",
       "      <td>C7</td>\n",
       "      <td>12</td>\n",
       "      <td>12</td>\n",
       "      <td>0</td>\n",
       "      <td>C7</td>\n",
       "      <td>ETH</td>\n",
       "      <td>1.000000</td>\n",
       "    </tr>\n",
       "    <tr>\n",
       "      <th>69</th>\n",
       "      <td>theagentsmith_3</td>\n",
       "      <td>leerzeit</td>\n",
       "      <td>2021-10-24</td>\n",
       "      <td>C7</td>\n",
       "      <td>4</td>\n",
       "      <td>4</td>\n",
       "      <td>0</td>\n",
       "      <td>C7</td>\n",
       "      <td>ETH</td>\n",
       "      <td>1.000000</td>\n",
       "    </tr>\n",
       "    <tr>\n",
       "      <th>72</th>\n",
       "      <td>me09158228</td>\n",
       "      <td>leerzeit</td>\n",
       "      <td>2021-10-24</td>\n",
       "      <td>C7</td>\n",
       "      <td>1</td>\n",
       "      <td>1</td>\n",
       "      <td>0</td>\n",
       "      <td>C7</td>\n",
       "      <td>ETH</td>\n",
       "      <td>1.000000</td>\n",
       "    </tr>\n",
       "    <tr>\n",
       "      <th>73</th>\n",
       "      <td>cryptoskyreach</td>\n",
       "      <td>leerzeit</td>\n",
       "      <td>2021-10-24</td>\n",
       "      <td>C7</td>\n",
       "      <td>1</td>\n",
       "      <td>1</td>\n",
       "      <td>0</td>\n",
       "      <td>C7</td>\n",
       "      <td>ETH</td>\n",
       "      <td>1.000000</td>\n",
       "    </tr>\n",
       "    <tr>\n",
       "      <th>74</th>\n",
       "      <td>xrp_ninja</td>\n",
       "      <td>leerzeit</td>\n",
       "      <td>2021-10-24</td>\n",
       "      <td>C7</td>\n",
       "      <td>2</td>\n",
       "      <td>2</td>\n",
       "      <td>0</td>\n",
       "      <td>C7</td>\n",
       "      <td>ETH</td>\n",
       "      <td>1.000000</td>\n",
       "    </tr>\n",
       "    <tr>\n",
       "      <th>75</th>\n",
       "      <td>shibaxx1</td>\n",
       "      <td>sftd_art</td>\n",
       "      <td>2021-10-24</td>\n",
       "      <td>C0</td>\n",
       "      <td>2</td>\n",
       "      <td>2</td>\n",
       "      <td>0</td>\n",
       "      <td>C0</td>\n",
       "      <td>ETH</td>\n",
       "      <td>1.000000</td>\n",
       "    </tr>\n",
       "    <tr>\n",
       "      <th>80</th>\n",
       "      <td>ethanon21793186</td>\n",
       "      <td>leerzeit</td>\n",
       "      <td>2021-10-24</td>\n",
       "      <td>C7</td>\n",
       "      <td>3</td>\n",
       "      <td>3</td>\n",
       "      <td>0</td>\n",
       "      <td>C7</td>\n",
       "      <td>ETH</td>\n",
       "      <td>1.000000</td>\n",
       "    </tr>\n",
       "  </tbody>\n",
       "</table>\n",
       "</div>"
      ],
      "text/plain": [
       "                src              dst        date cluster_src  neighbours  \\\n",
       "18     fastpeterson         leerzeit  2021-10-24          C7           1   \n",
       "26  timmill52024962         leerzeit  2021-10-24          C7           1   \n",
       "28    terry_twatter         leerzeit  2021-10-24          C7           1   \n",
       "35      idesire_btc         leerzeit  2021-10-24          C7           2   \n",
       "40       10cryptoes         leerzeit  2021-10-24          C7           4   \n",
       "44      alexan20011         leerzeit  2021-10-24          C7           1   \n",
       "45         moonboyp         leerzeit  2021-10-24          C7           4   \n",
       "49         leerzeit  kennedypattiso1  2021-10-24          C7         183   \n",
       "53         leerzeit       10cryptoes  2021-10-24          C7         183   \n",
       "55       tadaspetra    developer_dao  2021-10-24          C6           1   \n",
       "56          lucaxrp         leerzeit  2021-10-24          C7           1   \n",
       "58  kennedypattiso1         leerzeit  2021-10-24          C7           2   \n",
       "59         githa_74         leerzeit  2021-10-24          C7           1   \n",
       "60      chesh_be_ra    estammaddoyom  2021-10-24          C7           1   \n",
       "61        ladtowsey         leerzeit  2021-10-24          C7           1   \n",
       "63       bitcoinduh     jayarsuaresz  2021-10-24          C2           1   \n",
       "67         rstormsf      lidofinance  2021-10-24          C7           2   \n",
       "68      neptune_xrp         leerzeit  2021-10-24          C7          12   \n",
       "69  theagentsmith_3         leerzeit  2021-10-24          C7           4   \n",
       "72       me09158228         leerzeit  2021-10-24          C7           1   \n",
       "73   cryptoskyreach         leerzeit  2021-10-24          C7           1   \n",
       "74        xrp_ninja         leerzeit  2021-10-24          C7           2   \n",
       "75         shibaxx1         sftd_art  2021-10-24          C0           2   \n",
       "80  ethanon21793186         leerzeit  2021-10-24          C7           3   \n",
       "\n",
       "    neighbours_cluster  neighbours_!cluster cluster_dst twitter_query  \\\n",
       "18                   1                    0          C7           ETH   \n",
       "26                   1                    0          C7           ETH   \n",
       "28                   1                    0          C7           ETH   \n",
       "35                   2                    0          C7           ETH   \n",
       "40                   4                    0          C7           ETH   \n",
       "44                   1                    0          C7           ETH   \n",
       "45                   4                    0          C7           ETH   \n",
       "49                 173                   10          C7           ETH   \n",
       "53                 173                   10          C7           ETH   \n",
       "55                   1                    0          C6           ETH   \n",
       "56                   1                    0          C7           ETH   \n",
       "58                   2                    0          C7           ETH   \n",
       "59                   1                    0          C7           ETH   \n",
       "60                   1                    0          C7           ETH   \n",
       "61                   1                    0          C7           ETH   \n",
       "63                   1                    0          C2           ETH   \n",
       "67                   2                    0          C7           ETH   \n",
       "68                  12                    0          C7           ETH   \n",
       "69                   4                    0          C7           ETH   \n",
       "72                   1                    0          C7           ETH   \n",
       "73                   1                    0          C7           ETH   \n",
       "74                   2                    0          C7           ETH   \n",
       "75                   2                    0          C0           ETH   \n",
       "80                   3                    0          C7           ETH   \n",
       "\n",
       "    cluster_strength  \n",
       "18          1.000000  \n",
       "26          1.000000  \n",
       "28          1.000000  \n",
       "35          1.000000  \n",
       "40          1.000000  \n",
       "44          1.000000  \n",
       "45          1.000000  \n",
       "49          0.945355  \n",
       "53          0.945355  \n",
       "55          1.000000  \n",
       "56          1.000000  \n",
       "58          1.000000  \n",
       "59          1.000000  \n",
       "60          1.000000  \n",
       "61          1.000000  \n",
       "63          1.000000  \n",
       "67          1.000000  \n",
       "68          1.000000  \n",
       "69          1.000000  \n",
       "72          1.000000  \n",
       "73          1.000000  \n",
       "74          1.000000  \n",
       "75          1.000000  \n",
       "80          1.000000  "
      ]
     },
     "execution_count": 142,
     "metadata": {},
     "output_type": "execute_result"
    }
   ],
   "source": [
    "adj_mat.loc[adj_mat['date'] == '2021-10-24']"
   ]
  },
  {
   "cell_type": "code",
   "execution_count": 172,
   "id": "9519b7d9",
   "metadata": {},
   "outputs": [],
   "source": [
    "ng = adj_mat.loc[adj_mat['date'] == '2021-10-24']"
   ]
  },
  {
   "cell_type": "code",
   "execution_count": 173,
   "id": "6496924f",
   "metadata": {},
   "outputs": [
    {
     "data": {
      "text/html": [
       "<div>\n",
       "<style scoped>\n",
       "    .dataframe tbody tr th:only-of-type {\n",
       "        vertical-align: middle;\n",
       "    }\n",
       "\n",
       "    .dataframe tbody tr th {\n",
       "        vertical-align: top;\n",
       "    }\n",
       "\n",
       "    .dataframe thead th {\n",
       "        text-align: right;\n",
       "    }\n",
       "</style>\n",
       "<table border=\"1\" class=\"dataframe\">\n",
       "  <thead>\n",
       "    <tr style=\"text-align: right;\">\n",
       "      <th></th>\n",
       "      <th>src</th>\n",
       "      <th>dst</th>\n",
       "      <th>date</th>\n",
       "      <th>cluster_src</th>\n",
       "      <th>neighbours</th>\n",
       "      <th>neighbours_cluster</th>\n",
       "      <th>neighbours_!cluster</th>\n",
       "      <th>cluster_dst</th>\n",
       "      <th>twitter_query</th>\n",
       "      <th>cluster_strength</th>\n",
       "    </tr>\n",
       "  </thead>\n",
       "  <tbody>\n",
       "    <tr>\n",
       "      <th>18</th>\n",
       "      <td>fastpeterson</td>\n",
       "      <td>leerzeit</td>\n",
       "      <td>2021-10-24</td>\n",
       "      <td>C7</td>\n",
       "      <td>1</td>\n",
       "      <td>1</td>\n",
       "      <td>0</td>\n",
       "      <td>C7</td>\n",
       "      <td>ETH</td>\n",
       "      <td>1.000000</td>\n",
       "    </tr>\n",
       "    <tr>\n",
       "      <th>26</th>\n",
       "      <td>timmill52024962</td>\n",
       "      <td>leerzeit</td>\n",
       "      <td>2021-10-24</td>\n",
       "      <td>C7</td>\n",
       "      <td>1</td>\n",
       "      <td>1</td>\n",
       "      <td>0</td>\n",
       "      <td>C7</td>\n",
       "      <td>ETH</td>\n",
       "      <td>1.000000</td>\n",
       "    </tr>\n",
       "    <tr>\n",
       "      <th>28</th>\n",
       "      <td>terry_twatter</td>\n",
       "      <td>leerzeit</td>\n",
       "      <td>2021-10-24</td>\n",
       "      <td>C7</td>\n",
       "      <td>1</td>\n",
       "      <td>1</td>\n",
       "      <td>0</td>\n",
       "      <td>C7</td>\n",
       "      <td>ETH</td>\n",
       "      <td>1.000000</td>\n",
       "    </tr>\n",
       "    <tr>\n",
       "      <th>35</th>\n",
       "      <td>idesire_btc</td>\n",
       "      <td>leerzeit</td>\n",
       "      <td>2021-10-24</td>\n",
       "      <td>C7</td>\n",
       "      <td>2</td>\n",
       "      <td>2</td>\n",
       "      <td>0</td>\n",
       "      <td>C7</td>\n",
       "      <td>ETH</td>\n",
       "      <td>1.000000</td>\n",
       "    </tr>\n",
       "    <tr>\n",
       "      <th>40</th>\n",
       "      <td>10cryptoes</td>\n",
       "      <td>leerzeit</td>\n",
       "      <td>2021-10-24</td>\n",
       "      <td>C7</td>\n",
       "      <td>4</td>\n",
       "      <td>4</td>\n",
       "      <td>0</td>\n",
       "      <td>C7</td>\n",
       "      <td>ETH</td>\n",
       "      <td>1.000000</td>\n",
       "    </tr>\n",
       "    <tr>\n",
       "      <th>44</th>\n",
       "      <td>alexan20011</td>\n",
       "      <td>leerzeit</td>\n",
       "      <td>2021-10-24</td>\n",
       "      <td>C7</td>\n",
       "      <td>1</td>\n",
       "      <td>1</td>\n",
       "      <td>0</td>\n",
       "      <td>C7</td>\n",
       "      <td>ETH</td>\n",
       "      <td>1.000000</td>\n",
       "    </tr>\n",
       "    <tr>\n",
       "      <th>45</th>\n",
       "      <td>moonboyp</td>\n",
       "      <td>leerzeit</td>\n",
       "      <td>2021-10-24</td>\n",
       "      <td>C7</td>\n",
       "      <td>4</td>\n",
       "      <td>4</td>\n",
       "      <td>0</td>\n",
       "      <td>C7</td>\n",
       "      <td>ETH</td>\n",
       "      <td>1.000000</td>\n",
       "    </tr>\n",
       "    <tr>\n",
       "      <th>49</th>\n",
       "      <td>leerzeit</td>\n",
       "      <td>kennedypattiso1</td>\n",
       "      <td>2021-10-24</td>\n",
       "      <td>C7</td>\n",
       "      <td>183</td>\n",
       "      <td>173</td>\n",
       "      <td>10</td>\n",
       "      <td>C7</td>\n",
       "      <td>ETH</td>\n",
       "      <td>0.945355</td>\n",
       "    </tr>\n",
       "    <tr>\n",
       "      <th>53</th>\n",
       "      <td>leerzeit</td>\n",
       "      <td>10cryptoes</td>\n",
       "      <td>2021-10-24</td>\n",
       "      <td>C7</td>\n",
       "      <td>183</td>\n",
       "      <td>173</td>\n",
       "      <td>10</td>\n",
       "      <td>C7</td>\n",
       "      <td>ETH</td>\n",
       "      <td>0.945355</td>\n",
       "    </tr>\n",
       "    <tr>\n",
       "      <th>55</th>\n",
       "      <td>tadaspetra</td>\n",
       "      <td>developer_dao</td>\n",
       "      <td>2021-10-24</td>\n",
       "      <td>C6</td>\n",
       "      <td>1</td>\n",
       "      <td>1</td>\n",
       "      <td>0</td>\n",
       "      <td>C6</td>\n",
       "      <td>ETH</td>\n",
       "      <td>1.000000</td>\n",
       "    </tr>\n",
       "    <tr>\n",
       "      <th>56</th>\n",
       "      <td>lucaxrp</td>\n",
       "      <td>leerzeit</td>\n",
       "      <td>2021-10-24</td>\n",
       "      <td>C7</td>\n",
       "      <td>1</td>\n",
       "      <td>1</td>\n",
       "      <td>0</td>\n",
       "      <td>C7</td>\n",
       "      <td>ETH</td>\n",
       "      <td>1.000000</td>\n",
       "    </tr>\n",
       "    <tr>\n",
       "      <th>58</th>\n",
       "      <td>kennedypattiso1</td>\n",
       "      <td>leerzeit</td>\n",
       "      <td>2021-10-24</td>\n",
       "      <td>C7</td>\n",
       "      <td>2</td>\n",
       "      <td>2</td>\n",
       "      <td>0</td>\n",
       "      <td>C7</td>\n",
       "      <td>ETH</td>\n",
       "      <td>1.000000</td>\n",
       "    </tr>\n",
       "    <tr>\n",
       "      <th>59</th>\n",
       "      <td>githa_74</td>\n",
       "      <td>leerzeit</td>\n",
       "      <td>2021-10-24</td>\n",
       "      <td>C7</td>\n",
       "      <td>1</td>\n",
       "      <td>1</td>\n",
       "      <td>0</td>\n",
       "      <td>C7</td>\n",
       "      <td>ETH</td>\n",
       "      <td>1.000000</td>\n",
       "    </tr>\n",
       "    <tr>\n",
       "      <th>60</th>\n",
       "      <td>chesh_be_ra</td>\n",
       "      <td>estammaddoyom</td>\n",
       "      <td>2021-10-24</td>\n",
       "      <td>C7</td>\n",
       "      <td>1</td>\n",
       "      <td>1</td>\n",
       "      <td>0</td>\n",
       "      <td>C7</td>\n",
       "      <td>ETH</td>\n",
       "      <td>1.000000</td>\n",
       "    </tr>\n",
       "    <tr>\n",
       "      <th>61</th>\n",
       "      <td>ladtowsey</td>\n",
       "      <td>leerzeit</td>\n",
       "      <td>2021-10-24</td>\n",
       "      <td>C7</td>\n",
       "      <td>1</td>\n",
       "      <td>1</td>\n",
       "      <td>0</td>\n",
       "      <td>C7</td>\n",
       "      <td>ETH</td>\n",
       "      <td>1.000000</td>\n",
       "    </tr>\n",
       "    <tr>\n",
       "      <th>63</th>\n",
       "      <td>bitcoinduh</td>\n",
       "      <td>jayarsuaresz</td>\n",
       "      <td>2021-10-24</td>\n",
       "      <td>C2</td>\n",
       "      <td>1</td>\n",
       "      <td>1</td>\n",
       "      <td>0</td>\n",
       "      <td>C2</td>\n",
       "      <td>ETH</td>\n",
       "      <td>1.000000</td>\n",
       "    </tr>\n",
       "    <tr>\n",
       "      <th>67</th>\n",
       "      <td>rstormsf</td>\n",
       "      <td>lidofinance</td>\n",
       "      <td>2021-10-24</td>\n",
       "      <td>C7</td>\n",
       "      <td>2</td>\n",
       "      <td>2</td>\n",
       "      <td>0</td>\n",
       "      <td>C7</td>\n",
       "      <td>ETH</td>\n",
       "      <td>1.000000</td>\n",
       "    </tr>\n",
       "    <tr>\n",
       "      <th>68</th>\n",
       "      <td>neptune_xrp</td>\n",
       "      <td>leerzeit</td>\n",
       "      <td>2021-10-24</td>\n",
       "      <td>C7</td>\n",
       "      <td>12</td>\n",
       "      <td>12</td>\n",
       "      <td>0</td>\n",
       "      <td>C7</td>\n",
       "      <td>ETH</td>\n",
       "      <td>1.000000</td>\n",
       "    </tr>\n",
       "    <tr>\n",
       "      <th>69</th>\n",
       "      <td>theagentsmith_3</td>\n",
       "      <td>leerzeit</td>\n",
       "      <td>2021-10-24</td>\n",
       "      <td>C7</td>\n",
       "      <td>4</td>\n",
       "      <td>4</td>\n",
       "      <td>0</td>\n",
       "      <td>C7</td>\n",
       "      <td>ETH</td>\n",
       "      <td>1.000000</td>\n",
       "    </tr>\n",
       "    <tr>\n",
       "      <th>72</th>\n",
       "      <td>me09158228</td>\n",
       "      <td>leerzeit</td>\n",
       "      <td>2021-10-24</td>\n",
       "      <td>C7</td>\n",
       "      <td>1</td>\n",
       "      <td>1</td>\n",
       "      <td>0</td>\n",
       "      <td>C7</td>\n",
       "      <td>ETH</td>\n",
       "      <td>1.000000</td>\n",
       "    </tr>\n",
       "    <tr>\n",
       "      <th>73</th>\n",
       "      <td>cryptoskyreach</td>\n",
       "      <td>leerzeit</td>\n",
       "      <td>2021-10-24</td>\n",
       "      <td>C7</td>\n",
       "      <td>1</td>\n",
       "      <td>1</td>\n",
       "      <td>0</td>\n",
       "      <td>C7</td>\n",
       "      <td>ETH</td>\n",
       "      <td>1.000000</td>\n",
       "    </tr>\n",
       "    <tr>\n",
       "      <th>74</th>\n",
       "      <td>xrp_ninja</td>\n",
       "      <td>leerzeit</td>\n",
       "      <td>2021-10-24</td>\n",
       "      <td>C7</td>\n",
       "      <td>2</td>\n",
       "      <td>2</td>\n",
       "      <td>0</td>\n",
       "      <td>C7</td>\n",
       "      <td>ETH</td>\n",
       "      <td>1.000000</td>\n",
       "    </tr>\n",
       "    <tr>\n",
       "      <th>75</th>\n",
       "      <td>shibaxx1</td>\n",
       "      <td>sftd_art</td>\n",
       "      <td>2021-10-24</td>\n",
       "      <td>C0</td>\n",
       "      <td>2</td>\n",
       "      <td>2</td>\n",
       "      <td>0</td>\n",
       "      <td>C0</td>\n",
       "      <td>ETH</td>\n",
       "      <td>1.000000</td>\n",
       "    </tr>\n",
       "    <tr>\n",
       "      <th>80</th>\n",
       "      <td>ethanon21793186</td>\n",
       "      <td>leerzeit</td>\n",
       "      <td>2021-10-24</td>\n",
       "      <td>C7</td>\n",
       "      <td>3</td>\n",
       "      <td>3</td>\n",
       "      <td>0</td>\n",
       "      <td>C7</td>\n",
       "      <td>ETH</td>\n",
       "      <td>1.000000</td>\n",
       "    </tr>\n",
       "  </tbody>\n",
       "</table>\n",
       "</div>"
      ],
      "text/plain": [
       "                src              dst        date cluster_src  neighbours  \\\n",
       "18     fastpeterson         leerzeit  2021-10-24          C7           1   \n",
       "26  timmill52024962         leerzeit  2021-10-24          C7           1   \n",
       "28    terry_twatter         leerzeit  2021-10-24          C7           1   \n",
       "35      idesire_btc         leerzeit  2021-10-24          C7           2   \n",
       "40       10cryptoes         leerzeit  2021-10-24          C7           4   \n",
       "44      alexan20011         leerzeit  2021-10-24          C7           1   \n",
       "45         moonboyp         leerzeit  2021-10-24          C7           4   \n",
       "49         leerzeit  kennedypattiso1  2021-10-24          C7         183   \n",
       "53         leerzeit       10cryptoes  2021-10-24          C7         183   \n",
       "55       tadaspetra    developer_dao  2021-10-24          C6           1   \n",
       "56          lucaxrp         leerzeit  2021-10-24          C7           1   \n",
       "58  kennedypattiso1         leerzeit  2021-10-24          C7           2   \n",
       "59         githa_74         leerzeit  2021-10-24          C7           1   \n",
       "60      chesh_be_ra    estammaddoyom  2021-10-24          C7           1   \n",
       "61        ladtowsey         leerzeit  2021-10-24          C7           1   \n",
       "63       bitcoinduh     jayarsuaresz  2021-10-24          C2           1   \n",
       "67         rstormsf      lidofinance  2021-10-24          C7           2   \n",
       "68      neptune_xrp         leerzeit  2021-10-24          C7          12   \n",
       "69  theagentsmith_3         leerzeit  2021-10-24          C7           4   \n",
       "72       me09158228         leerzeit  2021-10-24          C7           1   \n",
       "73   cryptoskyreach         leerzeit  2021-10-24          C7           1   \n",
       "74        xrp_ninja         leerzeit  2021-10-24          C7           2   \n",
       "75         shibaxx1         sftd_art  2021-10-24          C0           2   \n",
       "80  ethanon21793186         leerzeit  2021-10-24          C7           3   \n",
       "\n",
       "    neighbours_cluster  neighbours_!cluster cluster_dst twitter_query  \\\n",
       "18                   1                    0          C7           ETH   \n",
       "26                   1                    0          C7           ETH   \n",
       "28                   1                    0          C7           ETH   \n",
       "35                   2                    0          C7           ETH   \n",
       "40                   4                    0          C7           ETH   \n",
       "44                   1                    0          C7           ETH   \n",
       "45                   4                    0          C7           ETH   \n",
       "49                 173                   10          C7           ETH   \n",
       "53                 173                   10          C7           ETH   \n",
       "55                   1                    0          C6           ETH   \n",
       "56                   1                    0          C7           ETH   \n",
       "58                   2                    0          C7           ETH   \n",
       "59                   1                    0          C7           ETH   \n",
       "60                   1                    0          C7           ETH   \n",
       "61                   1                    0          C7           ETH   \n",
       "63                   1                    0          C2           ETH   \n",
       "67                   2                    0          C7           ETH   \n",
       "68                  12                    0          C7           ETH   \n",
       "69                   4                    0          C7           ETH   \n",
       "72                   1                    0          C7           ETH   \n",
       "73                   1                    0          C7           ETH   \n",
       "74                   2                    0          C7           ETH   \n",
       "75                   2                    0          C0           ETH   \n",
       "80                   3                    0          C7           ETH   \n",
       "\n",
       "    cluster_strength  \n",
       "18          1.000000  \n",
       "26          1.000000  \n",
       "28          1.000000  \n",
       "35          1.000000  \n",
       "40          1.000000  \n",
       "44          1.000000  \n",
       "45          1.000000  \n",
       "49          0.945355  \n",
       "53          0.945355  \n",
       "55          1.000000  \n",
       "56          1.000000  \n",
       "58          1.000000  \n",
       "59          1.000000  \n",
       "60          1.000000  \n",
       "61          1.000000  \n",
       "63          1.000000  \n",
       "67          1.000000  \n",
       "68          1.000000  \n",
       "69          1.000000  \n",
       "72          1.000000  \n",
       "73          1.000000  \n",
       "74          1.000000  \n",
       "75          1.000000  \n",
       "80          1.000000  "
      ]
     },
     "execution_count": 173,
     "metadata": {},
     "output_type": "execute_result"
    }
   ],
   "source": [
    "ng"
   ]
  },
  {
   "cell_type": "code",
   "execution_count": 9,
   "id": "fd53369e",
   "metadata": {},
   "outputs": [
    {
     "data": {
      "text/plain": [
       "1.0"
      ]
     },
     "execution_count": 9,
     "metadata": {},
     "output_type": "execute_result"
    }
   ],
   "source": [
    "test1 = adj_mat.loc[adj_mat['cluster_src'] == 'C6']\n",
    "test2 = test1.loc[adj_mat['date'] == '2021-10-24']\n",
    "test2['cluster_strength'].min()\n",
    "\n",
    "#C7 2021-10-24 0.9453551912568307"
   ]
  },
  {
   "cell_type": "code",
   "execution_count": 219,
   "id": "c3196a0a",
   "metadata": {},
   "outputs": [],
   "source": [
    "#network graph per day\n",
    "\n",
    "import plotly.graph_objects as go\n",
    "\n",
    "import networkx as nx\n",
    "import math\n"
   ]
  },
  {
   "cell_type": "markdown",
   "id": "8b1c2cde",
   "metadata": {},
   "source": [
    "# MATPLOTLIB"
   ]
  },
  {
   "cell_type": "code",
   "execution_count": 313,
   "id": "5aec6ee6",
   "metadata": {
    "scrolled": true
   },
   "outputs": [],
   "source": [
    "#nodes = pd.DataFrame(list(zip(ng['src'], ng['dst'])), columns =['src','dst'])\n",
    "#nodes\n",
    "\n",
    "\n",
    "ng.loc[ng['cluster_src'] == 'C0', 'cluster_src'] = 0\n",
    "ng.loc[ng['cluster_src'] == 'C1', 'cluster_src'] = 1\n",
    "ng.loc[ng['cluster_src'] == 'C2', 'cluster_src'] = 2\n",
    "ng.loc[ng['cluster_src'] == 'C3', 'cluster_src'] = 3\n",
    "ng.loc[ng['cluster_src'] == 'C4', 'cluster_src'] = 4\n",
    "ng.loc[ng['cluster_src'] == 'C5', 'cluster_src'] = 5\n",
    "ng.loc[ng['cluster_src'] == 'C6', 'cluster_src'] = 6\n",
    "ng.loc[ng['cluster_src'] == 'C7', 'cluster_src'] = 7\n",
    "ng.loc[ng['cluster_src'] == 'C8', 'cluster_src'] = 8\n",
    "ng.loc[ng['cluster_src'] == 'C9', 'cluster_src'] = 9\n",
    "\n",
    "#ng.reset_index()\n",
    "\n",
    "ng.set_index(ng['src'], inplace = True)\n",
    "\n",
    "G = nx.Graph()\n",
    "G = nx.convert_matrix.from_pandas_edgelist(ng,'src','dst')\n",
    "pos = nx.spring_layout(G, k = 3/math.sqrt(len(ng)), iterations = 50)\n",
    "\n",
    "#pos = nx.set_node_attributes(G, pos)\n",
    "\n",
    "#node-attributes\n",
    "\n",
    "\n",
    "#for i in G.nodes():\n",
    "#    G.nodes[i]['cluster'] = ng.cluster_src[i]\n",
    "    \n",
    "#ng.cluster_src\n",
    "#ng\n",
    "\n",
    "#nx.set_node_attributes(G, pd.Series(nodes.gender, index=nodes.node).to_dict(), 'gender')\n",
    "\n",
    "nx.set_node_attributes(G, pd.Series(ng.cluster_src, index=ng.src).to_dict(), 'cluster_src')\n",
    "\n",
    "#G.nodes['tadaspetra']\n",
    "\n",
    "#ng.src\n",
    "\n",
    "#colors = [i/len(G.nodes) for i in range(len(G.nodes))]\n",
    "\n",
    "#colors\n",
    "\n",
    "#nx.draw(G, pos, node_color = nx.get_node_attributes(G,'cluster_src'), vmin = 0, vmax = 9, cmap = plt.cm.get_cmap('Accent'))\n",
    "\n",
    "#pos = nx.complete_graph(G)\n",
    "\n",
    "#G.add_edges_from(nodes)\n",
    "#G.nodes\n",
    "\n",
    "#network = nx.Graph(G)\n"
   ]
  },
  {
   "cell_type": "code",
   "execution_count": 314,
   "id": "aa734834",
   "metadata": {},
   "outputs": [
    {
     "data": {
      "text/plain": [
       "{'cluster_src': 7}"
      ]
     },
     "execution_count": 314,
     "metadata": {},
     "output_type": "execute_result"
    }
   ],
   "source": [
    "G.nodes['leerzeit']"
   ]
  },
  {
   "cell_type": "markdown",
   "id": "7cb229a0",
   "metadata": {},
   "source": [
    "# PLOTLY"
   ]
  },
  {
   "cell_type": "code",
   "execution_count": 336,
   "id": "15d2b7f8",
   "metadata": {},
   "outputs": [
    {
     "data": {
      "text/plain": [
       "{'pos': array([-0.08866998,  0.63247706])}"
      ]
     },
     "execution_count": 336,
     "metadata": {},
     "output_type": "execute_result"
    }
   ],
   "source": [
    "G = nx.Graph()\n",
    "G = nx.convert_matrix.from_pandas_edgelist(ng,'src','dst')\n",
    "pos = nx.spring_layout(G, k = 3/math.sqrt(len(ng)), iterations = 50)\n",
    "\n",
    "pos\n",
    "\n",
    "#nx.set_node_attributes(G, pd.Series(ng.cluster_src, index=ng.src).to_dict(), 'cluster_src')\n",
    "\n",
    "nx.set_node_attributes(G, pos, 'pos')\n",
    "\n",
    "G.nodes['fastpeterson']"
   ]
  },
  {
   "cell_type": "code",
   "execution_count": 340,
   "id": "81bc6454",
   "metadata": {},
   "outputs": [
    {
     "data": {
      "text/plain": [
       "{'pos': array([-0.08866998,  0.63247706]), 'cluster_src': 7}"
      ]
     },
     "execution_count": 340,
     "metadata": {},
     "output_type": "execute_result"
    }
   ],
   "source": [
    "nx.set_node_attributes(G, pd.Series(ng.cluster_src, index=ng.src).to_dict(), 'cluster_src')\n",
    "G.nodes['fastpeterson']"
   ]
  },
  {
   "cell_type": "code",
   "execution_count": 376,
   "id": "094a3d69",
   "metadata": {
    "scrolled": true
   },
   "outputs": [],
   "source": [
    "edge_x = []\n",
    "edge_y = []\n",
    "for edge in G.edges():\n",
    "    x0, y0 = G.nodes[edge[0]]['pos']\n",
    "    x1, y1 = G.nodes[edge[1]]['pos']\n",
    "    edge_x.append(x0)\n",
    "    edge_x.append(x1)\n",
    "    edge_x.append(None)\n",
    "    edge_y.append(y0)\n",
    "    edge_y.append(y1)\n",
    "    edge_y.append(None)\n",
    "\n",
    "edge_trace = go.Scatter(\n",
    "    x=edge_x, y=edge_y,\n",
    "    line=dict(width=0.5, color='#888'),\n",
    "    hoverinfo='none',\n",
    "    mode='lines')\n",
    "\n",
    "node_x = []\n",
    "node_y = []\n",
    "for node in G.nodes():\n",
    "    x, y = G.nodes[node]['pos']\n",
    "    node_x.append(x)\n",
    "    node_y.append(y)\n",
    "\n",
    "node_trace = go.Scatter(\n",
    "    x=node_x, y=node_y,\n",
    "    mode='markers',\n",
    "    hoverinfo= 'text',\n",
    "    marker=dict(\n",
    "        showscale=True,\n",
    "        # colorscale options\n",
    "        #'Greys' | 'YlGnBu' | 'Greens' | 'YlOrRd' | 'Bluered' | 'RdBu' |\n",
    "        #'Reds' | 'Blues' | 'Picnic' | 'Rainbow' | 'Portland' | 'Jet' |\n",
    "        #'Hot' | 'Blackbody' | 'Earth' | 'Electric' | 'Viridis' |\n",
    "        colorscale='YlGnBu',\n",
    "        reversescale=True,\n",
    "        color= node_cluster,\n",
    "        size=10,\n",
    "        colorbar=dict(\n",
    "            thickness=15,\n",
    "            title='Cluster_affiliation',\n",
    "            xanchor='left',\n",
    "            titleside='right'\n",
    "        ),\n",
    "        line_width=2))"
   ]
  },
  {
   "cell_type": "code",
   "execution_count": 368,
   "id": "57e84cb3",
   "metadata": {},
   "outputs": [
    {
     "data": {
      "text/plain": [
       "[1,\n",
       " 17,\n",
       " 1,\n",
       " 1,\n",
       " 1,\n",
       " 1,\n",
       " 1,\n",
       " 1,\n",
       " 1,\n",
       " 1,\n",
       " 1,\n",
       " 1,\n",
       " 1,\n",
       " 1,\n",
       " 1,\n",
       " 1,\n",
       " 1,\n",
       " 1,\n",
       " 1,\n",
       " 1,\n",
       " 1,\n",
       " 1,\n",
       " 1,\n",
       " 1,\n",
       " 1,\n",
       " 1,\n",
       " 1,\n",
       " 1]"
      ]
     },
     "execution_count": 368,
     "metadata": {},
     "output_type": "execute_result"
    }
   ],
   "source": [
    "node_adjacencies = []\n",
    "node_text = []\n",
    "for node, adjacencies in enumerate(G.adjacency()):\n",
    "    node_adjacencies.append(len(adjacencies[1]))\n",
    "    node_text.append('# of connections: '+str(len(adjacencies[1])))\n",
    "\n",
    "node_trace.marker.color = node_adjacencies\n",
    "node_trace.text = node_text\n",
    "node_adjacencies"
   ]
  },
  {
   "cell_type": "code",
   "execution_count": 344,
   "id": "912f2a0a",
   "metadata": {},
   "outputs": [
    {
     "data": {
      "text/plain": [
       "NodeView(('fastpeterson', 'leerzeit', 'timmill52024962', 'terry_twatter', 'idesire_btc', '10cryptoes', 'alexan20011', 'moonboyp', 'kennedypattiso1', 'tadaspetra', 'developer_dao', 'lucaxrp', 'githa_74', 'chesh_be_ra', 'estammaddoyom', 'ladtowsey', 'bitcoinduh', 'jayarsuaresz', 'rstormsf', 'lidofinance', 'neptune_xrp', 'theagentsmith_3', 'me09158228', 'cryptoskyreach', 'xrp_ninja', 'shibaxx1', 'sftd_art', 'ethanon21793186'))"
      ]
     },
     "execution_count": 344,
     "metadata": {},
     "output_type": "execute_result"
    }
   ],
   "source": [
    "G.nodes()"
   ]
  },
  {
   "cell_type": "code",
   "execution_count": 404,
   "id": "c80956dc",
   "metadata": {},
   "outputs": [
    {
     "name": "stdout",
     "output_type": "stream",
     "text": [
      "fastpeterson7\n"
     ]
    }
   ],
   "source": [
    "node_cluster = ng.cluster_src\n",
    "node_text = []\n",
    "\n",
    "#G.nodes[edge[0]]['pos']\n",
    "\n",
    "for i in G.nodes():\n",
    "    node_text.append(str(i)+str(G.nodes[i].get('cluster_src')))\n",
    "\n",
    "#node_trace.marker.color = node_cluster\n",
    "#node_trace.text = node_text\n",
    "\n",
    "print('fastpeterson' + str(G.nodes['fastpeterson'].get('cluster_src')))\n",
    "\n",
    "\n",
    "#node_text\n",
    "#node_cluster"
   ]
  },
  {
   "cell_type": "code",
   "execution_count": 379,
   "id": "63c2f4e7",
   "metadata": {
    "scrolled": true
   },
   "outputs": [
    {
     "data": {
      "application/vnd.plotly.v1+json": {
       "config": {
        "plotlyServerURL": "https://plot.ly"
       },
       "data": [
        {
         "hoverinfo": "none",
         "line": {
          "color": "#888",
          "width": 0.5
         },
         "mode": "lines",
         "type": "scatter",
         "x": [
          -0.08866997549660365,
          0.05261537409118156,
          null,
          0.05261537409118156,
          0.09033384465921566,
          null,
          0.05261537409118156,
          0.1900751211871747,
          null,
          0.05261537409118156,
          -0.16721839203891978,
          null,
          0.05261537409118156,
          0.3112683192915096,
          null,
          0.05261537409118156,
          0.07991613096222494,
          null,
          0.05261537409118156,
          0.37766965506311867,
          null,
          0.05261537409118156,
          -0.3094700409242057,
          null,
          0.05261537409118156,
          -0.08316830515767888,
          null,
          0.05261537409118156,
          -0.23040854603171246,
          null,
          0.05261537409118156,
          0.2597262297621838,
          null,
          0.05261537409118156,
          0.32651976474879985,
          null,
          0.05261537409118156,
          -0.340705220632639,
          null,
          0.05261537409118156,
          -0.37104541033639926,
          null,
          0.05261537409118156,
          0.09401168021815617,
          null,
          0.05261537409118156,
          0.3971816137767916,
          null,
          0.05261537409118156,
          0.46676840453290586,
          null,
          -0.7471758980054582,
          -0.8032533960081184,
          null,
          0.6619920197114841,
          0.7794181838216666,
          null,
          -0.016116433334672078,
          -0.1436254899424691,
          null,
          -0.23448987912807945,
          0.08679592056590407,
          null,
          -0.21060531712380542,
          -0.42833995823155624,
          null
         ],
         "y": [
          0.632477059480415,
          0.21566243581609673,
          null,
          0.21566243581609673,
          0.6391508108379833,
          null,
          0.21566243581609673,
          -0.19958183780073493,
          null,
          0.21566243581609673,
          -0.06755124672949211,
          null,
          0.21566243581609673,
          0.2519188767516573,
          null,
          0.21566243581609673,
          0.4662377072264599,
          null,
          0.21566243581609673,
          0.49644589067405615,
          null,
          0.21566243581609673,
          0.0075141417753501905,
          null,
          0.21566243581609673,
          -0.20376425983212137,
          null,
          0.21566243581609673,
          0.4029858203325667,
          null,
          0.21566243581609673,
          0.6112341854832762,
          null,
          0.21566243581609673,
          -0.06627269110947427,
          null,
          0.21566243581609673,
          0.1765035898342166,
          null,
          0.21566243581609673,
          0.35739123507006165,
          null,
          0.21566243581609673,
          -0.09087335025010307,
          null,
          0.21566243581609673,
          0.09741241490742053,
          null,
          0.21566243581609673,
          0.32574712286807456,
          null,
          -0.5230513090073355,
          -0.3113892857180138,
          null,
          -0.023869894418189857,
          -0.24630560867877152,
          null,
          -0.9466441611535504,
          -0.9999999999999999,
          null,
          -0.9270124533730939,
          -0.9121860779848108,
          null,
          0.2930378366827745,
          0.5447830483152831,
          null
         ]
        },
        {
         "hoverinfo": "text",
         "marker": {
          "color": [
           7,
           7,
           7,
           7,
           7,
           7,
           7,
           7,
           7,
           6,
           7,
           7,
           7,
           7,
           7,
           2,
           7,
           7,
           7,
           7,
           7,
           7,
           0,
           7
          ],
          "colorbar": {
           "thickness": 15,
           "title": {
            "side": "right",
            "text": "Cluster_affiliation"
           },
           "xanchor": "left"
          },
          "colorscale": [
           [
            0,
            "rgb(255,255,217)"
           ],
           [
            0.125,
            "rgb(237,248,177)"
           ],
           [
            0.25,
            "rgb(199,233,180)"
           ],
           [
            0.375,
            "rgb(127,205,187)"
           ],
           [
            0.5,
            "rgb(65,182,196)"
           ],
           [
            0.625,
            "rgb(29,145,192)"
           ],
           [
            0.75,
            "rgb(34,94,168)"
           ],
           [
            0.875,
            "rgb(37,52,148)"
           ],
           [
            1,
            "rgb(8,29,88)"
           ]
          ],
          "line": {
           "width": 2
          },
          "reversescale": true,
          "showscale": true,
          "size": 10
         },
         "mode": "markers",
         "text": [
          "Cluster Affiliation: 7",
          "Cluster Affiliation: 7",
          "Cluster Affiliation: 7",
          "Cluster Affiliation: 7",
          "Cluster Affiliation: 7",
          "Cluster Affiliation: 7",
          "Cluster Affiliation: 7",
          "Cluster Affiliation: 7",
          "Cluster Affiliation: 7",
          "Cluster Affiliation: 6",
          "Cluster Affiliation: None",
          "Cluster Affiliation: 7",
          "Cluster Affiliation: 7",
          "Cluster Affiliation: 7",
          "Cluster Affiliation: None",
          "Cluster Affiliation: 7",
          "Cluster Affiliation: 2",
          "Cluster Affiliation: None",
          "Cluster Affiliation: 7",
          "Cluster Affiliation: None",
          "Cluster Affiliation: 7",
          "Cluster Affiliation: 7",
          "Cluster Affiliation: 7",
          "Cluster Affiliation: 7",
          "Cluster Affiliation: 7",
          "Cluster Affiliation: 0",
          "Cluster Affiliation: None",
          "Cluster Affiliation: 7"
         ],
         "type": "scatter",
         "x": [
          -0.08866997549660365,
          0.05261537409118156,
          0.09033384465921566,
          0.1900751211871747,
          -0.16721839203891978,
          0.3112683192915096,
          0.07991613096222494,
          0.37766965506311867,
          -0.3094700409242057,
          -0.7471758980054582,
          -0.8032533960081184,
          -0.08316830515767888,
          -0.23040854603171246,
          0.6619920197114841,
          0.7794181838216666,
          0.2597262297621838,
          -0.016116433334672078,
          -0.1436254899424691,
          -0.23448987912807945,
          0.08679592056590407,
          0.32651976474879985,
          -0.340705220632639,
          -0.37104541033639926,
          0.09401168021815617,
          0.3971816137767916,
          -0.21060531712380542,
          -0.42833995823155624,
          0.46676840453290586
         ],
         "y": [
          0.632477059480415,
          0.21566243581609673,
          0.6391508108379833,
          -0.19958183780073493,
          -0.06755124672949211,
          0.2519188767516573,
          0.4662377072264599,
          0.49644589067405615,
          0.0075141417753501905,
          -0.5230513090073355,
          -0.3113892857180138,
          -0.20376425983212137,
          0.4029858203325667,
          -0.023869894418189857,
          -0.24630560867877152,
          0.6112341854832762,
          -0.9466441611535504,
          -0.9999999999999999,
          -0.9270124533730939,
          -0.9121860779848108,
          -0.06627269110947427,
          0.1765035898342166,
          0.35739123507006165,
          -0.09087335025010307,
          0.09741241490742053,
          0.2930378366827745,
          0.5447830483152831,
          0.32574712286807456
         ]
        }
       ],
       "layout": {
        "annotations": [
         {
          "showarrow": false,
          "x": 0.005,
          "xref": "paper",
          "y": -0.002,
          "yref": "paper"
         }
        ],
        "hovermode": "closest",
        "margin": {
         "b": 20,
         "l": 5,
         "r": 5,
         "t": 40
        },
        "showlegend": false,
        "template": {
         "data": {
          "bar": [
           {
            "error_x": {
             "color": "#2a3f5f"
            },
            "error_y": {
             "color": "#2a3f5f"
            },
            "marker": {
             "line": {
              "color": "#E5ECF6",
              "width": 0.5
             },
             "pattern": {
              "fillmode": "overlay",
              "size": 10,
              "solidity": 0.2
             }
            },
            "type": "bar"
           }
          ],
          "barpolar": [
           {
            "marker": {
             "line": {
              "color": "#E5ECF6",
              "width": 0.5
             },
             "pattern": {
              "fillmode": "overlay",
              "size": 10,
              "solidity": 0.2
             }
            },
            "type": "barpolar"
           }
          ],
          "carpet": [
           {
            "aaxis": {
             "endlinecolor": "#2a3f5f",
             "gridcolor": "white",
             "linecolor": "white",
             "minorgridcolor": "white",
             "startlinecolor": "#2a3f5f"
            },
            "baxis": {
             "endlinecolor": "#2a3f5f",
             "gridcolor": "white",
             "linecolor": "white",
             "minorgridcolor": "white",
             "startlinecolor": "#2a3f5f"
            },
            "type": "carpet"
           }
          ],
          "choropleth": [
           {
            "colorbar": {
             "outlinewidth": 0,
             "ticks": ""
            },
            "type": "choropleth"
           }
          ],
          "contour": [
           {
            "colorbar": {
             "outlinewidth": 0,
             "ticks": ""
            },
            "colorscale": [
             [
              0,
              "#0d0887"
             ],
             [
              0.1111111111111111,
              "#46039f"
             ],
             [
              0.2222222222222222,
              "#7201a8"
             ],
             [
              0.3333333333333333,
              "#9c179e"
             ],
             [
              0.4444444444444444,
              "#bd3786"
             ],
             [
              0.5555555555555556,
              "#d8576b"
             ],
             [
              0.6666666666666666,
              "#ed7953"
             ],
             [
              0.7777777777777778,
              "#fb9f3a"
             ],
             [
              0.8888888888888888,
              "#fdca26"
             ],
             [
              1,
              "#f0f921"
             ]
            ],
            "type": "contour"
           }
          ],
          "contourcarpet": [
           {
            "colorbar": {
             "outlinewidth": 0,
             "ticks": ""
            },
            "type": "contourcarpet"
           }
          ],
          "heatmap": [
           {
            "colorbar": {
             "outlinewidth": 0,
             "ticks": ""
            },
            "colorscale": [
             [
              0,
              "#0d0887"
             ],
             [
              0.1111111111111111,
              "#46039f"
             ],
             [
              0.2222222222222222,
              "#7201a8"
             ],
             [
              0.3333333333333333,
              "#9c179e"
             ],
             [
              0.4444444444444444,
              "#bd3786"
             ],
             [
              0.5555555555555556,
              "#d8576b"
             ],
             [
              0.6666666666666666,
              "#ed7953"
             ],
             [
              0.7777777777777778,
              "#fb9f3a"
             ],
             [
              0.8888888888888888,
              "#fdca26"
             ],
             [
              1,
              "#f0f921"
             ]
            ],
            "type": "heatmap"
           }
          ],
          "heatmapgl": [
           {
            "colorbar": {
             "outlinewidth": 0,
             "ticks": ""
            },
            "colorscale": [
             [
              0,
              "#0d0887"
             ],
             [
              0.1111111111111111,
              "#46039f"
             ],
             [
              0.2222222222222222,
              "#7201a8"
             ],
             [
              0.3333333333333333,
              "#9c179e"
             ],
             [
              0.4444444444444444,
              "#bd3786"
             ],
             [
              0.5555555555555556,
              "#d8576b"
             ],
             [
              0.6666666666666666,
              "#ed7953"
             ],
             [
              0.7777777777777778,
              "#fb9f3a"
             ],
             [
              0.8888888888888888,
              "#fdca26"
             ],
             [
              1,
              "#f0f921"
             ]
            ],
            "type": "heatmapgl"
           }
          ],
          "histogram": [
           {
            "marker": {
             "pattern": {
              "fillmode": "overlay",
              "size": 10,
              "solidity": 0.2
             }
            },
            "type": "histogram"
           }
          ],
          "histogram2d": [
           {
            "colorbar": {
             "outlinewidth": 0,
             "ticks": ""
            },
            "colorscale": [
             [
              0,
              "#0d0887"
             ],
             [
              0.1111111111111111,
              "#46039f"
             ],
             [
              0.2222222222222222,
              "#7201a8"
             ],
             [
              0.3333333333333333,
              "#9c179e"
             ],
             [
              0.4444444444444444,
              "#bd3786"
             ],
             [
              0.5555555555555556,
              "#d8576b"
             ],
             [
              0.6666666666666666,
              "#ed7953"
             ],
             [
              0.7777777777777778,
              "#fb9f3a"
             ],
             [
              0.8888888888888888,
              "#fdca26"
             ],
             [
              1,
              "#f0f921"
             ]
            ],
            "type": "histogram2d"
           }
          ],
          "histogram2dcontour": [
           {
            "colorbar": {
             "outlinewidth": 0,
             "ticks": ""
            },
            "colorscale": [
             [
              0,
              "#0d0887"
             ],
             [
              0.1111111111111111,
              "#46039f"
             ],
             [
              0.2222222222222222,
              "#7201a8"
             ],
             [
              0.3333333333333333,
              "#9c179e"
             ],
             [
              0.4444444444444444,
              "#bd3786"
             ],
             [
              0.5555555555555556,
              "#d8576b"
             ],
             [
              0.6666666666666666,
              "#ed7953"
             ],
             [
              0.7777777777777778,
              "#fb9f3a"
             ],
             [
              0.8888888888888888,
              "#fdca26"
             ],
             [
              1,
              "#f0f921"
             ]
            ],
            "type": "histogram2dcontour"
           }
          ],
          "mesh3d": [
           {
            "colorbar": {
             "outlinewidth": 0,
             "ticks": ""
            },
            "type": "mesh3d"
           }
          ],
          "parcoords": [
           {
            "line": {
             "colorbar": {
              "outlinewidth": 0,
              "ticks": ""
             }
            },
            "type": "parcoords"
           }
          ],
          "pie": [
           {
            "automargin": true,
            "type": "pie"
           }
          ],
          "scatter": [
           {
            "marker": {
             "colorbar": {
              "outlinewidth": 0,
              "ticks": ""
             }
            },
            "type": "scatter"
           }
          ],
          "scatter3d": [
           {
            "line": {
             "colorbar": {
              "outlinewidth": 0,
              "ticks": ""
             }
            },
            "marker": {
             "colorbar": {
              "outlinewidth": 0,
              "ticks": ""
             }
            },
            "type": "scatter3d"
           }
          ],
          "scattercarpet": [
           {
            "marker": {
             "colorbar": {
              "outlinewidth": 0,
              "ticks": ""
             }
            },
            "type": "scattercarpet"
           }
          ],
          "scattergeo": [
           {
            "marker": {
             "colorbar": {
              "outlinewidth": 0,
              "ticks": ""
             }
            },
            "type": "scattergeo"
           }
          ],
          "scattergl": [
           {
            "marker": {
             "colorbar": {
              "outlinewidth": 0,
              "ticks": ""
             }
            },
            "type": "scattergl"
           }
          ],
          "scattermapbox": [
           {
            "marker": {
             "colorbar": {
              "outlinewidth": 0,
              "ticks": ""
             }
            },
            "type": "scattermapbox"
           }
          ],
          "scatterpolar": [
           {
            "marker": {
             "colorbar": {
              "outlinewidth": 0,
              "ticks": ""
             }
            },
            "type": "scatterpolar"
           }
          ],
          "scatterpolargl": [
           {
            "marker": {
             "colorbar": {
              "outlinewidth": 0,
              "ticks": ""
             }
            },
            "type": "scatterpolargl"
           }
          ],
          "scatterternary": [
           {
            "marker": {
             "colorbar": {
              "outlinewidth": 0,
              "ticks": ""
             }
            },
            "type": "scatterternary"
           }
          ],
          "surface": [
           {
            "colorbar": {
             "outlinewidth": 0,
             "ticks": ""
            },
            "colorscale": [
             [
              0,
              "#0d0887"
             ],
             [
              0.1111111111111111,
              "#46039f"
             ],
             [
              0.2222222222222222,
              "#7201a8"
             ],
             [
              0.3333333333333333,
              "#9c179e"
             ],
             [
              0.4444444444444444,
              "#bd3786"
             ],
             [
              0.5555555555555556,
              "#d8576b"
             ],
             [
              0.6666666666666666,
              "#ed7953"
             ],
             [
              0.7777777777777778,
              "#fb9f3a"
             ],
             [
              0.8888888888888888,
              "#fdca26"
             ],
             [
              1,
              "#f0f921"
             ]
            ],
            "type": "surface"
           }
          ],
          "table": [
           {
            "cells": {
             "fill": {
              "color": "#EBF0F8"
             },
             "line": {
              "color": "white"
             }
            },
            "header": {
             "fill": {
              "color": "#C8D4E3"
             },
             "line": {
              "color": "white"
             }
            },
            "type": "table"
           }
          ]
         },
         "layout": {
          "annotationdefaults": {
           "arrowcolor": "#2a3f5f",
           "arrowhead": 0,
           "arrowwidth": 1
          },
          "autotypenumbers": "strict",
          "coloraxis": {
           "colorbar": {
            "outlinewidth": 0,
            "ticks": ""
           }
          },
          "colorscale": {
           "diverging": [
            [
             0,
             "#8e0152"
            ],
            [
             0.1,
             "#c51b7d"
            ],
            [
             0.2,
             "#de77ae"
            ],
            [
             0.3,
             "#f1b6da"
            ],
            [
             0.4,
             "#fde0ef"
            ],
            [
             0.5,
             "#f7f7f7"
            ],
            [
             0.6,
             "#e6f5d0"
            ],
            [
             0.7,
             "#b8e186"
            ],
            [
             0.8,
             "#7fbc41"
            ],
            [
             0.9,
             "#4d9221"
            ],
            [
             1,
             "#276419"
            ]
           ],
           "sequential": [
            [
             0,
             "#0d0887"
            ],
            [
             0.1111111111111111,
             "#46039f"
            ],
            [
             0.2222222222222222,
             "#7201a8"
            ],
            [
             0.3333333333333333,
             "#9c179e"
            ],
            [
             0.4444444444444444,
             "#bd3786"
            ],
            [
             0.5555555555555556,
             "#d8576b"
            ],
            [
             0.6666666666666666,
             "#ed7953"
            ],
            [
             0.7777777777777778,
             "#fb9f3a"
            ],
            [
             0.8888888888888888,
             "#fdca26"
            ],
            [
             1,
             "#f0f921"
            ]
           ],
           "sequentialminus": [
            [
             0,
             "#0d0887"
            ],
            [
             0.1111111111111111,
             "#46039f"
            ],
            [
             0.2222222222222222,
             "#7201a8"
            ],
            [
             0.3333333333333333,
             "#9c179e"
            ],
            [
             0.4444444444444444,
             "#bd3786"
            ],
            [
             0.5555555555555556,
             "#d8576b"
            ],
            [
             0.6666666666666666,
             "#ed7953"
            ],
            [
             0.7777777777777778,
             "#fb9f3a"
            ],
            [
             0.8888888888888888,
             "#fdca26"
            ],
            [
             1,
             "#f0f921"
            ]
           ]
          },
          "colorway": [
           "#636efa",
           "#EF553B",
           "#00cc96",
           "#ab63fa",
           "#FFA15A",
           "#19d3f3",
           "#FF6692",
           "#B6E880",
           "#FF97FF",
           "#FECB52"
          ],
          "font": {
           "color": "#2a3f5f"
          },
          "geo": {
           "bgcolor": "white",
           "lakecolor": "white",
           "landcolor": "#E5ECF6",
           "showlakes": true,
           "showland": true,
           "subunitcolor": "white"
          },
          "hoverlabel": {
           "align": "left"
          },
          "hovermode": "closest",
          "mapbox": {
           "style": "light"
          },
          "paper_bgcolor": "white",
          "plot_bgcolor": "#E5ECF6",
          "polar": {
           "angularaxis": {
            "gridcolor": "white",
            "linecolor": "white",
            "ticks": ""
           },
           "bgcolor": "#E5ECF6",
           "radialaxis": {
            "gridcolor": "white",
            "linecolor": "white",
            "ticks": ""
           }
          },
          "scene": {
           "xaxis": {
            "backgroundcolor": "#E5ECF6",
            "gridcolor": "white",
            "gridwidth": 2,
            "linecolor": "white",
            "showbackground": true,
            "ticks": "",
            "zerolinecolor": "white"
           },
           "yaxis": {
            "backgroundcolor": "#E5ECF6",
            "gridcolor": "white",
            "gridwidth": 2,
            "linecolor": "white",
            "showbackground": true,
            "ticks": "",
            "zerolinecolor": "white"
           },
           "zaxis": {
            "backgroundcolor": "#E5ECF6",
            "gridcolor": "white",
            "gridwidth": 2,
            "linecolor": "white",
            "showbackground": true,
            "ticks": "",
            "zerolinecolor": "white"
           }
          },
          "shapedefaults": {
           "line": {
            "color": "#2a3f5f"
           }
          },
          "ternary": {
           "aaxis": {
            "gridcolor": "white",
            "linecolor": "white",
            "ticks": ""
           },
           "baxis": {
            "gridcolor": "white",
            "linecolor": "white",
            "ticks": ""
           },
           "bgcolor": "#E5ECF6",
           "caxis": {
            "gridcolor": "white",
            "linecolor": "white",
            "ticks": ""
           }
          },
          "title": {
           "x": 0.05
          },
          "xaxis": {
           "automargin": true,
           "gridcolor": "white",
           "linecolor": "white",
           "ticks": "",
           "title": {
            "standoff": 15
           },
           "zerolinecolor": "white",
           "zerolinewidth": 2
          },
          "yaxis": {
           "automargin": true,
           "gridcolor": "white",
           "linecolor": "white",
           "ticks": "",
           "title": {
            "standoff": 15
           },
           "zerolinecolor": "white",
           "zerolinewidth": 2
          }
         }
        },
        "title": {
         "font": {
          "size": 16
         },
         "text": "<br>Cluster Affiliation on day x"
        },
        "xaxis": {
         "showgrid": false,
         "showticklabels": false,
         "zeroline": false
        },
        "yaxis": {
         "showgrid": false,
         "showticklabels": false,
         "zeroline": false
        }
       }
      },
      "text/html": [
       "<div>                            <div id=\"6b192e8c-40ac-4b6a-baab-25f3d65de989\" class=\"plotly-graph-div\" style=\"height:525px; width:100%;\"></div>            <script type=\"text/javascript\">                require([\"plotly\"], function(Plotly) {                    window.PLOTLYENV=window.PLOTLYENV || {};                                    if (document.getElementById(\"6b192e8c-40ac-4b6a-baab-25f3d65de989\")) {                    Plotly.newPlot(                        \"6b192e8c-40ac-4b6a-baab-25f3d65de989\",                        [{\"hoverinfo\":\"none\",\"line\":{\"color\":\"#888\",\"width\":0.5},\"mode\":\"lines\",\"x\":[-0.08866997549660365,0.05261537409118156,null,0.05261537409118156,0.09033384465921566,null,0.05261537409118156,0.1900751211871747,null,0.05261537409118156,-0.16721839203891978,null,0.05261537409118156,0.3112683192915096,null,0.05261537409118156,0.07991613096222494,null,0.05261537409118156,0.37766965506311867,null,0.05261537409118156,-0.3094700409242057,null,0.05261537409118156,-0.08316830515767888,null,0.05261537409118156,-0.23040854603171246,null,0.05261537409118156,0.2597262297621838,null,0.05261537409118156,0.32651976474879985,null,0.05261537409118156,-0.340705220632639,null,0.05261537409118156,-0.37104541033639926,null,0.05261537409118156,0.09401168021815617,null,0.05261537409118156,0.3971816137767916,null,0.05261537409118156,0.46676840453290586,null,-0.7471758980054582,-0.8032533960081184,null,0.6619920197114841,0.7794181838216666,null,-0.016116433334672078,-0.1436254899424691,null,-0.23448987912807945,0.08679592056590407,null,-0.21060531712380542,-0.42833995823155624,null],\"y\":[0.632477059480415,0.21566243581609673,null,0.21566243581609673,0.6391508108379833,null,0.21566243581609673,-0.19958183780073493,null,0.21566243581609673,-0.06755124672949211,null,0.21566243581609673,0.2519188767516573,null,0.21566243581609673,0.4662377072264599,null,0.21566243581609673,0.49644589067405615,null,0.21566243581609673,0.0075141417753501905,null,0.21566243581609673,-0.20376425983212137,null,0.21566243581609673,0.4029858203325667,null,0.21566243581609673,0.6112341854832762,null,0.21566243581609673,-0.06627269110947427,null,0.21566243581609673,0.1765035898342166,null,0.21566243581609673,0.35739123507006165,null,0.21566243581609673,-0.09087335025010307,null,0.21566243581609673,0.09741241490742053,null,0.21566243581609673,0.32574712286807456,null,-0.5230513090073355,-0.3113892857180138,null,-0.023869894418189857,-0.24630560867877152,null,-0.9466441611535504,-0.9999999999999999,null,-0.9270124533730939,-0.9121860779848108,null,0.2930378366827745,0.5447830483152831,null],\"type\":\"scatter\"},{\"hoverinfo\":\"text\",\"marker\":{\"color\":[7,7,7,7,7,7,7,7,7,6,7,7,7,7,7,2,7,7,7,7,7,7,0,7],\"colorbar\":{\"thickness\":15,\"title\":{\"side\":\"right\",\"text\":\"Cluster_affiliation\"},\"xanchor\":\"left\"},\"colorscale\":[[0.0,\"rgb(255,255,217)\"],[0.125,\"rgb(237,248,177)\"],[0.25,\"rgb(199,233,180)\"],[0.375,\"rgb(127,205,187)\"],[0.5,\"rgb(65,182,196)\"],[0.625,\"rgb(29,145,192)\"],[0.75,\"rgb(34,94,168)\"],[0.875,\"rgb(37,52,148)\"],[1.0,\"rgb(8,29,88)\"]],\"line\":{\"width\":2},\"reversescale\":true,\"showscale\":true,\"size\":10},\"mode\":\"markers\",\"text\":[\"Cluster Affiliation: 7\",\"Cluster Affiliation: 7\",\"Cluster Affiliation: 7\",\"Cluster Affiliation: 7\",\"Cluster Affiliation: 7\",\"Cluster Affiliation: 7\",\"Cluster Affiliation: 7\",\"Cluster Affiliation: 7\",\"Cluster Affiliation: 7\",\"Cluster Affiliation: 6\",\"Cluster Affiliation: None\",\"Cluster Affiliation: 7\",\"Cluster Affiliation: 7\",\"Cluster Affiliation: 7\",\"Cluster Affiliation: None\",\"Cluster Affiliation: 7\",\"Cluster Affiliation: 2\",\"Cluster Affiliation: None\",\"Cluster Affiliation: 7\",\"Cluster Affiliation: None\",\"Cluster Affiliation: 7\",\"Cluster Affiliation: 7\",\"Cluster Affiliation: 7\",\"Cluster Affiliation: 7\",\"Cluster Affiliation: 7\",\"Cluster Affiliation: 0\",\"Cluster Affiliation: None\",\"Cluster Affiliation: 7\"],\"x\":[-0.08866997549660365,0.05261537409118156,0.09033384465921566,0.1900751211871747,-0.16721839203891978,0.3112683192915096,0.07991613096222494,0.37766965506311867,-0.3094700409242057,-0.7471758980054582,-0.8032533960081184,-0.08316830515767888,-0.23040854603171246,0.6619920197114841,0.7794181838216666,0.2597262297621838,-0.016116433334672078,-0.1436254899424691,-0.23448987912807945,0.08679592056590407,0.32651976474879985,-0.340705220632639,-0.37104541033639926,0.09401168021815617,0.3971816137767916,-0.21060531712380542,-0.42833995823155624,0.46676840453290586],\"y\":[0.632477059480415,0.21566243581609673,0.6391508108379833,-0.19958183780073493,-0.06755124672949211,0.2519188767516573,0.4662377072264599,0.49644589067405615,0.0075141417753501905,-0.5230513090073355,-0.3113892857180138,-0.20376425983212137,0.4029858203325667,-0.023869894418189857,-0.24630560867877152,0.6112341854832762,-0.9466441611535504,-0.9999999999999999,-0.9270124533730939,-0.9121860779848108,-0.06627269110947427,0.1765035898342166,0.35739123507006165,-0.09087335025010307,0.09741241490742053,0.2930378366827745,0.5447830483152831,0.32574712286807456],\"type\":\"scatter\"}],                        {\"annotations\":[{\"showarrow\":false,\"x\":0.005,\"xref\":\"paper\",\"y\":-0.002,\"yref\":\"paper\"}],\"hovermode\":\"closest\",\"margin\":{\"b\":20,\"l\":5,\"r\":5,\"t\":40},\"showlegend\":false,\"title\":{\"font\":{\"size\":16},\"text\":\"<br>Cluster Affiliation on day x\"},\"xaxis\":{\"showgrid\":false,\"showticklabels\":false,\"zeroline\":false},\"yaxis\":{\"showgrid\":false,\"showticklabels\":false,\"zeroline\":false},\"template\":{\"data\":{\"bar\":[{\"error_x\":{\"color\":\"#2a3f5f\"},\"error_y\":{\"color\":\"#2a3f5f\"},\"marker\":{\"line\":{\"color\":\"#E5ECF6\",\"width\":0.5},\"pattern\":{\"fillmode\":\"overlay\",\"size\":10,\"solidity\":0.2}},\"type\":\"bar\"}],\"barpolar\":[{\"marker\":{\"line\":{\"color\":\"#E5ECF6\",\"width\":0.5},\"pattern\":{\"fillmode\":\"overlay\",\"size\":10,\"solidity\":0.2}},\"type\":\"barpolar\"}],\"carpet\":[{\"aaxis\":{\"endlinecolor\":\"#2a3f5f\",\"gridcolor\":\"white\",\"linecolor\":\"white\",\"minorgridcolor\":\"white\",\"startlinecolor\":\"#2a3f5f\"},\"baxis\":{\"endlinecolor\":\"#2a3f5f\",\"gridcolor\":\"white\",\"linecolor\":\"white\",\"minorgridcolor\":\"white\",\"startlinecolor\":\"#2a3f5f\"},\"type\":\"carpet\"}],\"choropleth\":[{\"colorbar\":{\"outlinewidth\":0,\"ticks\":\"\"},\"type\":\"choropleth\"}],\"contour\":[{\"colorbar\":{\"outlinewidth\":0,\"ticks\":\"\"},\"colorscale\":[[0.0,\"#0d0887\"],[0.1111111111111111,\"#46039f\"],[0.2222222222222222,\"#7201a8\"],[0.3333333333333333,\"#9c179e\"],[0.4444444444444444,\"#bd3786\"],[0.5555555555555556,\"#d8576b\"],[0.6666666666666666,\"#ed7953\"],[0.7777777777777778,\"#fb9f3a\"],[0.8888888888888888,\"#fdca26\"],[1.0,\"#f0f921\"]],\"type\":\"contour\"}],\"contourcarpet\":[{\"colorbar\":{\"outlinewidth\":0,\"ticks\":\"\"},\"type\":\"contourcarpet\"}],\"heatmap\":[{\"colorbar\":{\"outlinewidth\":0,\"ticks\":\"\"},\"colorscale\":[[0.0,\"#0d0887\"],[0.1111111111111111,\"#46039f\"],[0.2222222222222222,\"#7201a8\"],[0.3333333333333333,\"#9c179e\"],[0.4444444444444444,\"#bd3786\"],[0.5555555555555556,\"#d8576b\"],[0.6666666666666666,\"#ed7953\"],[0.7777777777777778,\"#fb9f3a\"],[0.8888888888888888,\"#fdca26\"],[1.0,\"#f0f921\"]],\"type\":\"heatmap\"}],\"heatmapgl\":[{\"colorbar\":{\"outlinewidth\":0,\"ticks\":\"\"},\"colorscale\":[[0.0,\"#0d0887\"],[0.1111111111111111,\"#46039f\"],[0.2222222222222222,\"#7201a8\"],[0.3333333333333333,\"#9c179e\"],[0.4444444444444444,\"#bd3786\"],[0.5555555555555556,\"#d8576b\"],[0.6666666666666666,\"#ed7953\"],[0.7777777777777778,\"#fb9f3a\"],[0.8888888888888888,\"#fdca26\"],[1.0,\"#f0f921\"]],\"type\":\"heatmapgl\"}],\"histogram\":[{\"marker\":{\"pattern\":{\"fillmode\":\"overlay\",\"size\":10,\"solidity\":0.2}},\"type\":\"histogram\"}],\"histogram2d\":[{\"colorbar\":{\"outlinewidth\":0,\"ticks\":\"\"},\"colorscale\":[[0.0,\"#0d0887\"],[0.1111111111111111,\"#46039f\"],[0.2222222222222222,\"#7201a8\"],[0.3333333333333333,\"#9c179e\"],[0.4444444444444444,\"#bd3786\"],[0.5555555555555556,\"#d8576b\"],[0.6666666666666666,\"#ed7953\"],[0.7777777777777778,\"#fb9f3a\"],[0.8888888888888888,\"#fdca26\"],[1.0,\"#f0f921\"]],\"type\":\"histogram2d\"}],\"histogram2dcontour\":[{\"colorbar\":{\"outlinewidth\":0,\"ticks\":\"\"},\"colorscale\":[[0.0,\"#0d0887\"],[0.1111111111111111,\"#46039f\"],[0.2222222222222222,\"#7201a8\"],[0.3333333333333333,\"#9c179e\"],[0.4444444444444444,\"#bd3786\"],[0.5555555555555556,\"#d8576b\"],[0.6666666666666666,\"#ed7953\"],[0.7777777777777778,\"#fb9f3a\"],[0.8888888888888888,\"#fdca26\"],[1.0,\"#f0f921\"]],\"type\":\"histogram2dcontour\"}],\"mesh3d\":[{\"colorbar\":{\"outlinewidth\":0,\"ticks\":\"\"},\"type\":\"mesh3d\"}],\"parcoords\":[{\"line\":{\"colorbar\":{\"outlinewidth\":0,\"ticks\":\"\"}},\"type\":\"parcoords\"}],\"pie\":[{\"automargin\":true,\"type\":\"pie\"}],\"scatter\":[{\"marker\":{\"colorbar\":{\"outlinewidth\":0,\"ticks\":\"\"}},\"type\":\"scatter\"}],\"scatter3d\":[{\"line\":{\"colorbar\":{\"outlinewidth\":0,\"ticks\":\"\"}},\"marker\":{\"colorbar\":{\"outlinewidth\":0,\"ticks\":\"\"}},\"type\":\"scatter3d\"}],\"scattercarpet\":[{\"marker\":{\"colorbar\":{\"outlinewidth\":0,\"ticks\":\"\"}},\"type\":\"scattercarpet\"}],\"scattergeo\":[{\"marker\":{\"colorbar\":{\"outlinewidth\":0,\"ticks\":\"\"}},\"type\":\"scattergeo\"}],\"scattergl\":[{\"marker\":{\"colorbar\":{\"outlinewidth\":0,\"ticks\":\"\"}},\"type\":\"scattergl\"}],\"scattermapbox\":[{\"marker\":{\"colorbar\":{\"outlinewidth\":0,\"ticks\":\"\"}},\"type\":\"scattermapbox\"}],\"scatterpolar\":[{\"marker\":{\"colorbar\":{\"outlinewidth\":0,\"ticks\":\"\"}},\"type\":\"scatterpolar\"}],\"scatterpolargl\":[{\"marker\":{\"colorbar\":{\"outlinewidth\":0,\"ticks\":\"\"}},\"type\":\"scatterpolargl\"}],\"scatterternary\":[{\"marker\":{\"colorbar\":{\"outlinewidth\":0,\"ticks\":\"\"}},\"type\":\"scatterternary\"}],\"surface\":[{\"colorbar\":{\"outlinewidth\":0,\"ticks\":\"\"},\"colorscale\":[[0.0,\"#0d0887\"],[0.1111111111111111,\"#46039f\"],[0.2222222222222222,\"#7201a8\"],[0.3333333333333333,\"#9c179e\"],[0.4444444444444444,\"#bd3786\"],[0.5555555555555556,\"#d8576b\"],[0.6666666666666666,\"#ed7953\"],[0.7777777777777778,\"#fb9f3a\"],[0.8888888888888888,\"#fdca26\"],[1.0,\"#f0f921\"]],\"type\":\"surface\"}],\"table\":[{\"cells\":{\"fill\":{\"color\":\"#EBF0F8\"},\"line\":{\"color\":\"white\"}},\"header\":{\"fill\":{\"color\":\"#C8D4E3\"},\"line\":{\"color\":\"white\"}},\"type\":\"table\"}]},\"layout\":{\"annotationdefaults\":{\"arrowcolor\":\"#2a3f5f\",\"arrowhead\":0,\"arrowwidth\":1},\"autotypenumbers\":\"strict\",\"coloraxis\":{\"colorbar\":{\"outlinewidth\":0,\"ticks\":\"\"}},\"colorscale\":{\"diverging\":[[0,\"#8e0152\"],[0.1,\"#c51b7d\"],[0.2,\"#de77ae\"],[0.3,\"#f1b6da\"],[0.4,\"#fde0ef\"],[0.5,\"#f7f7f7\"],[0.6,\"#e6f5d0\"],[0.7,\"#b8e186\"],[0.8,\"#7fbc41\"],[0.9,\"#4d9221\"],[1,\"#276419\"]],\"sequential\":[[0.0,\"#0d0887\"],[0.1111111111111111,\"#46039f\"],[0.2222222222222222,\"#7201a8\"],[0.3333333333333333,\"#9c179e\"],[0.4444444444444444,\"#bd3786\"],[0.5555555555555556,\"#d8576b\"],[0.6666666666666666,\"#ed7953\"],[0.7777777777777778,\"#fb9f3a\"],[0.8888888888888888,\"#fdca26\"],[1.0,\"#f0f921\"]],\"sequentialminus\":[[0.0,\"#0d0887\"],[0.1111111111111111,\"#46039f\"],[0.2222222222222222,\"#7201a8\"],[0.3333333333333333,\"#9c179e\"],[0.4444444444444444,\"#bd3786\"],[0.5555555555555556,\"#d8576b\"],[0.6666666666666666,\"#ed7953\"],[0.7777777777777778,\"#fb9f3a\"],[0.8888888888888888,\"#fdca26\"],[1.0,\"#f0f921\"]]},\"colorway\":[\"#636efa\",\"#EF553B\",\"#00cc96\",\"#ab63fa\",\"#FFA15A\",\"#19d3f3\",\"#FF6692\",\"#B6E880\",\"#FF97FF\",\"#FECB52\"],\"font\":{\"color\":\"#2a3f5f\"},\"geo\":{\"bgcolor\":\"white\",\"lakecolor\":\"white\",\"landcolor\":\"#E5ECF6\",\"showlakes\":true,\"showland\":true,\"subunitcolor\":\"white\"},\"hoverlabel\":{\"align\":\"left\"},\"hovermode\":\"closest\",\"mapbox\":{\"style\":\"light\"},\"paper_bgcolor\":\"white\",\"plot_bgcolor\":\"#E5ECF6\",\"polar\":{\"angularaxis\":{\"gridcolor\":\"white\",\"linecolor\":\"white\",\"ticks\":\"\"},\"bgcolor\":\"#E5ECF6\",\"radialaxis\":{\"gridcolor\":\"white\",\"linecolor\":\"white\",\"ticks\":\"\"}},\"scene\":{\"xaxis\":{\"backgroundcolor\":\"#E5ECF6\",\"gridcolor\":\"white\",\"gridwidth\":2,\"linecolor\":\"white\",\"showbackground\":true,\"ticks\":\"\",\"zerolinecolor\":\"white\"},\"yaxis\":{\"backgroundcolor\":\"#E5ECF6\",\"gridcolor\":\"white\",\"gridwidth\":2,\"linecolor\":\"white\",\"showbackground\":true,\"ticks\":\"\",\"zerolinecolor\":\"white\"},\"zaxis\":{\"backgroundcolor\":\"#E5ECF6\",\"gridcolor\":\"white\",\"gridwidth\":2,\"linecolor\":\"white\",\"showbackground\":true,\"ticks\":\"\",\"zerolinecolor\":\"white\"}},\"shapedefaults\":{\"line\":{\"color\":\"#2a3f5f\"}},\"ternary\":{\"aaxis\":{\"gridcolor\":\"white\",\"linecolor\":\"white\",\"ticks\":\"\"},\"baxis\":{\"gridcolor\":\"white\",\"linecolor\":\"white\",\"ticks\":\"\"},\"bgcolor\":\"#E5ECF6\",\"caxis\":{\"gridcolor\":\"white\",\"linecolor\":\"white\",\"ticks\":\"\"}},\"title\":{\"x\":0.05},\"xaxis\":{\"automargin\":true,\"gridcolor\":\"white\",\"linecolor\":\"white\",\"ticks\":\"\",\"title\":{\"standoff\":15},\"zerolinecolor\":\"white\",\"zerolinewidth\":2},\"yaxis\":{\"automargin\":true,\"gridcolor\":\"white\",\"linecolor\":\"white\",\"ticks\":\"\",\"title\":{\"standoff\":15},\"zerolinecolor\":\"white\",\"zerolinewidth\":2}}}},                        {\"responsive\": true}                    ).then(function(){\n",
       "                            \n",
       "var gd = document.getElementById('6b192e8c-40ac-4b6a-baab-25f3d65de989');\n",
       "var x = new MutationObserver(function (mutations, observer) {{\n",
       "        var display = window.getComputedStyle(gd).display;\n",
       "        if (!display || display === 'none') {{\n",
       "            console.log([gd, 'removed!']);\n",
       "            Plotly.purge(gd);\n",
       "            observer.disconnect();\n",
       "        }}\n",
       "}});\n",
       "\n",
       "// Listen for the removal of the full notebook cells\n",
       "var notebookContainer = gd.closest('#notebook-container');\n",
       "if (notebookContainer) {{\n",
       "    x.observe(notebookContainer, {childList: true});\n",
       "}}\n",
       "\n",
       "// Listen for the clearing of the current output cell\n",
       "var outputEl = gd.closest('.output');\n",
       "if (outputEl) {{\n",
       "    x.observe(outputEl, {childList: true});\n",
       "}}\n",
       "\n",
       "                        })                };                });            </script>        </div>"
      ]
     },
     "metadata": {},
     "output_type": "display_data"
    }
   ],
   "source": [
    "fig = go.Figure(data=[edge_trace,node_trace],\n",
    "             layout=go.Layout(\n",
    "                title='<br>Cluster Affiliation on day x',\n",
    "                titlefont_size=16,\n",
    "                showlegend=False,\n",
    "                hovermode='closest',\n",
    "                margin=dict(b=20,l=5,r=5,t=40),\n",
    "                annotations=[ dict(\n",
    "                    showarrow=False,\n",
    "                    xref=\"paper\", yref=\"paper\",\n",
    "                    x=0.005, y=-0.002 ) ],\n",
    "                xaxis=dict(showgrid=False, zeroline=False, showticklabels=False),\n",
    "                yaxis=dict(showgrid=False, zeroline=False, showticklabels=False))\n",
    "                )\n",
    "fig.show()"
   ]
  },
  {
   "cell_type": "code",
   "execution_count": 190,
   "id": "a5419975",
   "metadata": {
    "code_folding": [
     0
    ]
   },
   "outputs": [],
   "source": [
    "def cluster_strength(adj_mat,query): #\n",
    "    adj_mat = adj_mat.loc[adj_mat['twitter_query'] == query]\n",
    "\n",
    "    adj_mat['cluster_strength'] = adj_mat['neighbours_cluster'] / adj_mat['neighbours']\n",
    "    \n",
    "    adj_mat['date'] = pd.to_datetime(adj_mat['date'])\n",
    "    adj_mat_grouped = adj_mat.groupby([pd.Grouper(key='date', freq='D'),'cluster_src']).min()\n",
    "    \n",
    "    # cluster strength\n",
    "    cs_day = adj_mat.groupby(['date'])['cluster_strength'].max()\n",
    "    #cs_day = adj_mat.groupby(['date','cluster_src'])['cluster_strength'].max()\n",
    "    cs_day = cs_day.to_frame()\n",
    "\n",
    "    return cs_day"
   ]
  },
  {
   "cell_type": "code",
   "execution_count": 191,
   "id": "848250e0",
   "metadata": {},
   "outputs": [
    {
     "name": "stderr",
     "output_type": "stream",
     "text": [
      "C:\\Users\\jgier\\AppData\\Local\\Temp/ipykernel_2412/1835133302.py:4: SettingWithCopyWarning: \n",
      "A value is trying to be set on a copy of a slice from a DataFrame.\n",
      "Try using .loc[row_indexer,col_indexer] = value instead\n",
      "\n",
      "See the caveats in the documentation: https://pandas.pydata.org/pandas-docs/stable/user_guide/indexing.html#returning-a-view-versus-a-copy\n",
      "  adj_mat['cluster_strength'] = adj_mat['neighbours_cluster'] / adj_mat['neighbours']\n",
      "C:\\Users\\jgier\\AppData\\Local\\Temp/ipykernel_2412/1835133302.py:6: SettingWithCopyWarning: \n",
      "A value is trying to be set on a copy of a slice from a DataFrame.\n",
      "Try using .loc[row_indexer,col_indexer] = value instead\n",
      "\n",
      "See the caveats in the documentation: https://pandas.pydata.org/pandas-docs/stable/user_guide/indexing.html#returning-a-view-versus-a-copy\n",
      "  adj_mat['date'] = pd.to_datetime(adj_mat['date'])\n"
     ]
    },
    {
     "data": {
      "text/html": [
       "<div>\n",
       "<style scoped>\n",
       "    .dataframe tbody tr th:only-of-type {\n",
       "        vertical-align: middle;\n",
       "    }\n",
       "\n",
       "    .dataframe tbody tr th {\n",
       "        vertical-align: top;\n",
       "    }\n",
       "\n",
       "    .dataframe thead th {\n",
       "        text-align: right;\n",
       "    }\n",
       "</style>\n",
       "<table border=\"1\" class=\"dataframe\">\n",
       "  <thead>\n",
       "    <tr style=\"text-align: right;\">\n",
       "      <th></th>\n",
       "      <th>cluster_strength</th>\n",
       "    </tr>\n",
       "    <tr>\n",
       "      <th>date</th>\n",
       "      <th></th>\n",
       "    </tr>\n",
       "  </thead>\n",
       "  <tbody>\n",
       "    <tr>\n",
       "      <th>2021-10-24</th>\n",
       "      <td>1.0</td>\n",
       "    </tr>\n",
       "    <tr>\n",
       "      <th>2021-10-25</th>\n",
       "      <td>1.0</td>\n",
       "    </tr>\n",
       "    <tr>\n",
       "      <th>2021-10-26</th>\n",
       "      <td>1.0</td>\n",
       "    </tr>\n",
       "    <tr>\n",
       "      <th>2021-10-27</th>\n",
       "      <td>1.0</td>\n",
       "    </tr>\n",
       "    <tr>\n",
       "      <th>2021-10-28</th>\n",
       "      <td>1.0</td>\n",
       "    </tr>\n",
       "    <tr>\n",
       "      <th>2021-10-29</th>\n",
       "      <td>1.0</td>\n",
       "    </tr>\n",
       "    <tr>\n",
       "      <th>2021-10-30</th>\n",
       "      <td>1.0</td>\n",
       "    </tr>\n",
       "    <tr>\n",
       "      <th>2021-10-31</th>\n",
       "      <td>1.0</td>\n",
       "    </tr>\n",
       "    <tr>\n",
       "      <th>2021-11-01</th>\n",
       "      <td>1.0</td>\n",
       "    </tr>\n",
       "    <tr>\n",
       "      <th>2021-11-02</th>\n",
       "      <td>1.0</td>\n",
       "    </tr>\n",
       "    <tr>\n",
       "      <th>2021-11-03</th>\n",
       "      <td>1.0</td>\n",
       "    </tr>\n",
       "    <tr>\n",
       "      <th>2021-11-04</th>\n",
       "      <td>1.0</td>\n",
       "    </tr>\n",
       "    <tr>\n",
       "      <th>2021-11-05</th>\n",
       "      <td>1.0</td>\n",
       "    </tr>\n",
       "    <tr>\n",
       "      <th>2021-11-06</th>\n",
       "      <td>1.0</td>\n",
       "    </tr>\n",
       "    <tr>\n",
       "      <th>2021-11-07</th>\n",
       "      <td>1.0</td>\n",
       "    </tr>\n",
       "    <tr>\n",
       "      <th>2021-11-08</th>\n",
       "      <td>1.0</td>\n",
       "    </tr>\n",
       "    <tr>\n",
       "      <th>2021-11-09</th>\n",
       "      <td>1.0</td>\n",
       "    </tr>\n",
       "    <tr>\n",
       "      <th>2021-11-10</th>\n",
       "      <td>1.0</td>\n",
       "    </tr>\n",
       "    <tr>\n",
       "      <th>2021-11-11</th>\n",
       "      <td>1.0</td>\n",
       "    </tr>\n",
       "    <tr>\n",
       "      <th>2021-11-12</th>\n",
       "      <td>1.0</td>\n",
       "    </tr>\n",
       "    <tr>\n",
       "      <th>2021-11-13</th>\n",
       "      <td>1.0</td>\n",
       "    </tr>\n",
       "    <tr>\n",
       "      <th>2021-11-14</th>\n",
       "      <td>1.0</td>\n",
       "    </tr>\n",
       "    <tr>\n",
       "      <th>2021-11-20</th>\n",
       "      <td>1.0</td>\n",
       "    </tr>\n",
       "    <tr>\n",
       "      <th>2021-11-21</th>\n",
       "      <td>1.0</td>\n",
       "    </tr>\n",
       "    <tr>\n",
       "      <th>2021-11-22</th>\n",
       "      <td>1.0</td>\n",
       "    </tr>\n",
       "    <tr>\n",
       "      <th>2021-11-23</th>\n",
       "      <td>1.0</td>\n",
       "    </tr>\n",
       "    <tr>\n",
       "      <th>2021-11-24</th>\n",
       "      <td>1.0</td>\n",
       "    </tr>\n",
       "    <tr>\n",
       "      <th>2021-11-25</th>\n",
       "      <td>1.0</td>\n",
       "    </tr>\n",
       "    <tr>\n",
       "      <th>2021-11-26</th>\n",
       "      <td>1.0</td>\n",
       "    </tr>\n",
       "    <tr>\n",
       "      <th>2021-11-27</th>\n",
       "      <td>1.0</td>\n",
       "    </tr>\n",
       "    <tr>\n",
       "      <th>2021-11-28</th>\n",
       "      <td>1.0</td>\n",
       "    </tr>\n",
       "    <tr>\n",
       "      <th>2021-11-29</th>\n",
       "      <td>1.0</td>\n",
       "    </tr>\n",
       "    <tr>\n",
       "      <th>2021-11-30</th>\n",
       "      <td>1.0</td>\n",
       "    </tr>\n",
       "    <tr>\n",
       "      <th>2021-12-01</th>\n",
       "      <td>1.0</td>\n",
       "    </tr>\n",
       "    <tr>\n",
       "      <th>2021-12-02</th>\n",
       "      <td>1.0</td>\n",
       "    </tr>\n",
       "    <tr>\n",
       "      <th>2021-12-03</th>\n",
       "      <td>1.0</td>\n",
       "    </tr>\n",
       "    <tr>\n",
       "      <th>2021-12-04</th>\n",
       "      <td>1.0</td>\n",
       "    </tr>\n",
       "    <tr>\n",
       "      <th>2021-12-05</th>\n",
       "      <td>1.0</td>\n",
       "    </tr>\n",
       "    <tr>\n",
       "      <th>2021-12-06</th>\n",
       "      <td>1.0</td>\n",
       "    </tr>\n",
       "    <tr>\n",
       "      <th>2021-12-07</th>\n",
       "      <td>1.0</td>\n",
       "    </tr>\n",
       "    <tr>\n",
       "      <th>2021-12-08</th>\n",
       "      <td>1.0</td>\n",
       "    </tr>\n",
       "    <tr>\n",
       "      <th>2021-12-09</th>\n",
       "      <td>1.0</td>\n",
       "    </tr>\n",
       "    <tr>\n",
       "      <th>2021-12-10</th>\n",
       "      <td>1.0</td>\n",
       "    </tr>\n",
       "    <tr>\n",
       "      <th>2021-12-11</th>\n",
       "      <td>1.0</td>\n",
       "    </tr>\n",
       "    <tr>\n",
       "      <th>2021-12-12</th>\n",
       "      <td>1.0</td>\n",
       "    </tr>\n",
       "    <tr>\n",
       "      <th>2021-12-13</th>\n",
       "      <td>1.0</td>\n",
       "    </tr>\n",
       "    <tr>\n",
       "      <th>2021-12-14</th>\n",
       "      <td>1.0</td>\n",
       "    </tr>\n",
       "    <tr>\n",
       "      <th>2021-12-15</th>\n",
       "      <td>1.0</td>\n",
       "    </tr>\n",
       "    <tr>\n",
       "      <th>2021-12-16</th>\n",
       "      <td>1.0</td>\n",
       "    </tr>\n",
       "    <tr>\n",
       "      <th>2021-12-17</th>\n",
       "      <td>1.0</td>\n",
       "    </tr>\n",
       "    <tr>\n",
       "      <th>2021-12-18</th>\n",
       "      <td>1.0</td>\n",
       "    </tr>\n",
       "    <tr>\n",
       "      <th>2021-12-19</th>\n",
       "      <td>1.0</td>\n",
       "    </tr>\n",
       "    <tr>\n",
       "      <th>2021-12-20</th>\n",
       "      <td>1.0</td>\n",
       "    </tr>\n",
       "    <tr>\n",
       "      <th>2021-12-21</th>\n",
       "      <td>1.0</td>\n",
       "    </tr>\n",
       "    <tr>\n",
       "      <th>2021-12-22</th>\n",
       "      <td>1.0</td>\n",
       "    </tr>\n",
       "    <tr>\n",
       "      <th>2021-12-23</th>\n",
       "      <td>1.0</td>\n",
       "    </tr>\n",
       "    <tr>\n",
       "      <th>2021-12-24</th>\n",
       "      <td>1.0</td>\n",
       "    </tr>\n",
       "    <tr>\n",
       "      <th>2021-12-25</th>\n",
       "      <td>1.0</td>\n",
       "    </tr>\n",
       "    <tr>\n",
       "      <th>2021-12-26</th>\n",
       "      <td>1.0</td>\n",
       "    </tr>\n",
       "  </tbody>\n",
       "</table>\n",
       "</div>"
      ],
      "text/plain": [
       "            cluster_strength\n",
       "date                        \n",
       "2021-10-24               1.0\n",
       "2021-10-25               1.0\n",
       "2021-10-26               1.0\n",
       "2021-10-27               1.0\n",
       "2021-10-28               1.0\n",
       "2021-10-29               1.0\n",
       "2021-10-30               1.0\n",
       "2021-10-31               1.0\n",
       "2021-11-01               1.0\n",
       "2021-11-02               1.0\n",
       "2021-11-03               1.0\n",
       "2021-11-04               1.0\n",
       "2021-11-05               1.0\n",
       "2021-11-06               1.0\n",
       "2021-11-07               1.0\n",
       "2021-11-08               1.0\n",
       "2021-11-09               1.0\n",
       "2021-11-10               1.0\n",
       "2021-11-11               1.0\n",
       "2021-11-12               1.0\n",
       "2021-11-13               1.0\n",
       "2021-11-14               1.0\n",
       "2021-11-20               1.0\n",
       "2021-11-21               1.0\n",
       "2021-11-22               1.0\n",
       "2021-11-23               1.0\n",
       "2021-11-24               1.0\n",
       "2021-11-25               1.0\n",
       "2021-11-26               1.0\n",
       "2021-11-27               1.0\n",
       "2021-11-28               1.0\n",
       "2021-11-29               1.0\n",
       "2021-11-30               1.0\n",
       "2021-12-01               1.0\n",
       "2021-12-02               1.0\n",
       "2021-12-03               1.0\n",
       "2021-12-04               1.0\n",
       "2021-12-05               1.0\n",
       "2021-12-06               1.0\n",
       "2021-12-07               1.0\n",
       "2021-12-08               1.0\n",
       "2021-12-09               1.0\n",
       "2021-12-10               1.0\n",
       "2021-12-11               1.0\n",
       "2021-12-12               1.0\n",
       "2021-12-13               1.0\n",
       "2021-12-14               1.0\n",
       "2021-12-15               1.0\n",
       "2021-12-16               1.0\n",
       "2021-12-17               1.0\n",
       "2021-12-18               1.0\n",
       "2021-12-19               1.0\n",
       "2021-12-20               1.0\n",
       "2021-12-21               1.0\n",
       "2021-12-22               1.0\n",
       "2021-12-23               1.0\n",
       "2021-12-24               1.0\n",
       "2021-12-25               1.0\n",
       "2021-12-26               1.0"
      ]
     },
     "execution_count": 191,
     "metadata": {},
     "output_type": "execute_result"
    }
   ],
   "source": [
    "cluster_strength(adj_mat,'ETH')"
   ]
  },
  {
   "cell_type": "code",
   "execution_count": 170,
   "id": "a8af7d4b",
   "metadata": {},
   "outputs": [
    {
     "name": "stderr",
     "output_type": "stream",
     "text": [
      "C:\\Users\\jgier\\AppData\\Local\\Temp/ipykernel_2412/3169939108.py:4: SettingWithCopyWarning: \n",
      "A value is trying to be set on a copy of a slice from a DataFrame.\n",
      "Try using .loc[row_indexer,col_indexer] = value instead\n",
      "\n",
      "See the caveats in the documentation: https://pandas.pydata.org/pandas-docs/stable/user_guide/indexing.html#returning-a-view-versus-a-copy\n",
      "  adj_mat['cluster_strength'] = adj_mat['neighbours_cluster'] / adj_mat['neighbours']\n",
      "C:\\Users\\jgier\\AppData\\Local\\Temp/ipykernel_2412/3169939108.py:6: SettingWithCopyWarning: \n",
      "A value is trying to be set on a copy of a slice from a DataFrame.\n",
      "Try using .loc[row_indexer,col_indexer] = value instead\n",
      "\n",
      "See the caveats in the documentation: https://pandas.pydata.org/pandas-docs/stable/user_guide/indexing.html#returning-a-view-versus-a-copy\n",
      "  adj_mat['date'] = pd.to_datetime(adj_mat['date'])\n"
     ]
    },
    {
     "data": {
      "text/plain": [
       "<AxesSubplot:xlabel='date,cluster_src'>"
      ]
     },
     "execution_count": 170,
     "metadata": {},
     "output_type": "execute_result"
    },
    {
     "data": {
      "image/png": "[encoded data removed]",
      "text/plain": [
       "<Figure size 432x288 with 1 Axes>"
      ]
     },
     "metadata": {
      "needs_background": "light"
     },
     "output_type": "display_data"
    }
   ],
   "source": [
    "cluster_strength(adj_mat,'ETH').plot()"
   ]
  },
  {
   "cell_type": "code",
   "execution_count": 171,
   "id": "32ba97b0",
   "metadata": {},
   "outputs": [
    {
     "name": "stderr",
     "output_type": "stream",
     "text": [
      "C:\\Users\\jgier\\AppData\\Local\\Temp/ipykernel_2412/3169939108.py:4: SettingWithCopyWarning: \n",
      "A value is trying to be set on a copy of a slice from a DataFrame.\n",
      "Try using .loc[row_indexer,col_indexer] = value instead\n",
      "\n",
      "See the caveats in the documentation: https://pandas.pydata.org/pandas-docs/stable/user_guide/indexing.html#returning-a-view-versus-a-copy\n",
      "  adj_mat['cluster_strength'] = adj_mat['neighbours_cluster'] / adj_mat['neighbours']\n",
      "C:\\Users\\jgier\\AppData\\Local\\Temp/ipykernel_2412/3169939108.py:6: SettingWithCopyWarning: \n",
      "A value is trying to be set on a copy of a slice from a DataFrame.\n",
      "Try using .loc[row_indexer,col_indexer] = value instead\n",
      "\n",
      "See the caveats in the documentation: https://pandas.pydata.org/pandas-docs/stable/user_guide/indexing.html#returning-a-view-versus-a-copy\n",
      "  adj_mat['date'] = pd.to_datetime(adj_mat['date'])\n"
     ]
    },
    {
     "data": {
      "text/plain": [
       "array([[<AxesSubplot:title={'center':'cluster_strength'}>]], dtype=object)"
      ]
     },
     "execution_count": 171,
     "metadata": {},
     "output_type": "execute_result"
    },
    {
     "data": {
      "image/png": "[encoded data removed]",
      "text/plain": [
       "<Figure size 432x288 with 1 Axes>"
      ]
     },
     "metadata": {
      "needs_background": "light"
     },
     "output_type": "display_data"
    }
   ],
   "source": [
    "cluster_strength(adj_mat,'ETH').hist()"
   ]
  },
  {
   "cell_type": "code",
   "execution_count": 133,
   "id": "986f6e50",
   "metadata": {
    "code_folding": []
   },
   "outputs": [],
   "source": [
    "def merge_dataframe(df_ta, news_df, cs_day):\n",
    "    df_ta = df_ta.rename(columns={'Date':'date'})\n",
    "\n",
    "\n",
    "    df_ta['date'] = pd.to_datetime(df_ta['date'])\n",
    "    news_df['date'] = pd.to_datetime(news_df['date'])\n",
    "    cs_day = cs_day.reset_index()\n",
    "    cs_day['date'] = pd.to_datetime(cs_day['date'])\n",
    "    \n",
    "    merge_1 = df_ta.merge(cs_day, on='date')\n",
    "    merge_2 = merge_1.merge(news_df, on='date')\n",
    "    merge_2\n",
    "    \n",
    "    merge_2.set_index('date', inplace=True)\n",
    "    merge_2 = merge_2['2021-11-05':'2021-12-26']\n",
    "\n",
    "    merged_cols = ['Close' ,'calculated_average', 'sentiment_bin', 'cluster_strength']\n",
    "    df_final = merge_2[merged_cols]\n",
    "\n",
    "    return df_final"
   ]
  },
  {
   "cell_type": "code",
   "execution_count": 134,
   "id": "95e760cf",
   "metadata": {
    "code_folding": []
   },
   "outputs": [],
   "source": [
    "def calculate_model(df_final):\n",
    "    df = df_final.reset_index().copy()\n",
    "\n",
    "    df = df[df.sentiment_bin != 'void']\n",
    "    df = df[df.cluster_strength != 'void']\n",
    "\n",
    "    df['calculated_average'] = pd.to_numeric(df['calculated_average'])\n",
    "    df['sentiment_bin'] = pd.to_numeric(df['sentiment_bin'])\n",
    "    df['cluster_strength'] = pd.to_numeric(df['cluster_strength'])\n",
    "\n",
    "    # sum of scores\n",
    "    df['x'] = df['sentiment_bin'] + df['calculated_average']\n",
    "\n",
    "    # payoffs\n",
    "    df['a'] = 0\n",
    "\n",
    "    for index, row in df.iterrows():\n",
    "        df.loc[index, 'a'] = 1 / (1 + math.exp( -(df.loc[index, 'x'])))\n",
    "\n",
    "    df['b'] = 1 - df['a']\n",
    "\n",
    "    # threshold\n",
    "    df['q'] = df['b'] / (df['a'] + df['b'])\n",
    "\n",
    "    df['1-q'] = 1 - df['q']\n",
    "\n",
    "    df_result = df[['date', 'a', 'cluster_strength', 'Close']].set_index('date')\n",
    "    \n",
    "    return df_result"
   ]
  },
  {
   "cell_type": "code",
   "execution_count": 135,
   "id": "6e438e7d",
   "metadata": {},
   "outputs": [],
   "source": [
    "def plot_figure(df_result, query):\n",
    "    X = df_result.index.values\n",
    "    y_cluster_strength = df_result['cluster_strength']\n",
    "    y_a = df_result['a']\n",
    "    y_close = df_result['Close']\n",
    "    \n",
    "    fig, ax = plt.subplots(figsize=(14, 6))\n",
    "    fig.subplots_adjust(right=0.75)\n",
    "\n",
    "    twin2 = ax.twinx()\n",
    "\n",
    "    p1, = ax.plot(X, y_cluster_strength, label = \"Cluster Strength\", linewidth=1.0, color=\"blue\")\n",
    "    p2, = ax.plot(X, y_a, label = \"a\", linewidth=1.0, color=\"red\")\n",
    "    p3, = twin2.plot(X, y_close, '--',label = \"Currency close (USD)\", linewidth=0.75, color=\"green\")\n",
    "\n",
    "\n",
    "    ax.set_xlabel(\"Date\")\n",
    "    twin2.set_ylabel(\"Currency Close (USD)\")\n",
    "\n",
    "    ax.yaxis.label.set_color(p1.get_color())\n",
    "    twin2.yaxis.label.set_color(p3.get_color())\n",
    "\n",
    "    tkw = dict(size=4, width=1.5)\n",
    "    twin2.tick_params(axis='y', colors=p3.get_color(), **tkw)\n",
    "    ax.tick_params(axis='x', **tkw)\n",
    "\n",
    "    ax.legend(handles=[p1, p2, p3])\n",
    "    ax.set_title(query)\n",
    "    plt.savefig('figures/'+query+'.png')\n",
    "    plt.show()"
   ]
  },
  {
   "cell_type": "markdown",
   "id": "3992fa28",
   "metadata": {},
   "source": [
    "## Whole Model function"
   ]
  },
  {
   "cell_type": "code",
   "execution_count": 146,
   "id": "11ed7c27",
   "metadata": {},
   "outputs": [],
   "source": [
    "def model(adj_mat, df_ta, news_df, query):\n",
    "    cs_day = cluster_strength(adj_mat, query)\n",
    "    df_final = merge_dataframe(df_ta, news_df, cs_day)\n",
    "    df_result = calculate_model(df_final)\n",
    "    plot_figure(df_result, query)\n",
    "    \n",
    "    return df_result"
   ]
  },
  {
   "cell_type": "markdown",
   "id": "e9054ce4",
   "metadata": {},
   "source": [
    "# Loop"
   ]
  },
  {
   "cell_type": "code",
   "execution_count": 154,
   "id": "d659bd93",
   "metadata": {},
   "outputs": [
    {
     "name": "stderr",
     "output_type": "stream",
     "text": [
      "C:\\Users\\jgier\\AppData\\Local\\Temp/ipykernel_2412/1559817952.py:6: SettingWithCopyWarning: \n",
      "A value is trying to be set on a copy of a slice from a DataFrame.\n",
      "Try using .loc[row_indexer,col_indexer] = value instead\n",
      "\n",
      "See the caveats in the documentation: https://pandas.pydata.org/pandas-docs/stable/user_guide/indexing.html#returning-a-view-versus-a-copy\n",
      "  news_df['date'] = pd.to_datetime(news_df['date'])\n"
     ]
    },
    {
     "data": {
      "image/png": "[encoded data removed]",
      "text/plain": [
       "<Figure size 1008x432 with 2 Axes>"
      ]
     },
     "metadata": {
      "needs_background": "light"
     },
     "output_type": "display_data"
    }
   ],
   "source": [
    "model_BTC = model(adj_mat=adj_mat_BTC, df_ta=df_ta_BTC, news_df=news_df_BTC, query='BTC')"
   ]
  },
  {
   "cell_type": "code",
   "execution_count": 148,
   "id": "8e08596d",
   "metadata": {},
   "outputs": [
    {
     "name": "stderr",
     "output_type": "stream",
     "text": [
      "C:\\Users\\jgier\\AppData\\Local\\Temp/ipykernel_2412/1559817952.py:6: SettingWithCopyWarning: \n",
      "A value is trying to be set on a copy of a slice from a DataFrame.\n",
      "Try using .loc[row_indexer,col_indexer] = value instead\n",
      "\n",
      "See the caveats in the documentation: https://pandas.pydata.org/pandas-docs/stable/user_guide/indexing.html#returning-a-view-versus-a-copy\n",
      "  news_df['date'] = pd.to_datetime(news_df['date'])\n"
     ]
    },
    {
     "data": {
      "image/png": "[encoded data removed]",
      "text/plain": [
       "<Figure size 1008x432 with 2 Axes>"
      ]
     },
     "metadata": {
      "needs_background": "light"
     },
     "output_type": "display_data"
    }
   ],
   "source": [
    "model_SHIB = model(adj_mat=adj_mat_SHIB, df_ta=df_ta_SHIB, news_df=news_df_SHIB, query='SHIB')"
   ]
  },
  {
   "cell_type": "code",
   "execution_count": 155,
   "id": "ef74bd33",
   "metadata": {},
   "outputs": [
    {
     "name": "stderr",
     "output_type": "stream",
     "text": [
      "C:\\Users\\jgier\\AppData\\Local\\Temp/ipykernel_2412/1559817952.py:6: SettingWithCopyWarning: \n",
      "A value is trying to be set on a copy of a slice from a DataFrame.\n",
      "Try using .loc[row_indexer,col_indexer] = value instead\n",
      "\n",
      "See the caveats in the documentation: https://pandas.pydata.org/pandas-docs/stable/user_guide/indexing.html#returning-a-view-versus-a-copy\n",
      "  news_df['date'] = pd.to_datetime(news_df['date'])\n"
     ]
    },
    {
     "data": {
      "image/png": "[encoded data removed]",
      "text/plain": [
       "<Figure size 1008x432 with 2 Axes>"
      ]
     },
     "metadata": {
      "needs_background": "light"
     },
     "output_type": "display_data"
    }
   ],
   "source": [
    "model_SOL = model(adj_mat=adj_mat_SOL, df_ta=df_ta_SOL, news_df=news_df_SOL, query='SOL')"
   ]
  },
  {
   "cell_type": "code",
   "execution_count": 151,
   "id": "b8fbc8ab",
   "metadata": {},
   "outputs": [
    {
     "name": "stderr",
     "output_type": "stream",
     "text": [
      "C:\\Users\\jgier\\AppData\\Local\\Temp/ipykernel_2412/1559817952.py:6: SettingWithCopyWarning: \n",
      "A value is trying to be set on a copy of a slice from a DataFrame.\n",
      "Try using .loc[row_indexer,col_indexer] = value instead\n",
      "\n",
      "See the caveats in the documentation: https://pandas.pydata.org/pandas-docs/stable/user_guide/indexing.html#returning-a-view-versus-a-copy\n",
      "  news_df['date'] = pd.to_datetime(news_df['date'])\n"
     ]
    },
    {
     "data": {
      "image/png": "[encoded data removed]",
      "text/plain": [
       "<Figure size 1008x432 with 2 Axes>"
      ]
     },
     "metadata": {
      "needs_background": "light"
     },
     "output_type": "display_data"
    }
   ],
   "source": [
    "model_ETH = model(adj_mat=adj_mat_ETH, df_ta=df_ta_ETH, news_df=news_df_ETH, query='ETH')"
   ]
  },
  {
   "cell_type": "code",
   "execution_count": 152,
   "id": "4cb8de2a",
   "metadata": {},
   "outputs": [
    {
     "name": "stderr",
     "output_type": "stream",
     "text": [
      "C:\\Users\\jgier\\AppData\\Local\\Temp/ipykernel_2412/1559817952.py:6: SettingWithCopyWarning: \n",
      "A value is trying to be set on a copy of a slice from a DataFrame.\n",
      "Try using .loc[row_indexer,col_indexer] = value instead\n",
      "\n",
      "See the caveats in the documentation: https://pandas.pydata.org/pandas-docs/stable/user_guide/indexing.html#returning-a-view-versus-a-copy\n",
      "  news_df['date'] = pd.to_datetime(news_df['date'])\n"
     ]
    },
    {
     "data": {
      "image/png": "[encoded data removed]",
      "text/plain": [
       "<Figure size 1008x432 with 2 Axes>"
      ]
     },
     "metadata": {
      "needs_background": "light"
     },
     "output_type": "display_data"
    }
   ],
   "source": [
    "model_LINK = model(adj_mat=adj_mat_LINK, df_ta=df_ta_LINK, news_df=news_df_LINK, query='LINK')"
   ]
  },
  {
   "cell_type": "code",
   "execution_count": 153,
   "id": "f456965a",
   "metadata": {},
   "outputs": [
    {
     "name": "stderr",
     "output_type": "stream",
     "text": [
      "C:\\Users\\jgier\\AppData\\Local\\Temp/ipykernel_2412/1559817952.py:6: SettingWithCopyWarning: \n",
      "A value is trying to be set on a copy of a slice from a DataFrame.\n",
      "Try using .loc[row_indexer,col_indexer] = value instead\n",
      "\n",
      "See the caveats in the documentation: https://pandas.pydata.org/pandas-docs/stable/user_guide/indexing.html#returning-a-view-versus-a-copy\n",
      "  news_df['date'] = pd.to_datetime(news_df['date'])\n"
     ]
    },
    {
     "data": {
      "image/png": "[encoded data removed]",
      "text/plain": [
       "<Figure size 1008x432 with 2 Axes>"
      ]
     },
     "metadata": {
      "needs_background": "light"
     },
     "output_type": "display_data"
    }
   ],
   "source": [
    "model_DOGE = model(adj_mat=adj_mat_DOGE, df_ta=df_ta_DOGE, news_df=news_df_DOGE, query='Dogecoin')"
   ]
  },
  {
   "cell_type": "code",
   "execution_count": 49,
   "id": "1191784a",
   "metadata": {},
   "outputs": [
    {
     "name": "stderr",
     "output_type": "stream",
     "text": [
      "C:\\Users\\jgier\\AppData\\Local\\Temp/ipykernel_2412/3520623250.py:2: SettingWithCopyWarning: \n",
      "A value is trying to be set on a copy of a slice from a DataFrame.\n",
      "Try using .loc[row_indexer,col_indexer] = value instead\n",
      "\n",
      "See the caveats in the documentation: https://pandas.pydata.org/pandas-docs/stable/user_guide/indexing.html#returning-a-view-versus-a-copy\n",
      "  adj_mat['cluster_strength'] = adj_mat['neighbours_cluster'] / adj_mat['neighbours']\n",
      "C:\\Users\\jgier\\AppData\\Local\\Temp/ipykernel_2412/3520623250.py:4: SettingWithCopyWarning: \n",
      "A value is trying to be set on a copy of a slice from a DataFrame.\n",
      "Try using .loc[row_indexer,col_indexer] = value instead\n",
      "\n",
      "See the caveats in the documentation: https://pandas.pydata.org/pandas-docs/stable/user_guide/indexing.html#returning-a-view-versus-a-copy\n",
      "  adj_mat['date'] = pd.to_datetime(adj_mat['date'])\n",
      "C:\\Users\\jgier\\AppData\\Local\\Temp/ipykernel_2412/1559817952.py:6: SettingWithCopyWarning: \n",
      "A value is trying to be set on a copy of a slice from a DataFrame.\n",
      "Try using .loc[row_indexer,col_indexer] = value instead\n",
      "\n",
      "See the caveats in the documentation: https://pandas.pydata.org/pandas-docs/stable/user_guide/indexing.html#returning-a-view-versus-a-copy\n",
      "  news_df['date'] = pd.to_datetime(news_df['date'])\n"
     ]
    },
    {
     "data": {
      "image/png": "[encoded data removed]",
      "text/plain": [
       "<Figure size 1008x432 with 2 Axes>"
      ]
     },
     "metadata": {
      "needs_background": "light"
     },
     "output_type": "display_data"
    }
   ],
   "source": [
    "model_SHIB = model(adj_mat=adj_mat_SHIB, df_ta=df_ta_SHIB, news_df=news_df_SHIB, query='Shibainu')"
   ]
  }
 ],
 "metadata": {
  "kernelspec": {
   "display_name": "Python 3 (ipykernel)",
   "language": "python",
   "name": "python3"
  },
  "language_info": {
   "codemirror_mode": {
    "name": "ipython",
    "version": 3
   },
   "file_extension": ".py",
   "mimetype": "text/x-python",
   "name": "python",
   "nbconvert_exporter": "python",
   "pygments_lexer": "ipython3",
   "version": "3.9.7"
  },
  "toc": {
   "base_numbering": 1,
   "nav_menu": {},
   "number_sections": true,
   "sideBar": true,
   "skip_h1_title": false,
   "title_cell": "Table of Contents",
   "title_sidebar": "Contents",
   "toc_cell": false,
   "toc_position": {},
   "toc_section_display": true,
   "toc_window_display": false
  },
  "varInspector": {
   "cols": {
    "lenName": 16,
    "lenType": 16,
    "lenVar": 40
   },
   "kernels_config": {
    "python": {
     "delete_cmd_postfix": "",
     "delete_cmd_prefix": "del ",
     "library": "var_list.py",
     "varRefreshCmd": "print(var_dic_list())"
    },
    "r": {
     "delete_cmd_postfix": ") ",
     "delete_cmd_prefix": "rm(",
     "library": "var_list.r",
     "varRefreshCmd": "cat(var_dic_list()) "
    }
   },
   "types_to_exclude": [
    "module",
    "function",
    "builtin_function_or_method",
    "instance",
    "_Feature"
   ],
   "window_display": false
  }
 },
 "nbformat": 4,
 "nbformat_minor": 5
}
