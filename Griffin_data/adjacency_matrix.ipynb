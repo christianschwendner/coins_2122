{
 "cells": [
  {
   "cell_type": "markdown",
   "id": "bd3e1658",
   "metadata": {},
   "source": [
    "# Imports"
   ]
  },
  {
   "cell_type": "code",
   "execution_count": 1,
   "id": "9cc66083",
   "metadata": {},
   "outputs": [],
   "source": [
    "import pandas as pd\n",
    "import"
   ]
  },
  {
   "cell_type": "code",
   "execution_count": 2,
   "id": "5d9c910b",
   "metadata": {},
   "outputs": [],
   "source": [
    "user_to_user_time_series = pd.read_csv('KeyWords_New/user_to_user_time_series_All.csv', index_col='Unnamed: 0')"
   ]
  },
  {
   "cell_type": "markdown",
   "id": "eed522fb",
   "metadata": {},
   "source": [
    "# User dataframe"
   ]
  },
  {
   "cell_type": "code",
   "execution_count": 5,
   "id": "99d85396",
   "metadata": {},
   "outputs": [],
   "source": [
    "user_dst = user_to_user_time_series['dst']\n",
    "user_src = user_to_user_time_series['src']\n",
    "\n",
    "user_df = pd.concat([user_dst, user_src], axis=0)\n",
    "user_df.drop_duplicates(inplace=True)\n",
    "user_df = user_df.to_frame(name='id')"
   ]
  },
  {
   "cell_type": "code",
   "execution_count": 6,
   "id": "5c7e4f00",
   "metadata": {},
   "outputs": [
    {
     "data": {
      "text/html": [
       "<div>\n",
       "<style scoped>\n",
       "    .dataframe tbody tr th:only-of-type {\n",
       "        vertical-align: middle;\n",
       "    }\n",
       "\n",
       "    .dataframe tbody tr th {\n",
       "        vertical-align: top;\n",
       "    }\n",
       "\n",
       "    .dataframe thead th {\n",
       "        text-align: right;\n",
       "    }\n",
       "</style>\n",
       "<table border=\"1\" class=\"dataframe\">\n",
       "  <thead>\n",
       "    <tr style=\"text-align: right;\">\n",
       "      <th></th>\n",
       "      <th>id</th>\n",
       "    </tr>\n",
       "  </thead>\n",
       "  <tbody>\n",
       "    <tr>\n",
       "      <th>0</th>\n",
       "      <td>a7madness1</td>\n",
       "    </tr>\n",
       "    <tr>\n",
       "      <th>1</th>\n",
       "      <td>jrbrodin</td>\n",
       "    </tr>\n",
       "    <tr>\n",
       "      <th>2</th>\n",
       "      <td>mauri_0fficial</td>\n",
       "    </tr>\n",
       "    <tr>\n",
       "      <th>3</th>\n",
       "      <td>declanjoyce9</td>\n",
       "    </tr>\n",
       "    <tr>\n",
       "      <th>4</th>\n",
       "      <td>akiramakkuro</td>\n",
       "    </tr>\n",
       "    <tr>\n",
       "      <th>...</th>\n",
       "      <td>...</td>\n",
       "    </tr>\n",
       "    <tr>\n",
       "      <th>390546</th>\n",
       "      <td>scamp5050</td>\n",
       "    </tr>\n",
       "    <tr>\n",
       "      <th>390549</th>\n",
       "      <td>mary_ac_</td>\n",
       "    </tr>\n",
       "    <tr>\n",
       "      <th>390550</th>\n",
       "      <td>goatx16s</td>\n",
       "    </tr>\n",
       "    <tr>\n",
       "      <th>390552</th>\n",
       "      <td>arthur_savary1</td>\n",
       "    </tr>\n",
       "    <tr>\n",
       "      <th>390554</th>\n",
       "      <td>mech_gangsta</td>\n",
       "    </tr>\n",
       "  </tbody>\n",
       "</table>\n",
       "<p>225002 rows × 1 columns</p>\n",
       "</div>"
      ],
      "text/plain": [
       "                    id\n",
       "0           a7madness1\n",
       "1             jrbrodin\n",
       "2       mauri_0fficial\n",
       "3         declanjoyce9\n",
       "4         akiramakkuro\n",
       "...                ...\n",
       "390546       scamp5050\n",
       "390549        mary_ac_\n",
       "390550        goatx16s\n",
       "390552  arthur_savary1\n",
       "390554    mech_gangsta\n",
       "\n",
       "[225002 rows x 1 columns]"
      ]
     },
     "execution_count": 6,
     "metadata": {},
     "output_type": "execute_result"
    }
   ],
   "source": [
    "user_df"
   ]
  },
  {
   "cell_type": "markdown",
   "id": "2da3f320",
   "metadata": {},
   "source": [
    "# Adjacency Matrix"
   ]
  },
  {
   "cell_type": "markdown",
   "id": "03c9bbe3",
   "metadata": {},
   "source": [
    "x-axis = dst\n",
    "\n",
    "y-axis = src\n",
    "\n",
    "z-axis = time_series"
   ]
  },
  {
   "cell_type": "code",
   "execution_count": 10,
   "id": "eccf8ee9",
   "metadata": {},
   "outputs": [],
   "source": [
    "# build adj_mat construct\n",
    "# adj_mat_df = user_df.copy()\n",
    "adj_mat_df = user_df[:int(len(user_df)*0.01)]\n",
    "adj_mat_df.set_index(\"id\", inplace=True)\n",
    "\n",
    "# transpose\n",
    "adj_mat_df_cols = adj_mat_df.transpose()\n",
    "adj_mat_df_cols[\"name\"] = user_df[\"id\"]\n",
    "adj_mat_df_cols.set_index('name', inplace=True)"
   ]
  },
  {
   "cell_type": "code",
   "execution_count": 17,
   "id": "2285c846",
   "metadata": {},
   "outputs": [
    {
     "name": "stdout",
     "output_type": "stream",
     "text": [
      "<class 'pandas.core.frame.DataFrame'>\n",
      "Index: 225002 entries, a7madness1 to mech_gangsta\n",
      "Columns: 2250 entries, a7madness1 to mitmeti20619608\n",
      "dtypes: float64(2250)\n",
      "memory usage: 3.8+ GB\n"
     ]
    }
   ],
   "source": [
    "adj_mat_df_cols_filled = adj_mat_df_cols.fillna(int(0))\n",
    "adj_mat_df_cols_filled.info()"
   ]
  },
  {
   "cell_type": "code",
   "execution_count": 1,
   "id": "2a63c044",
   "metadata": {},
   "outputs": [
    {
     "ename": "NameError",
     "evalue": "name 'adj_mat_df_cols_filled' is not defined",
     "output_type": "error",
     "traceback": [
      "\u001b[1;31m---------------------------------------------------------------------------\u001b[0m",
      "\u001b[1;31mNameError\u001b[0m                                 Traceback (most recent call last)",
      "\u001b[1;32mC:\\Users\\SCHWEN~1\\AppData\\Local\\Temp/ipykernel_20404/1120558115.py\u001b[0m in \u001b[0;36m<module>\u001b[1;34m\u001b[0m\n\u001b[1;32m----> 1\u001b[1;33m \u001b[0madj_mat_df_cols_filled\u001b[0m\u001b[1;33m\u001b[0m\u001b[1;33m\u001b[0m\u001b[0m\n\u001b[0m",
      "\u001b[1;31mNameError\u001b[0m: name 'adj_mat_df_cols_filled' is not defined"
     ]
    }
   ],
   "source": [
    "adj_mat_df_cols_filled"
   ]
  },
  {
   "cell_type": "code",
   "execution_count": null,
   "id": "45d90003",
   "metadata": {},
   "outputs": [],
   "source": []
  },
  {
   "cell_type": "markdown",
   "id": "26273be2",
   "metadata": {},
   "source": [
    "## Looping"
   ]
  },
  {
   "cell_type": "code",
   "execution_count": null,
   "id": "a5228af8",
   "metadata": {},
   "outputs": [],
   "source": []
  }
 ],
 "metadata": {
  "kernelspec": {
   "display_name": "Python 3 (ipykernel)",
   "language": "python",
   "name": "python3"
  },
  "language_info": {
   "codemirror_mode": {
    "name": "ipython",
    "version": 3
   },
   "file_extension": ".py",
   "mimetype": "text/x-python",
   "name": "python",
   "nbconvert_exporter": "python",
   "pygments_lexer": "ipython3",
   "version": "3.8.12"
  },
  "toc": {
   "base_numbering": 1,
   "nav_menu": {},
   "number_sections": true,
   "sideBar": true,
   "skip_h1_title": false,
   "title_cell": "Table of Contents",
   "title_sidebar": "Contents",
   "toc_cell": false,
   "toc_position": {},
   "toc_section_display": true,
   "toc_window_display": false
  },
  "varInspector": {
   "cols": {
    "lenName": 16,
    "lenType": 16,
    "lenVar": 40
   },
   "kernels_config": {
    "python": {
     "delete_cmd_postfix": "",
     "delete_cmd_prefix": "del ",
     "library": "var_list.py",
     "varRefreshCmd": "print(var_dic_list())"
    },
    "r": {
     "delete_cmd_postfix": ") ",
     "delete_cmd_prefix": "rm(",
     "library": "var_list.r",
     "varRefreshCmd": "cat(var_dic_list()) "
    }
   },
   "types_to_exclude": [
    "module",
    "function",
    "builtin_function_or_method",
    "instance",
    "_Feature"
   ],
   "window_display": false
  }
 },
 "nbformat": 4,
 "nbformat_minor": 5
}
